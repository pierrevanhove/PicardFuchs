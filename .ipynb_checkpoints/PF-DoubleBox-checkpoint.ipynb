{
 "cells": [
  {
   "cell_type": "markdown",
   "metadata": {},
   "source": [
    "<H3><center><b>Picard-Fuchs equation for the double box integral with four- and six-points</b></center></H3>\n",
    "$$\n",
    "\\int_{x_i\\geq0}{U\\over F^3} dx_1\\cdots dx_{7}\n",
    "$$\n",
    "$$\n",
    "𝑈=(𝑥_1+𝑥_2+𝑥_3)(𝑥_4+𝑥_5+𝑥_6)+(𝑥_1+𝑥_2+𝑥_3)𝑥_7+(𝑥_4+𝑥_5+𝑥_6)𝑥_7;\n",
    "$$"
   ]
  },
  {
   "cell_type": "code",
   "execution_count": 4,
   "metadata": {},
   "outputs": [],
   "source": [
    "from ore_algebra import *\n",
    "OA, z, Dz = DifferentialOperators(QQ, 'z')"
   ]
  },
  {
   "cell_type": "markdown",
   "metadata": {},
   "source": [
    "<center><b>4 points case</b></center>"
   ]
  },
  {
   "cell_type": "code",
   "execution_count": 1,
   "metadata": {},
   "outputs": [
    {
     "data": {
      "image/png": "[encoded data removed]",
      "text/plain": [
       "<IPython.core.display.Image object>"
      ]
     },
     "execution_count": 1,
     "metadata": {},
     "output_type": "execute_result"
    }
   ],
   "source": [
    "from IPython.display import Image\n",
    "Image(\"DoubleBox4pt.png\")"
   ]
  },
  {
   "cell_type": "markdown",
   "metadata": {},
   "source": [
    "$$F := (100*x1 + 4*x2 + 49*x3 + 25*x4 + 16*x5 + 100*x6 + 9*x7)*(x3*x5 + x4*x5 + x3*x6 + x4*x6 + x3*x7 + x4*x7 + x5*x7 + x6*x7 + x2*(x3 + x4 + x7) + x1*(x2 + x5 + x6 + x7)) - t*(81*x2*x3*x4 + 841*x1*x2*x5 + 841*x2*x3*x5 + 841*x2*x4*x5 + 81*x3*x4*x5 + 81*x3*x4*x6 + 169*x1*x5*x6 + 169*x3*x5*x6 + 169*x4*x5*x6 + 81*x3*x4*x7 + 841*x1*x5*x7 + 841*x2*x5*x7 + 16*x3*x5*x7 + 169*x4*x5*x7 + 81*x3*x6*x7 + 169*x5*x6*x7 + 7*x2*(x3*x6 + x6*x7 + x4*(x6 + x7)) + 1156*x3*(x2*x7 + x1*(x2 + x5 + x6 + x7)) + 7*x1*(x6*(x2 + x7) + x4*(x2 + x5 + x6 + x7)))$$"
   ]
  },
  {
   "cell_type": "code",
   "execution_count": 5,
   "metadata": {
    "scrolled": true
   },
   "outputs": [
    {
     "data": {
      "text/plain": [
       "[2,\n",
       " 26,\n",
       " (-301867829161822864075287236959953147297588762244659680378880000) * (alpha + 1)^2]"
      ]
     },
     "execution_count": 5,
     "metadata": {},
     "output_type": "execute_result"
    }
   ],
   "source": [
    "s = open(\"PF-DoubleBox-4pt-case1.txt\").readlines()[0]\n",
    "DoubleBox4ptcase1 = OA(s.replace(\"^\", \"**\").replace(\"t\", \"z\").replace(\"D\", \"Dz\"))\n",
    "[DoubleBox4ptcase1.order(),DoubleBox4ptcase1.degree(),DoubleBox4ptcase1.indicial_polynomial(z).factor()]"
   ]
  },
  {
   "cell_type": "code",
   "execution_count": 22,
   "metadata": {},
   "outputs": [
    {
     "data": {
      "text/plain": [
       "f(z) = _C1/(87828541633*z^4+4686985807728*z^3+73468869056216*z^2-335421433145136*z+3673979111232)^(1/2)/z*hypergeom([1/4, 3/4],[1],3993228864*z*(72828*z^2+2408790*z+264673)*(49*z^2-7140*z+180900)*(994903*z^2+55355160*z+6969456)/(87828541633*z^4+4686985807728*z^3+73468869056216*z^2-335421433145136*z+3673979111232)^2)+_C2/(87828541633*z^4+4686985807728*z^3+73468869056216*z^2-335421433145136*z+3673979111232)^(1/2)/z*hypergeom([1/4, 3/4],[1],(7713852725379614306689*z^8+809124764466640890553824*z^7+35681287071074735138962480*z^6+734464496503415814698405088*z^5+1428263261341890050565986752*z^4-145233228247756792791626339328*z^3+90389246635481342892705619200*z^2-3797175169690250861732603904*z+13498122509769076628557824)/(87828541633*z^4+4686985807728*z^3+73468869056216*z^2-335421433145136*z+3673979111232)^2)"
      ]
     },
     "execution_count": 22,
     "metadata": {},
     "output_type": "execute_result"
    }
   ],
   "source": [
    "maple('with(DEtools);')\n",
    "maple.set('L1',DoubleBox4ptcase1)\n",
    "solDoubleBox4ptcase1=maple('dsolve(diffop2de(L1,f(z),[Dz,z]))')\n",
    "solDoubleBox4ptcase1"
   ]
  },
  {
   "cell_type": "markdown",
   "metadata": {},
   "source": [
    "$$F := (784*x1 + 2304*x2 + 4*x3 + 1024*x4 + 225*x5 + 324*x6 + 676*x7)*((x1 + x2 + x3)*(x4 + x5 + x6) + (x1 + x2 + x3)*x7 + (x4 + x5 + x6)*x7) - t*(100*x2*x3*x4 + 100*x2*x3*x5 + x1*x4*x5 + x2*x4*x5 + x3*x4*x5 + 100*x2*x3*x6 + x2*x4*x6 + x3*x4*x6 + 36*x1*x5*x6 + 36*x2*x5*x6 + 36*x3*x5*x6 + 100*x2*x3*x7 + x3*x4*x7 + x1*x5*x7 + 130*x2*x5*x7 + 36*x3*x5*x7 + x4*x5*x7 + 100*x2*x6*x7 + x4*x6*x7 + 36*x5*x6*x7 + x1*x6*(x4 + x7) + x1*x3*(x4 + x5 + x6 + x7) + 9*x2*((x4 + x5)*x7 + x1*(x4 + x5 + x6 + x7)))$$"
   ]
  },
  {
   "cell_type": "code",
   "execution_count": 6,
   "metadata": {},
   "outputs": [
    {
     "data": {
      "text/plain": [
       "[2, 5, (-25) * (alpha + 1) * (alpha + 2)]"
      ]
     },
     "execution_count": 6,
     "metadata": {},
     "output_type": "execute_result"
    }
   ],
   "source": [
    "s = open(\"PF-DoubleBox-4pt-case2.txt\").readlines()[0]\n",
    "DoubleBox4ptcase2 = OA(s.replace(\"^\", \"**\").replace(\"t\", \"z\").replace(\"D\", \"Dz\"))\n",
    "[DoubleBox4ptcase2.order(),DoubleBox4ptcase2.degree(),DoubleBox4ptcase2.indicial_polynomial(z).factor()]"
   ]
  },
  {
   "cell_type": "code",
   "execution_count": 23,
   "metadata": {},
   "outputs": [
    {
     "data": {
      "text/plain": [
       "f(z) = _C1/z^2*HeunG(8/9,2/3,1,1,1,1,1/2*z-1/2)+_C2/z^2*HeunG(8/9,2/3,1,1,1,1,1/2*z-1/2)*Int(1/(9*z^3-61*z^2+127*z-75)/HeunG(8/9,2/3,1,1,1,1,1/2*z-1/2)^2,z)"
      ]
     },
     "execution_count": 23,
     "metadata": {},
     "output_type": "execute_result"
    }
   ],
   "source": [
    "maple('with(DEtools);')\n",
    "maple.set('L2',DoubleBox4ptcase2)\n",
    "solDoubleBox4ptcase2=maple('dsolve(diffop2de(L2,f(z),[Dz,z]))')\n",
    "solDoubleBox4ptcase2"
   ]
  },
  {
   "cell_type": "markdown",
   "metadata": {},
   "source": [
    "$$F := (784*x1 + 2304*x2 + 4*x3 + 1024*x4 + 225*x5 + 324*x6 + 676*x7)*((x1 + x2 + x3)*(x4 + x5 + x6) + (x1 + x2 + x3)*x7 + (x4 + x5 + x6)*x7) - t*(100*x2*x3*x4 + 100*x2*x3*x5 + x1*x4*x5 + x2*x4*x5 + x3*x4*x5 + 100*x2*x3*x6 + x2*x4*x6 + x3*x4*x6 + 36*x1*x5*x6 + 36*x2*x5*x6 + 36*x3*x5*x6 + 100*x2*x3*x7 + x3*x4*x7 + x1*x5*x7 + 130*x2*x5*x7 + 36*x3*x5*x7 + x4*x5*x7 + 100*x2*x6*x7 + x4*x6*x7 + 36*x5*x6*x7 + x1*x6*(x4 + x7) + x1*x3*(x4 + x5 + x6 + x7) + 9*x2*((x4 + x5)*x7 + x1*(x4 + x5 + x6 + x7)))$$"
   ]
  },
  {
   "cell_type": "code",
   "execution_count": 7,
   "metadata": {},
   "outputs": [
    {
     "data": {
      "text/plain": [
       "[2,\n",
       " 26,\n",
       " (2546525461168925714855046986517107918443964733342361380795243341415901560832000) * (alpha + 1)^2]"
      ]
     },
     "execution_count": 7,
     "metadata": {},
     "output_type": "execute_result"
    }
   ],
   "source": [
    "s = open(\"PF-DoubleBox-4pt-case3.txt\").readlines()[0]\n",
    "DoubleBox4ptcase3 = OA(s.replace(\"^\", \"**\").replace(\"t\", \"z\").replace(\"D\", \"Dz\"))\n",
    "[DoubleBox4ptcase3.order(),DoubleBox4ptcase3.degree(),DoubleBox4ptcase3.indicial_polynomial(z).factor()]"
   ]
  },
  {
   "cell_type": "code",
   "execution_count": 24,
   "metadata": {},
   "outputs": [
    {
     "data": {
      "text/plain": [
       "f(z) = _C1/z/(5375*z^4+485653800*z^3+1892714136016*z^2+126681286357376*z-1197140901286400)^(1/2)*hypergeom([1/4, 3/4],[1],48907264*z*(4*z^2+137068*z+2238289)*(225*z^2+1700964*z-24729500)*(169*z^2-227540*z+97272400)/(5375*z^4+485653800*z^3+1892714136016*z^2+126681286357376*z-1197140901286400)^2)+_C2/z/(5375*z^4+485653800*z^3+1892714136016*z^2+126681286357376*z-1197140901286400)^(1/2)*hypergeom([1/4, 3/4],[1],(28890625*z^8-2218016504400*z^7-44919468785696096*z^6+324018176878534486528*z^5+6121918312860653316138240*z^4-627600149168680416900497408*z^3+8913699994868851360854654976*z^2-39984242027493268653780172800*z+1433146337532814109174824960000)/(5375*z^4+485653800*z^3+1892714136016*z^2+126681286357376*z-1197140901286400)^2)"
      ]
     },
     "execution_count": 24,
     "metadata": {},
     "output_type": "execute_result"
    }
   ],
   "source": [
    "maple('with(DEtools);')\n",
    "maple.set('L3',DoubleBox4ptcase3)\n",
    "solDoubleBox4ptcase3=maple('dsolve(diffop2de(L3,f(z),[Dz,z]))')\n",
    "solDoubleBox4ptcase3"
   ]
  },
  {
   "cell_type": "markdown",
   "metadata": {},
   "source": [
    "$$F := (x1 + x2 + x3 + x4 + x5 + x6 + x7)*((x1 + x2 + x3)*(x4 + x5 + x6) + (x1 + x2 + x3)*x7 + (x4 + x5 + x6)*x7) - t*(x3*x4*x5 + x3*x4*x6 + x3*x5*x6 + x3*x4*x7 + x3*x5*x7 + x4*x5*x7 + x4*x6*x7 + x5*x6*x7 + x2*(x5*x6 + 2*x5*x7 + x6*x7 + x4*(x5 + x6 + x7) + x3*(x4 + x5 + x6 + x7)) + x1*(x4*x5 + x4*x6 + x5*x6 + x5*x7 + x6*x7 + x2*(x4 + x5 + x6 + x7) + x3*(x4 + x5 + x6 + x7)))$$"
   ]
  },
  {
   "cell_type": "code",
   "execution_count": 8,
   "metadata": {},
   "outputs": [
    {
     "data": {
      "text/plain": [
       "[2, 7, (-45) * (alpha + 1) * (alpha + 2)]"
      ]
     },
     "execution_count": 8,
     "metadata": {},
     "output_type": "execute_result"
    }
   ],
   "source": [
    "s = open(\"PF-DoubleBox-4pt-case4.txt\").readlines()[0]\n",
    "DoubleBox4ptcase4 = OA(s.replace(\"^\", \"**\").replace(\"t\", \"z\").replace(\"D\", \"Dz\"))\n",
    "[DoubleBox4ptcase4.order(),DoubleBox4ptcase4.degree(),DoubleBox4ptcase4.indicial_polynomial(z).factor()]"
   ]
  },
  {
   "cell_type": "code",
   "execution_count": 25,
   "metadata": {},
   "outputs": [
    {
     "data": {
      "text/plain": [
       "f(z) = _C1/z^2/(z-3)^(3/4)*hypergeom([1/4, 1/4],[1/2],-1/128*(4*z^2-32*z+59)^2/(z-3)^3)+_C2/z^2/(z-3)^(3/4)*hypergeom([1/4, 1/4],[1],1/128*(2*z-5)^2*(4*z^2-12*z+1)/(z-3)^3)"
      ]
     },
     "execution_count": 25,
     "metadata": {},
     "output_type": "execute_result"
    }
   ],
   "source": [
    "maple('with(DEtools);')\n",
    "maple.set('L4',DoubleBox4ptcase4)\n",
    "solDoubleBox4ptcase4=maple('dsolve(diffop2de(L4,f(z),[Dz,z]))')\n",
    "solDoubleBox4ptcase4"
   ]
  },
  {
   "cell_type": "markdown",
   "metadata": {},
   "source": [
    "$$F := (25*x1 + 49*x2 + 49*x3 + 36*x4 + 4*x5 + 81*x6 + 36*x7)*((x1 + x2 + x3)*(x4 + x5 + x6) + (x1 + x2 + x3)*x7 + (x4 + x5 + x6)*x7) - t*(2209*x3*x4*x5 + 33*x3*x4*x6 + 1369*x3*x5*x6 + 33*x3*x4*x7 + 1369*x3*x5*x7 + 2209*x4*x5*x7 + 33*x4*x6*x7 + 1369*x5*x6*x7 + x1*(2209*x4*x5 + 33*x4*x6 + 1369*x5*x6 + 2209*x5*x7 + 33*x6*x7 + 64*x2*(x4 + x5 + x6 + x7) + 33*x3*(x4 + x5 + x6 + x7)) + x2*(1369*x5*x6 + 4387*x5*x7 + 784*x6*x7 + 784*x3*(x4 + x5 + x6 + x7) + x4*(2209*x5 + 33*x6 + 64*x7)))$$"
   ]
  },
  {
   "cell_type": "code",
   "execution_count": 9,
   "metadata": {},
   "outputs": [
    {
     "data": {
      "text/plain": [
       "[2,\n",
       " 26,\n",
       " (-2118431808633319438548815762337263367673816388780032) * (alpha + 1)^2]"
      ]
     },
     "execution_count": 9,
     "metadata": {},
     "output_type": "execute_result"
    }
   ],
   "source": [
    "s = open(\"PF-DoubleBox-4pt-case5.txt\").readlines()[0]\n",
    "DoubleBox4ptcase5 = OA(s.replace(\"^\", \"**\").replace(\"t\", \"z\").replace(\"D\", \"Dz\"))\n",
    "[DoubleBox4ptcase5.order(),DoubleBox4ptcase5.degree(),DoubleBox4ptcase5.indicial_polynomial(z).factor()]"
   ]
  },
  {
   "cell_type": "code",
   "execution_count": 26,
   "metadata": {},
   "outputs": [
    {
     "data": {
      "text/plain": [
       "f(z) = _C1/z/(265918101244257*z^4-1029991785213886*z^3-312369847417571*z^2-8412323338064*z+451161823296)^(1/2)*hypergeom([1/4, 3/4],[1],-49865118912*z*(33265331*z^2+33634277*z+1921379)*(13068*z^2-57508*z+14787)*(11264*z^2+66571*z+3072)/(265918101244257*z^4-1029991785213886*z^3-312369847417571*z^2-8412323338064*z+451161823296)^2)+_C2/z/(265918101244257*z^4-1029991785213886*z^3-312369847417571*z^2-8412323338064*z+451161823296)^(1/2)*hypergeom([1/4, 3/4],[1],(70712436569350916251575482049*z^8-547542750669925479444047563260*z^7+895368908437381697230420091902*z^6+633381978194279009727356468308*z^5+110431066822416812527895860937*z^4+5409178034105387038373299616*z^3-57517064714115497986943552*z^2-3238414837328158114031616*z+203546990799771128303616)/(265918101244257*z^4-1029991785213886*z^3-312369847417571*z^2-8412323338064*z+451161823296)^2)"
      ]
     },
     "execution_count": 26,
     "metadata": {},
     "output_type": "execute_result"
    }
   ],
   "source": [
    "maple('with(DEtools);')\n",
    "maple.set('L5',DoubleBox4ptcase5)\n",
    "solDoubleBox4ptcase5=maple('dsolve(diffop2de(L5,f(z),[Dz,z]))')\n",
    "solDoubleBox4ptcase5"
   ]
  },
  {
   "cell_type": "markdown",
   "metadata": {},
   "source": [
    "<center><b>The 6 points case</b></center>"
   ]
  },
  {
   "cell_type": "code",
   "execution_count": 2,
   "metadata": {},
   "outputs": [
    {
     "data": {
      "image/png": "[encoded data removed]",
      "text/plain": [
       "<IPython.core.display.Image object>"
      ]
     },
     "execution_count": 2,
     "metadata": {},
     "output_type": "execute_result"
    }
   ],
   "source": [
    "Image(\"DoubleBox6pt.png\")"
   ]
  },
  {
   "cell_type": "markdown",
   "metadata": {},
   "source": [
    "$$F := (1369*x1 + 1369*x2 + 1849*x3 + 5041*x4 + 9409*x5 + 1849*x6 + 22201*x7)*(x1*x4 + x2*x4 + x3*x4 + x1*x5 + x2*x5 + x3*x5 + x1*x6 + x2*x6 + x3*x6 + x1*x7 + x2*x7 + x3*x7 + x4*x7 + x5*x7 + x6*x7) - t*(7419*x1*x2*x4 + 17337*x1*x3*x4 + 21028*x2*x3*x4 + 7419*x1*x2*x5 + 17337*x1*x3*x5 + 21028*x2*x3*x5 + 9735*x1*x4*x5 + 9735*x2*x4*x5 + 9735*x3*x4*x5 + 7419*x1*x2*x6 + 17337*x1*x3*x6 + 21028*x2*x3*x6 + 25171*x1*x4*x6 + 25171*x2*x4*x6 + 25171*x3*x4*x6 + 10770*x1*x5*x6 + 10770*x2*x5*x6 + 10770*x3*x5*x6 + 7419*x1*x2*x7 + 17337*x1*x3*x7 + 21028*x2*x3*x7 + 15716*x1*x4*x7 + 39449*x2*x4*x7 + 26899*x3*x4*x7 + 13929*x1*x5*x7 + 35926*x2*x5*x7 + 18678*x3*x5*x7 + 9735*x4*x5*x7 + 34157*x1*x6*x7 + 50886*x2*x6*x7 + 19674*x3*x6*x7 + 25171*x4*x6*x7 + 10770*x5*x6*x7);$$"
   ]
  },
  {
   "cell_type": "code",
   "execution_count": 10,
   "metadata": {
    "scrolled": true
   },
   "outputs": [
    {
     "data": {
      "text/plain": [
       "[2,\n",
       " 33,\n",
       " (6195853003360489041161816443786018134775052290419343283310113491175088114340492074530113262605383818673916603562658192909954881928805819375261680914019661618442403840000000000) * (alpha + 1)^2]"
      ]
     },
     "execution_count": 10,
     "metadata": {},
     "output_type": "execute_result"
    }
   ],
   "source": [
    "s = open(\"PF-DoubleBox-6pt-case1.txt\").readlines()[0]\n",
    "DoubleBox6ptcase1 = OA(s.replace(\"^\", \"**\").replace(\"t\", \"z\").replace(\"D\", \"Dz\"))\n",
    "[DoubleBox6ptcase1.order(),DoubleBox6ptcase1.degree(),DoubleBox6ptcase1.indicial_polynomial(z).factor()]"
   ]
  },
  {
   "cell_type": "markdown",
   "metadata": {},
   "source": [
    "$$F := (36481*x1 + 529*x2 + 529*x3 + 1681*x4 + 169*x5 + 3481*x6 + 2209*x7)*(x1*x4 + x2*x4 + x3*x4 + x1*x5 + x2*x5 + x3*x5 + x1*x6 + x2*x6 + x3*x6 + x1*x7 + x2*x7 + x3*x7 + x4*x7 + x5*x7 + x6*x7) - t*(7419*x1*x2*x4 + 17337*x1*x3*x4 + 21028*x2*x3*x4 + 7419*x1*x2*x5 + 17337*x1*x3*x5 + 21028*x2*x3*x5 + 9735*x1*x4*x5 + 9735*x2*x4*x5 + 9735*x3*x4*x5 + 7419*x1*x2*x6 + 17337*x1*x3*x6 + 21028*x2*x3*x6 + 25171*x1*x4*x6 + 25171*x2*x4*x6 + 25171*x3*x4*x6 + 10770*x1*x5*x6 + 10770*x2*x5*x6 + 10770*x3*x5*x6 + 7419*x1*x2*x7 + 17337*x1*x3*x7 + 21028*x2*x3*x7 + 15716*x1*x4*x7 + 39449*x2*x4*x7 + 26899*x3*x4*x7 + 13929*x1*x5*x7 + 35926*x2*x5*x7 + 18678*x3*x5*x7 + 9735*x4*x5*x7 + 34157*x1*x6*x7 + 50886*x2*x6*x7 + 19674*x3*x6*x7 + 25171*x4*x6*x7 + 10770*x5*x6*x7);\n",
    "$$"
   ]
  },
  {
   "cell_type": "code",
   "execution_count": 11,
   "metadata": {},
   "outputs": [
    {
     "data": {
      "text/plain": [
       "[2,\n",
       " 33,\n",
       " (-2167566249131430787919288983318638614478876646827443920735787045033776253084764759172586559672040746374590289587400522398429120651917982617432882483867646746547430566428394411644360878296633285755797504) * (alpha + 1)^2]"
      ]
     },
     "execution_count": 11,
     "metadata": {},
     "output_type": "execute_result"
    }
   ],
   "source": [
    "s = open(\"PF-DoubleBox-6pt-case2.txt\").readlines()[0]\n",
    "DoubleBox6ptcase2 = OA(s.replace(\"^\", \"**\").replace(\"t\", \"z\").replace(\"D\", \"Dz\"))\n",
    "[DoubleBox6ptcase2.order(),DoubleBox6ptcase2.degree(),DoubleBox6ptcase2.indicial_polynomial(z).factor()]"
   ]
  },
  {
   "cell_type": "markdown",
   "metadata": {},
   "source": [
    "$$F := (10609*x1 + 39601*x2 + 5329*x3 + 289*x4 + 32761*x5 + 9*x6 + 9409*x7)*(x1*x4 + x2*x4 + x3*x4 + x1*x5 + x2*x5 + x3*x5 + x1*x6 + x2*x6 + x3*x6 + x1*x7 + x2*x7 + x3*x7 + x4*x7 + x5*x7 + x6*x7) - t*(5676*x1*x2*x4 + 16990*x1*x3*x4 + 9062*x2*x3*x4 + 5676*x1*x2*x5 + 16990*x1*x3*x5 + 9062*x2*x3*x5 + 10766*x1*x4*x5 + 10766*x2*x4*x5 + 10766*x3*x4*x5 + 5676*x1*x2*x6 + 16990*x1*x3*x6 + 9062*x2*x3*x6 + 20726*x1*x4*x6 + 20726*x2*x4*x6 + 20726*x3*x4*x6 + 21558*x1*x5*x6 + 21558*x2*x5*x6 + 21558*x3*x5*x6 + 5676*x1*x2*x7 + 16990*x1*x3*x7 + 9062*x2*x3*x7 + 20501*x1*x4*x7 + 14135*x2*x4*x7 + 35557*x3*x4*x7 + 26043*x1*x5*x7 + 8533*x2*x5*x7 + 19419*x3*x5*x7 + 10766*x4*x5*x7 + 7749*x1*x6*x7 + 6887*x2*x6*x7 + 13151*x3*x6*x7 + 20726*x4*x6*x7 + 21558*x5*x6*x7);$$"
   ]
  },
  {
   "cell_type": "code",
   "execution_count": 12,
   "metadata": {
    "scrolled": true
   },
   "outputs": [
    {
     "data": {
      "text/plain": [
       "[2,\n",
       " 33,\n",
       " (-8637022721229735460891228464152813156523258106046601513051825165531143302347930666303762203344938832840781731350699434765040176442620412892866507856586292312214249728068283939796458395091731734257164159880756461568) * (alpha + 1)^2]"
      ]
     },
     "execution_count": 12,
     "metadata": {},
     "output_type": "execute_result"
    }
   ],
   "source": [
    "s = open(\"PF-DoubleBox-6pt-case3.txt\").readlines()[0]\n",
    "DoubleBox6ptcase3 = OA(s.replace(\"^\", \"**\").replace(\"t\", \"z\").replace(\"D\", \"Dz\"))\n",
    "[DoubleBox6ptcase3.order(),DoubleBox6ptcase3.degree(),DoubleBox6ptcase3.indicial_polynomial(z).factor()]"
   ]
  },
  {
   "cell_type": "markdown",
   "metadata": {},
   "source": [
    "$$F := (6241*x1 + 121*x2 + 9*x3 + 289*x4 + 121*x5 + 289*x6 + 26569*x7)*(x1*x4 + x2*x4 + x3*x4 + x1*x5 + x2*x5 + x3*x5 + x1*x6 + x2*x6 + x3*x6 + x1*x7 + x2*x7 + x3*x7 + x4*x7 + x5*x7 + x6*x7) - t*(7028*x1*x2*x4 + 57030*x1*x3*x4 + 25366*x2*x3*x4 + 7028*x1*x2*x5 + 57030*x1*x3*x5 + 25366*x2*x3*x5 + 8271*x1*x4*x5 + 8271*x2*x4*x5 + 8271*x3*x4*x5 + 7028*x1*x2*x6 + 57030*x1*x3*x6 + 25366*x2*x3*x6 + 35865*x1*x4*x6 + 35865*x2*x4*x6 + 35865*x3*x4*x6 + 17658*x1*x5*x6 + 17658*x2*x5*x6 + 17658*x3*x5*x6 + 7028*x1*x2*x7 + 57030*x1*x3*x7 + 25366*x2*x3*x7 + 46446*x1*x4*x7 + 39718*x2*x4*x7 + 60728*x3*x4*x7 + 47727*x1*x5*x7 + 37473*x2*x5*x7 + 44583*x3*x5*x7 + 8271*x4*x5*x7 + 32731*x1*x6*x7 + 15109*x2*x6*x7 + 11077*x3*x6*x7 + 35865*x4*x6*x7 + 17658*x5*x6*x7);$$"
   ]
  },
  {
   "cell_type": "code",
   "execution_count": 13,
   "metadata": {},
   "outputs": [
    {
     "data": {
      "text/plain": [
       "[2,\n",
       " 33,\n",
       " (42867836231103612071961664477694649335846320616995047380379926559074991014019888834003990627917109029365881982109649122931036279903163684167129550705731461626273464320) * (alpha + 1)^2]"
      ]
     },
     "execution_count": 13,
     "metadata": {},
     "output_type": "execute_result"
    }
   ],
   "source": [
    "s = open(\"PF-DoubleBox-6pt-case4.txt\").readlines()[0]\n",
    "DoubleBox6ptcase4 = OA(s.replace(\"^\", \"**\").replace(\"t\", \"z\").replace(\"D\", \"Dz\"))\n",
    "[DoubleBox6ptcase4.order(),DoubleBox6ptcase4.degree(),DoubleBox6ptcase4.indicial_polynomial(z).factor()]"
   ]
  },
  {
   "cell_type": "markdown",
   "metadata": {},
   "source": [
    "<center><b>The six-point case without imposing the Gram determinant condition</b></center>"
   ]
  },
  {
   "cell_type": "code",
   "execution_count": 14,
   "metadata": {},
   "outputs": [
    {
     "data": {
      "text/plain": [
       "[4,\n",
       " 75,\n",
       " (1409707340048016810914709198493394793784523173636696530550241514464160364317919989295758703147410796012644556241371404857359104358816023669577461591166632941712771570151991825478070873656917854469404065527138977506072797861255955301634764355466618596562189350833595408943852397075026628279075994419996871818930302468093547535316622034325303180954913338113041990201157624638112096492648191873085530708737942276887041574490902761510659501913397226102942820298208946646007863390621835071398115723217511935398563301454372505250142861045498535373411306653397526276899217719367700788019200000000000000000000000000000000) * (alpha - 1) * alpha * (alpha + 1)^2]"
      ]
     },
     "execution_count": 14,
     "metadata": {},
     "output_type": "execute_result"
    }
   ],
   "source": [
    "s = open(\"PF-DoubleBox-6pt-NoGram-case1.txt\").readlines()[0]\n",
    "DoubleBox6ptNoGramcase1 = OA(s.replace(\"^\", \"**\").replace(\"t\", \"z\").replace(\"D\", \"Dz\"))\n",
    "[DoubleBox6ptNoGramcase1.order(),DoubleBox6ptNoGramcase1.degree(),DoubleBox6ptNoGramcase1.indicial_polynomial(z).factor()]"
   ]
  },
  {
   "cell_type": "code",
   "execution_count": 23,
   "metadata": {},
   "outputs": [
    {
     "name": "stdout",
     "output_type": "stream",
     "text": [
      "### Try factoring an operator of order 4\n",
      "Degree bound for right factor 4254\n",
      "Current order of truncation 100\n",
      "Current working precision 250 (before monodromy computation)\n",
      "Current algebraic degree 1\n",
      "Start computing monodromy matrices\n",
      "loss = 8\n",
      "1 matrices computed\n",
      "Try guessing symbolic coefficients\n",
      "loss = 22\n",
      "2 matrices computed\n",
      "Try guessing symbolic coefficients\n",
      "loss = 37\n",
      "3 matrices computed\n",
      "Try guessing symbolic coefficients\n",
      "Find rational coefficients\n",
      "loss = 43\n",
      "4 matrices computed\n",
      "Try guessing symbolic coefficients\n",
      "loss = 62\n",
      "5 matrices computed\n",
      "Try guessing symbolic coefficients\n",
      "6 matrices computed\n",
      "Try guessing symbolic coefficients\n",
      "Find rational coefficients\n",
      "loss = 69\n",
      "7 matrices computed\n",
      "Try guessing symbolic coefficients\n",
      "8 matrices computed\n",
      "Conclude with One_Dimensional method\n"
     ]
    }
   ],
   "source": [
    "#fac1=DoubleBox6ptNoGramcase1.factor(verbose=True); \n",
    "#[x.order() for x in fac1]\n",
    "#save(fac1,'PF-DoubleBox-6pt-NoGram-case1-factorized.txt')"
   ]
  },
  {
   "cell_type": "markdown",
   "metadata": {},
   "source": [
    "The factorisation is in the text file <a href=\"PF-DoubleBox-6pt-NoGram-factor.txt\">PF-DoubleBox-6pt-NoGram-factor.txt</a>"
   ]
  },
  {
   "cell_type": "code",
   "execution_count": 5,
   "metadata": {},
   "outputs": [
    {
     "data": {
      "text/plain": [
       "[4]"
      ]
     },
     "execution_count": 5,
     "metadata": {},
     "output_type": "execute_result"
    }
   ],
   "source": [
    "file = open('PF-DoubleBox-6pt-NoGram-factor.txt', 'r')\n",
    "lines = file.readlines()\n",
    "s = ''.join(lines);\n",
    "fac=eval(preparse(s))\n",
    "[x.order() for x  in fac]"
   ]
  },
  {
   "cell_type": "code",
   "execution_count": null,
   "metadata": {},
   "outputs": [],
   "source": [
    "# this is irreducible"
   ]
  }
 ],
 "metadata": {
  "kernelspec": {
   "display_name": "SageMath 9.6",
   "language": "sage",
   "name": "sagemath-9.6"
  },
  "language_info": {
   "codemirror_mode": {
    "name": "ipython",
    "version": 3
   },
   "file_extension": ".py",
   "mimetype": "text/x-python",
   "name": "python",
   "nbconvert_exporter": "python",
   "pygments_lexer": "ipython3",
   "version": "3.10.3"
  }
 },
 "nbformat": 4,
 "nbformat_minor": 1
}
