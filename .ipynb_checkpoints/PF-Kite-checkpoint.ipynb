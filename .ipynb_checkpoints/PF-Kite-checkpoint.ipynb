{
 "cells": [
  {
   "cell_type": "markdown",
   "metadata": {},
   "source": [
    "<H3><center><b>Picard-Fuchs equation for the two-loop Kite integral in two and  four dimensions</b></center></H3>\n",
    "$$\n",
    "\\int_{x_i\\geq0} { U^{5-{3D\\over2}}\\over (UL-tV)^{5-D}} dx_1\\cdots dx_{5}\n",
    "$$\n",
    "with the following graph polynomials\n",
    "$$U := (x_1 + x_2)(x_3 + x_4) + (x_1 + x_2+x_3 + x_4)x_5$$\n",
    "$$L=m_1^2x_1+\\cdots +m_5^2x_5$$ \n",
    "$$V=p_{1}^2 x_{1} x_{4} x_{5}+p_{2}^2 x_{1} x_{2} (x_{3}+x_{4}+x_{5})+p_{3}^2 x_{2}\n",
    "   x_{3} x_{5}+p_{4}^2 x_{3} x_{4} (x_{1}+x_{2}+x_{5})\n",
    "   +(p_1+p_2)^2 x_{2} x_{4}\n",
    "   x_{5}+(p_1+p_4)^2 x_{1} x_{3} x_{5} $$"
   ]
  },
  {
   "cell_type": "code",
   "execution_count": 1,
   "metadata": {},
   "outputs": [],
   "source": [
    "from ore_algebra import *\n",
    "OA, z, Dz = DifferentialOperators(QQ, 'z')"
   ]
  },
  {
   "cell_type": "markdown",
   "metadata": {},
   "source": [
    "<center><b>in two dimensions $d=2$</b></center>\n",
    "$$\n",
    "\\int_{x_i\\geq0} { U^{2} \\over (UL-tV)^{3}} dx_1\\cdots dx_{5}\n",
    "$$\n",
    "this differential form is trivial because \n",
    "$$\n",
    "U^2=\\sum_{i=1}^5 C_i \\partial_{x_i}  (UL-tV)\n",
    "$$\n",
    "with\n",
    "$$\n",
    "\\sum_{i=1}^5 \\partial_{x_i}C_i =0\n",
    "$$"
   ]
  },
  {
   "cell_type": "markdown",
   "metadata": {},
   "source": [
    "<center>Two points case</center>"
   ]
  },
  {
   "cell_type": "markdown",
   "metadata": {},
   "source": [
    "$$F=-t x1 x2 x3 + 25 x1 x3^2 + 25 x2 x3^2 - t x1 x2 x4 + 1706 x1 x3 x4 - \n",
    " t x1 x3 x4 + 1706 x2 x3 x4 - t x2 x3 x4 + 1681 x1 x4^2 + \n",
    " 1681 x2 x4^2 - t x1 x2 x5 + 34 x1 x3 x5 - t x1 x3 x5 + 34 x2 x3 x5 + \n",
    " 25 x3^2 x5 + 1690 x1 x4 x5 + 1690 x2 x4 x5 - t x2 x4 x5 + \n",
    " 1706 x3 x4 x5 - t x3 x4 x5 + 1681 x4^2 x5 + 9 x1 x5^2 + 9 x2 x5^2 + \n",
    " 9 x3 x5^2 + 9 x4 x5^2 + \n",
    " 3721 x1 ((x3 + x4) x5 + x1 (x3 + x4 + x5) + x2 (x3 + x4 + x5)) + \n",
    " 529 x2 ((x3 + x4) x5 + x1 (x3 + x4 + x5) + x2 (x3 + x4 + x5))$$\n",
    " <br>\n",
    " The coefficients $C_i$ are given in the file <a href=\"Clist-2pt-case1.txt\">Clist-2pt-case1.txt</a>"
   ]
  },
  {
   "cell_type": "markdown",
   "metadata": {},
   "source": [
    "$$F=-t x1 x2 x3 + 6889 x1 x3^2 + 6889 x2 x3^2 - t x1 x2 x4 + \n",
    " 6893 x1 x3 x4 - t x1 x3 x4 + 6893 x2 x3 x4 - t x2 x3 x4 + \n",
    " 4 x1 x4^2 + 4 x2 x4^2 - t x1 x2 x5 + 11378 x1 x3 x5 - t x1 x3 x5 + \n",
    " 11378 x2 x3 x5 + 6889 x3^2 x5 + 4493 x1 x4 x5 + 4493 x2 x4 x5 - \n",
    " t x2 x4 x5 + 6893 x3 x4 x5 - t x3 x4 x5 + 4 x4^2 x5 + 4489 x1 x5^2 + \n",
    " 4489 x2 x5^2 + 4489 x3 x5^2 + 4489 x4 x5^2 + \n",
    " 1681 x1 ((x3 + x4) x5 + x1 (x3 + x4 + x5) + x2 (x3 + x4 + x5)) + \n",
    " 2809 x2 ((x3 + x4) x5 + x1 (x3 + x4 + x5) + x2 (x3 + x4 + x5))$$\n",
    " <br>\n",
    "  The coefficients $C_i$ are given in the file <a href=\"Clist-2pt-case2.txt\">Clist-2pt-case2.txt</a>"
   ]
  },
  {
   "cell_type": "markdown",
   "metadata": {},
   "source": [
    "<center>Four points case</center>"
   ]
  },
  {
   "cell_type": "markdown",
   "metadata": {},
   "source": [
    "$$F := (x1 + 9*x2 + 7*x3 + 11*x4 + 27*x5)*(x1*x3 + x2*x3 + x1*x4 + x2*x4 + x1*x5 + x2*x5 + x3*x5 + x4*x5) - t*(1921*x1*x2*x3 + 1921*x1*x2*x4 + 185*x1*x3*x4 + 185*x2*x3*x4 + 1921*x1*x2*x5 + 7565*x1*x3*x5 + 5032*x2*x3*x5 + 7400*x1*x4*x5 + 4013*x2*x4*x5 + 185*x3*x4*x5);\n",
    "$$"
   ]
  },
  {
   "cell_type": "markdown",
   "metadata": {},
   "source": [
    "The coefficients $C_i$ are given in this file <a href=\"Ci-4pt-Kite-case1.txt\">Ci-4pt-Kite-case1.txt</a>"
   ]
  },
  {
   "cell_type": "markdown",
   "metadata": {},
   "source": [
    "$$F := (x1 + 9*x2 + 7*x3 + 11*x4 + 27*x5)*(x1*x3 + x2*x3 + x1*x4 + x2*x4 + x1*x5 + x2*x5 + x3*x5 + x4*x5) - t*(9181*x1*x2*x3 + 9181*x1*x2*x4 + 18185*x1*x3*x4 + 18185*x2*x3*x4 + 9181*x1*x2*x5 + 49354*x1*x3*x5 + 17485*x2*x3*x5 + 8621*x1*x4*x5 + 2500*x2*x4*x5 + 18185*x3*x4*x5)\n",
    "$$"
   ]
  },
  {
   "cell_type": "markdown",
   "metadata": {},
   "source": [
    "The coefficients $C_i$ are given in this file <a href=\"Ci-4pt-Kite-case2.txt\">Ci-4pt-Kite-case2.txt</a>"
   ]
  },
  {
   "cell_type": "markdown",
   "metadata": {},
   "source": [
    "$$F := (x1 + 9*x2 + 7*x3 + 11*x4 + 27*x5)*(x1*x3 + x2*x3 + x1*x4 + x2*x4 + x1*x5 + x2*x5 + x3*x5 + x4*x5) - t*(2237*x1*x2*x3 + 2237*x1*x2*x4 + 14989*x1*x3*x4 + 14989*x2*x3*x4 + 2237*x1*x2*x5 + 10205*x1*x3*x5 + 3364*x2*x3*x5 + 1378*x1*x4*x5 + 4153*x2*x4*x5 + 14989*x3*x4*x5)\n",
    "$$"
   ]
  },
  {
   "cell_type": "markdown",
   "metadata": {},
   "source": [
    "The coefficients $C_i$ are given in this file <a href=\"Ci-4pt-Kite-case3.txt\">Ci-4pt-Kite-case3.txt</a>"
   ]
  },
  {
   "cell_type": "code",
   "execution_count": 2,
   "metadata": {},
   "outputs": [
    {
     "data": {
      "image/png": "[encoded data removed]",
      "text/plain": [
       "<IPython.core.display.Image object>"
      ]
     },
     "execution_count": 2,
     "metadata": {},
     "output_type": "execute_result"
    }
   ],
   "source": [
    "from IPython.display import Image\n",
    "Image(filename=\"Kite2pt.png\")"
   ]
  },
  {
   "cell_type": "markdown",
   "metadata": {},
   "source": [
    "<center><b>The two point case</b></center>\n",
    "$$\n",
    "F:=(m1^2*x1+m2^2*x2+m3^2*x3+m4^2*x4+m5^2*x5^2)*((x3 + x4)*x5 + x1*(x3 + x4 + x5) + x2*(x3 + x4 + x5)) - t*((x1*x3 +x2*x3 + x1*x4 + x2*x4)*x5 + x3*x4*(x1 + x2 + x5) + x1*x2*(x3 + x4 + x5))\n",
    "$$\n",
    "In $D=4$ dimensions the Picard--Fuchs operator of first order the Feynman integral satisfies the inhomogeneous differential equation\n",
    "$$\n",
    "  \\left(t{d\\over dt}+1\\right)\\int_{x_i\\geq0} {((x_1+x_2+x_3 + x_4)x_5 + (x_1+x_2)(x_3 + x_4) )^{5-{3D\\over2}}\\over  F^{5-D}}dx_1\\cdots dx_5 = \\sum_{i=1}^4 S_i(t).\n",
    "$$\n",
    "the inhomogeneous terms are given in  the file <a href=\"Source-PF-Kite-2pt-d4.txt\">Source-PF-Kite-2pt-d4.txt</a>"
   ]
  },
  {
   "cell_type": "code",
   "execution_count": 3,
   "metadata": {},
   "outputs": [
    {
     "data": {
      "image/png": "[encoded data removed]",
      "text/plain": [
       "<IPython.core.display.Image object>"
      ]
     },
     "execution_count": 3,
     "metadata": {},
     "output_type": "execute_result"
    }
   ],
   "source": [
    "Image(filename=\"Kite4pt.png\")"
   ]
  },
  {
   "cell_type": "markdown",
   "metadata": {},
   "source": [
    "<center><b>In four dimensions $d=4$</b></center>\n",
    "$$\n",
    "\\int_{x_i\\geq0} { 1 \\over U (UL-tV)} dx_1\\cdots dx_{5}\n",
    "$$"
   ]
  },
  {
   "cell_type": "markdown",
   "metadata": {},
   "source": [
    "$$F := (9*x1 + x2 + 64*x3 + x4 + 16*x5)*((x3 + x4)*x5 + x1*(x3 + x4 + x5) + x2*(x3 + x4 + x5)) - t*((9*x1*x3 + 28*x2*x3 + 32*x1*x4 + 324*x2*x4)*x5 + 1156*x3*x4*(x1 + x2 + x5) + 676*x1*x2*(x3 + x4 + x5))$$"
   ]
  },
  {
   "cell_type": "code",
   "execution_count": 63,
   "metadata": {},
   "outputs": [
    {
     "data": {
      "text/plain": [
       "[7,\n",
       " 83,\n",
       " (-1551626029027231006382106111177086012732846142052059893802542623456943192896587225290505281964950629981355931180398923481253218063013193141160330388740788599056324413550224342568792116647313119964542072407037652926287722816822062415678624103541419290207698285405494006649263393724617895587358426724209984079728648430010970799560546875) * (alpha - 4) * (alpha - 3) * (alpha - 2) * (alpha - 1) * alpha * (alpha + 1)^2]"
      ]
     },
     "execution_count": 63,
     "metadata": {},
     "output_type": "execute_result"
    }
   ],
   "source": [
    "s = open(\"PF-Kite-d4-case1.txt\").readlines()[0]\n",
    "dopKited4case1 = OA(s.replace(\"^\", \"**\").replace(\"t\", \"z\").replace(\"D\", \"Dz\"))\n",
    "[dopKited4case1.order(),dopKited4case1.degree(),dopKited4case1.indicial_polynomial(z).factor()]"
   ]
  },
  {
   "cell_type": "code",
   "execution_count": 3,
   "metadata": {},
   "outputs": [],
   "source": [
    "#fac1=dopKited4case1.factor(verbose=True); \n",
    "#[x.order() for x in fac1]\n",
    "#save(fac1,'PF-Kite-d4-case1-factorized.txt')"
   ]
  },
  {
   "cell_type": "markdown",
   "metadata": {},
   "source": [
    "The factorisation is in the text file <a href=\"PF-Kite-d4-case1-factor.txt\">PF-Kite-d4-case1-factor.txt</a>"
   ]
  },
  {
   "cell_type": "code",
   "execution_count": 6,
   "metadata": {},
   "outputs": [
    {
     "data": {
      "text/plain": [
       "[2, 2, 2, 1]"
      ]
     },
     "execution_count": 6,
     "metadata": {},
     "output_type": "execute_result"
    }
   ],
   "source": [
    "file = open('PF-Kite-d4-case1-factor.txt', 'r')\n",
    "lines = file.readlines()\n",
    "s = ''.join(lines);\n",
    "fac1=eval(preparse(s))\n",
    "[x.order() for x  in fac1]"
   ]
  },
  {
   "cell_type": "code",
   "execution_count": 31,
   "metadata": {
    "scrolled": true
   },
   "outputs": [
    {
     "data": {
      "text/plain": [
       "z*Dz + 1"
      ]
     },
     "execution_count": 31,
     "metadata": {},
     "output_type": "execute_result"
    }
   ],
   "source": [
    "fac1[3]"
   ]
  },
  {
   "cell_type": "code",
   "execution_count": 64,
   "metadata": {},
   "outputs": [
    {
     "data": {
      "text/plain": [
       "(22577692719378029757204144125025) * alpha * (alpha + 1)"
      ]
     },
     "execution_count": 64,
     "metadata": {},
     "output_type": "execute_result"
    }
   ],
   "source": [
    "fac1[2].indicial_polynomial(z).factor()"
   ]
  },
  {
   "cell_type": "code",
   "execution_count": 66,
   "metadata": {},
   "outputs": [],
   "source": [
    "maple('with(DEtools);')\n",
    "maple.set('L',fac1[2])"
   ]
  },
  {
   "cell_type": "code",
   "execution_count": 25,
   "metadata": {},
   "outputs": [
    {
     "data": {
      "text/plain": [
       "f(z) = _C1/z+_C2*Int(exp(-73984*I*Int((10301420225247151744*z^2+424573214136741020*z-4751598964493745)*((1156*z-49)*(1156*z-81)*(33163538429435904*z^2+13792725737735360*z-75422205785615))^(1/2)/(334041773118736*z^2-20002688934280*z+98106126993)/(1156*z-49)/(1156*z-81)/(33163538429435904*z^2+13792725737735360*z-75422205785615),z))*(1/(1156*z-49)/(1156*z-81)/(33163538429435904*z^2+13792725737735360*z-75422205785615)*(334041773118736*z^2-20002688934280*z+98106126993))^(1/2)/z,z)/z+_C3*Int(exp(73984*I*Int((10301420225247151744*z^2+424573214136741020*z-4751598964493745)*((1156*z-49)*(1156*z-81)*(33163538429435904*z^2+13792725737735360*z-75422205785615))^(1/2)/(334041773118736*z^2-20002688934280*z+98106126993)/(1156*z-49)/(1156*z-81)/(33163538429435904*z^2+13792725737735360*z-75422205785615),z))*(1/(1156*z-49)/(1156*z-81)/(33163538429435904*z^2+13792725737735360*z-75422205785615)*(334041773118736*z^2-20002688934280*z+98106126993))^(1/2)/z,z)/z"
      ]
     },
     "execution_count": 25,
     "metadata": {},
     "output_type": "execute_result"
    }
   ],
   "source": [
    "solkite=maple('dsolve(diffop2de(L,f(z),[Dz,z]))')\n",
    "solkite"
   ]
  },
  {
   "cell_type": "markdown",
   "metadata": {},
   "source": [
    "$$F := (4*x1 + 64*x2 + 100*x3 + 36*x4 + 49*x5)*((x3 + x4)*x5 + x1*(x3 + x4 + x5) + x2*(x3 + x4 + x5)) - t*((4*x1*x3 + 9*x2*x3 + 4*x1*x4 + 529*x2*x4)*x5 + 484*x3*x4*(x1 + x2 + x5) + 1225*x1*x2*(x3 + x4 + x5))$$"
   ]
  },
  {
   "cell_type": "code",
   "execution_count": 4,
   "metadata": {},
   "outputs": [
    {
     "data": {
      "text/plain": [
       "[7, 83, [log(z)/z, 1/z, 1, z, z^2, z^3, z^4]]"
      ]
     },
     "execution_count": 4,
     "metadata": {},
     "output_type": "execute_result"
    }
   ],
   "source": [
    "s = open(\"PF-Kite-d4-case2.txt\").readlines()[0]\n",
    "dopKited4case2 = OA(s.replace(\"^\", \"**\").replace(\"t\", \"z\").replace(\"D\", \"Dz\"))\n",
    "[dopKited4case2.order(),dopKited4case2.degree(),dopKited4case2.local_basis_monomials(0)]"
   ]
  },
  {
   "cell_type": "code",
   "execution_count": null,
   "metadata": {},
   "outputs": [],
   "source": [
    "#fac2=dopKited4case2.factor(); \n",
    "#save(fac2,'PF-Kite-d4-case2-factorized.txt')"
   ]
  },
  {
   "cell_type": "markdown",
   "metadata": {},
   "source": [
    "The factorisation is in the text file <a href=\"PF-Kite-d4-case2-factor.txt\">PF-Kite-d4-case2-factor.txt</a>"
   ]
  },
  {
   "cell_type": "code",
   "execution_count": 34,
   "metadata": {},
   "outputs": [
    {
     "data": {
      "text/plain": [
       "[2, 2, 2, 1]"
      ]
     },
     "execution_count": 34,
     "metadata": {},
     "output_type": "execute_result"
    }
   ],
   "source": [
    "file = open('PF-Kite-d4-case2-factor.txt', 'r')\n",
    "lines = file.readlines()\n",
    "s = ''.join(lines);\n",
    "fac2=eval(preparse(s))\n",
    "[x.order() for x  in fac2]"
   ]
  },
  {
   "cell_type": "code",
   "execution_count": 35,
   "metadata": {
    "scrolled": true
   },
   "outputs": [
    {
     "data": {
      "text/plain": [
       "z*Dz + 1"
      ]
     },
     "execution_count": 35,
     "metadata": {},
     "output_type": "execute_result"
    }
   ],
   "source": [
    "fac2[3]"
   ]
  },
  {
   "cell_type": "code",
   "execution_count": 67,
   "metadata": {},
   "outputs": [
    {
     "data": {
      "text/plain": [
       "(-15002808437346304) * alpha * (alpha + 1)"
      ]
     },
     "execution_count": 67,
     "metadata": {},
     "output_type": "execute_result"
    }
   ],
   "source": [
    "fac2[2].indicial_polynomial(z).factor()"
   ]
  },
  {
   "cell_type": "markdown",
   "metadata": {},
   "source": [
    "$$F := (x1 + x2 + x3 + x4 + x5)*((x3 + x4)*x5 + x1*(x3 + x4 + x5) + x2*(x3 + x4 + x5)) - t*((4*x1*x3 + 9*x2*x3 + 4*x1*x4 + 529*x2*x4)*x5 + 484*x3*x4*(x1 + x2 + x5) + 1225*x1*x2*(x3 + x4 + x5));\n",
    "$$"
   ]
  },
  {
   "cell_type": "code",
   "execution_count": 7,
   "metadata": {},
   "outputs": [
    {
     "data": {
      "text/plain": [
       "[7, 64, [log(z)/z, 1/z, 1/sqrt(z), log(z), 1, sqrt(z), z]]"
      ]
     },
     "execution_count": 7,
     "metadata": {},
     "output_type": "execute_result"
    }
   ],
   "source": [
    "s = open(\"PF-Kite-d4-case3.txt\").readlines()[0]\n",
    "dopKited4case3 = OA(s.replace(\"^\", \"**\").replace(\"t\", \"z\").replace(\"D\", \"Dz\"))\n",
    "[dopKited4case3.order(),dopKited4case3.degree(),dopKited4case3.local_basis_monomials(0)]"
   ]
  },
  {
   "cell_type": "code",
   "execution_count": null,
   "metadata": {},
   "outputs": [],
   "source": [
    "#fac3=dopKited4case3.factor(); \n",
    "#save(fac3,'PF-Kite-d4-case3-factorized.txt')"
   ]
  },
  {
   "cell_type": "markdown",
   "metadata": {},
   "source": [
    "The factorisation is in the text file <a href=\"PF-Kite-d4-case3-factor.txt\">PF-Kite-d4-case3-factor.txt</a>"
   ]
  },
  {
   "cell_type": "code",
   "execution_count": 36,
   "metadata": {},
   "outputs": [
    {
     "data": {
      "text/plain": [
       "[2, 2, 2, 1]"
      ]
     },
     "execution_count": 36,
     "metadata": {},
     "output_type": "execute_result"
    }
   ],
   "source": [
    "file = open('PF-Kite-d4-case3-factor.txt', 'r')\n",
    "lines = file.readlines()\n",
    "s = ''.join(lines);\n",
    "fac3=eval(preparse(s))\n",
    "[x.order() for x  in fac3]"
   ]
  },
  {
   "cell_type": "code",
   "execution_count": 37,
   "metadata": {},
   "outputs": [
    {
     "data": {
      "text/plain": [
       "z*Dz + 1"
      ]
     },
     "execution_count": 37,
     "metadata": {},
     "output_type": "execute_result"
    }
   ],
   "source": [
    "fac3[3]"
   ]
  },
  {
   "cell_type": "code",
   "execution_count": 68,
   "metadata": {},
   "outputs": [
    {
     "data": {
      "text/plain": [
       "(-10737135502) * (alpha + 1/2) * (alpha + 1)"
      ]
     },
     "execution_count": 68,
     "metadata": {},
     "output_type": "execute_result"
    }
   ],
   "source": [
    "fac3[2].indicial_polynomial(z).factor()"
   ]
  },
  {
   "cell_type": "markdown",
   "metadata": {},
   "source": [
    "$$F := (x1 + 9*x2 + 7*x3 + 11*x4 + 27*x5)*(x1*x3 + x2*x3 + x1*x4 + x2*x4 + x1*x5 + x2*x5 + x3*x5 + x4*x5) - t*(18587*x1*x2*x3 + 18587*x1*x2*x4 + 40073*x1*x3*x4 + 40073*x2*x3*x4 + 18587*x1*x2*x5 + 30107*x1*x3*x5 + 11990*x2*x3*x5 + 8388*x1*x4*x5 + 13117*x2*x4*x5 + 40073*x3*x4*x5)\n",
    "$$"
   ]
  },
  {
   "cell_type": "code",
   "execution_count": 77,
   "metadata": {},
   "outputs": [
    {
     "data": {
      "text/plain": [
       "[7, 83, [log(z)/z, 1/z, 1, z, z^2, z^3, z^4]]"
      ]
     },
     "execution_count": 77,
     "metadata": {},
     "output_type": "execute_result"
    }
   ],
   "source": [
    "s = open(\"PF-Kite-d4-case4.txt\").readlines()[0]\n",
    "dopKited4case4 = OA(s.replace(\"^\", \"**\").replace(\"t\", \"z\").replace(\"D\", \"Dz\"))\n",
    "[dopKited4case4.order(),dopKited4case4.degree(),dopKited4case4.local_basis_monomials(0)]"
   ]
  },
  {
   "cell_type": "code",
   "execution_count": 21,
   "metadata": {},
   "outputs": [],
   "source": [
    "#fac4=dopKited4case4.factor(); \n",
    "#save(fac4,'PF-Kite-d4-case4-factorized.txt')"
   ]
  },
  {
   "cell_type": "markdown",
   "metadata": {},
   "source": [
    "The factorisation is in the text file <a href=\"PF-Kite-d4-case4-factor.txt\">PF-Kite-d4-case4-factor.txt</a>"
   ]
  },
  {
   "cell_type": "code",
   "execution_count": 78,
   "metadata": {},
   "outputs": [
    {
     "data": {
      "text/plain": [
       "[2, 2, 2, 1]"
      ]
     },
     "execution_count": 78,
     "metadata": {},
     "output_type": "execute_result"
    }
   ],
   "source": [
    "file = open('PF-Kite-d4-case4-factor.txt', 'r')\n",
    "lines = file.readlines()\n",
    "s = ''.join(lines);\n",
    "fac4=eval(preparse(s))\n",
    "[x.order() for x  in fac4]"
   ]
  },
  {
   "cell_type": "code",
   "execution_count": 80,
   "metadata": {},
   "outputs": [
    {
     "data": {
      "text/plain": [
       "z*Dz + 1"
      ]
     },
     "execution_count": 80,
     "metadata": {},
     "output_type": "execute_result"
    }
   ],
   "source": [
    "fac4[3]"
   ]
  },
  {
   "cell_type": "code",
   "execution_count": 83,
   "metadata": {},
   "outputs": [
    {
     "data": {
      "text/plain": [
       "(-11777525590975855237455256523512994182656) * alpha * (alpha + 1)"
      ]
     },
     "execution_count": 83,
     "metadata": {},
     "output_type": "execute_result"
    }
   ],
   "source": [
    "fac4[2].indicial_polynomial(z).factor()"
   ]
  },
  {
   "cell_type": "code",
   "execution_count": 82,
   "metadata": {},
   "outputs": [
    {
     "data": {
      "text/plain": [
       "f(z) = _C1/z*exp(Int(847/88047022669060805739854742669972843905645406*I*(115873965948158562936450175*z^2-53402656910111343602130*z-66457295285137400136)*169365811678089384801542845083^(1/2)*((1605845329*z^2-1442628*z+16)*(38604042431705866407252675*z^2-71123541708392066285260*z+33228647642568700068))^(1/2)*151866489106463630740974311009010948821091245798505274884912631227^(1/2)/(12945558468042521915*z^2-10621955457125639*z+216349271176)/(61992121219472667071984719871505075*z^4-169904679759525050388205264580440*z^3+156582546012407332229287888452*z^2-49074554158637871702262864*z+531658362281099201088),z))/(38604042431705866407252675*z^2-71123541708392066285260*z+33228647642568700068)^(1/2)*((12945558468042521915*z^2-10621955457125639*z+216349271176)/(1605845329*z^2-1442628*z+16))^(1/2)+_C2/z*exp(-Int(847/88047022669060805739854742669972843905645406*I*(115873965948158562936450175*z^2-53402656910111343602130*z-66457295285137400136)*169365811678089384801542845083^(1/2)*((1605845329*z^2-1442628*z+16)*(38604042431705866407252675*z^2-71123541708392066285260*z+33228647642568700068))^(1/2)*151866489106463630740974311009010948821091245798505274884912631227^(1/2)/(12945558468042521915*z^2-10621955457125639*z+216349271176)/(61992121219472667071984719871505075*z^4-169904679759525050388205264580440*z^3+156582546012407332229287888452*z^2-49074554158637871702262864*z+531658362281099201088),z))/(38604042431705866407252675*z^2-71123541708392066285260*z+33228647642568700068)^(1/2)*((12945558468042521915*z^2-10621955457125639*z+216349271176)/(1605845329*z^2-1442628*z+16))^(1/2)"
      ]
     },
     "execution_count": 82,
     "metadata": {},
     "output_type": "execute_result"
    }
   ],
   "source": [
    "maple('with(DEtools);')\n",
    "maple.set('L',fac4[2])\n",
    "solKite4ptcase5=maple('dsolve(diffop2de(L,f(z),[Dz,z]))')\n",
    "solKite4ptcase5"
   ]
  },
  {
   "cell_type": "markdown",
   "metadata": {},
   "source": [
    "$$F := (25*x1 + 49*x2 + 100*x3 + 100*x4 + 100*x5)*((x3 + x4)*x5 + x1*(x3 + x4 + x5) + x2*(x3 + x4 + x5)) - t*((676*x1*x3 + 23*x2*x3 + 13*x1*x4 + 256*x2*x4)*x5 + 841*x3*x4*(x1 + x2 + x5) + 784*x1*x2*(x3 + x4 + x5))\n",
    "$$"
   ]
  },
  {
   "cell_type": "code",
   "execution_count": 11,
   "metadata": {},
   "outputs": [
    {
     "data": {
      "text/plain": [
       "[7, 82, [log(z)/z, 1/z, 1/sqrt(z), 1, z, z^2, z^3]]"
      ]
     },
     "execution_count": 11,
     "metadata": {},
     "output_type": "execute_result"
    }
   ],
   "source": [
    "s = open(\"PF-Kite-d4-case5.txt\").readlines()[0]\n",
    "dopKited4case5 = OA(s.replace(\"^\", \"**\").replace(\"t\", \"z\").replace(\"D\", \"Dz\"))\n",
    "[dopKited4case5.order(),dopKited4case5.degree(),dopKited4case5.local_basis_monomials(0)]"
   ]
  },
  {
   "cell_type": "code",
   "execution_count": 28,
   "metadata": {},
   "outputs": [],
   "source": [
    "#fac5=dopKited4case5.factor(); \n",
    "#[x.order() for x in fac5]\n",
    "#save(fac5,'PF-Kite-d4-case5-factorized.txt')"
   ]
  },
  {
   "cell_type": "markdown",
   "metadata": {},
   "source": [
    "The factorisation is in the text file <a href=\"PF-Kite-d4-case5-factor.txt\">PF-Kite-d4-case5-factor.txt</a>"
   ]
  },
  {
   "cell_type": "code",
   "execution_count": 42,
   "metadata": {},
   "outputs": [
    {
     "data": {
      "text/plain": [
       "[2, 2, 2, 1]"
      ]
     },
     "execution_count": 42,
     "metadata": {},
     "output_type": "execute_result"
    }
   ],
   "source": [
    "file = open('PF-Kite-d4-case5-factor.txt', 'r')\n",
    "lines = file.readlines()\n",
    "s = ''.join(lines);\n",
    "fac5=eval(preparse(s))\n",
    "[x.order() for x  in fac5]"
   ]
  },
  {
   "cell_type": "code",
   "execution_count": 72,
   "metadata": {},
   "outputs": [
    {
     "data": {
      "text/plain": [
       "(28040323154154623325) * alpha * (alpha + 1)"
      ]
     },
     "execution_count": 72,
     "metadata": {},
     "output_type": "execute_result"
    }
   ],
   "source": [
    "fac5[2].indicial_polynomial(z).factor()"
   ]
  },
  {
   "cell_type": "code",
   "execution_count": 55,
   "metadata": {},
   "outputs": [
    {
     "data": {
      "text/plain": []
     },
     "execution_count": 55,
     "metadata": {},
     "output_type": "execute_result"
    }
   ],
   "source": [
    "maple('with(DEtools);')\n",
    "maple.set('L',fac5[2])\n",
    "solKite4ptcase5=maple('dsolve(diffop2de(L,f(z),[Dz,z]))')\n",
    "solKite4ptcase5"
   ]
  },
  {
   "cell_type": "markdown",
   "metadata": {},
   "source": [
    "$$F := (x1 + 9*x2 + 7*x3 + 11*x4 + 27*x5)*(x1*x3 + x2*x3 + x1*x4 + x2*x4 + x1*x5 + x2*x5 + x3*x5 + x4*x5) - t*(9425*x1*x2*x3 + 9425*x1*x2*x4 + 28699*x1*x3*x4 + 28699*x2*x3*x4 + 9425*x1*x2*x5 + 8379*x1*x3*x5 + 14428*x2*x3*x5 + 11622*x1*x4*x5 + 32253*x2*x4*x5 + 28699*x3*x4*x5)\n",
    "$$"
   ]
  },
  {
   "cell_type": "code",
   "execution_count": 4,
   "metadata": {},
   "outputs": [
    {
     "data": {
      "text/plain": [
       "[7, 83, [log(z)/z, 1/z, 1, z, z^2, z^3, z^4]]"
      ]
     },
     "execution_count": 4,
     "metadata": {},
     "output_type": "execute_result"
    }
   ],
   "source": [
    "s = open(\"PF-Kite-d4-case6.txt\").readlines()[0]\n",
    "dopKited4case6 = OA(s.replace(\"^\", \"**\").replace(\"t\", \"z\").replace(\"D\", \"Dz\"))\n",
    "[dopKited4case6.order(),dopKited4case6.degree(),dopKited4case6.local_basis_monomials(0)]"
   ]
  },
  {
   "cell_type": "code",
   "execution_count": 21,
   "metadata": {},
   "outputs": [],
   "source": [
    "#fac6=dopKited4case6.factor(); \n",
    "#[x.order() for x in fac6]\n",
    "#save(fac6,'PF-Kite-d4-case6-factorized.txt')"
   ]
  },
  {
   "cell_type": "markdown",
   "metadata": {},
   "source": [
    "The factorisation is in the text file <a href=\"PF-Kite-d4-case6-factor.txt\">PF-Kite-d4-case6-factor.txt</a>"
   ]
  },
  {
   "cell_type": "code",
   "execution_count": 89,
   "metadata": {},
   "outputs": [
    {
     "data": {
      "text/plain": [
       "[2, 2, 2, 1]"
      ]
     },
     "execution_count": 89,
     "metadata": {},
     "output_type": "execute_result"
    }
   ],
   "source": [
    "file = open('PF-Kite-d4-case6-factor.txt', 'r')\n",
    "lines = file.readlines()\n",
    "s = ''.join(lines);\n",
    "fac6=eval(preparse(s))\n",
    "[x.order() for x  in fac6]"
   ]
  },
  {
   "cell_type": "code",
   "execution_count": 46,
   "metadata": {},
   "outputs": [
    {
     "data": {
      "text/plain": [
       "z*Dz + 1"
      ]
     },
     "execution_count": 46,
     "metadata": {},
     "output_type": "execute_result"
    }
   ],
   "source": [
    "fac6[3]"
   ]
  },
  {
   "cell_type": "code",
   "execution_count": 90,
   "metadata": {},
   "outputs": [
    {
     "data": {
      "text/plain": [
       "(27563759227091343110757450261958856704) * alpha * (alpha + 1)"
      ]
     },
     "execution_count": 90,
     "metadata": {},
     "output_type": "execute_result"
    }
   ],
   "source": [
    "fac6[2].indicial_polynomial(z).factor()"
   ]
  },
  {
   "cell_type": "code",
   "execution_count": 91,
   "metadata": {},
   "outputs": [
    {
     "data": {
      "text/plain": [
       "f(z) = _C1/z*exp(Int(28275/42567237279667355491905696060267242182*I*(4158470347527492606423125*z^2-4285547979234601962350*z+1312529981254984112)*10057060313594737^(1/2)*((9425*z-4)*(9425*z-16)*(893374953319316484420625*z^2-1054014058282744341900*z+328132495313746028))^(1/2)*135126689593440630512845987182923918242875189398752452675339^(1/2)/(49895644624109375*z^2-73095346700675*z+24157431392)/(79359055462700707883886881640625*z^4-262029906256733763919478500000*z^3+285005861640263194209577500*z^2-129309875096736764159600*z+21000479700079745792),z))/(893374953319316484420625*z^2-1054014058282744341900*z+328132495313746028)^(1/2)*((49895644624109375*z^2-73095346700675*z+24157431392)/(9425*z-4)/(9425*z-16))^(1/2)+_C2/z*exp(-Int(28275/42567237279667355491905696060267242182*I*(4158470347527492606423125*z^2-4285547979234601962350*z+1312529981254984112)*10057060313594737^(1/2)*((9425*z-4)*(9425*z-16)*(893374953319316484420625*z^2-1054014058282744341900*z+328132495313746028))^(1/2)*135126689593440630512845987182923918242875189398752452675339^(1/2)/(49895644624109375*z^2-73095346700675*z+24157431392)/(79359055462700707883886881640625*z^4-262029906256733763919478500000*z^3+285005861640263194209577500*z^2-129309875096736764159600*z+21000479700079745792),z))/(893374953319316484420625*z^2-1054014058282744341900*z+328132495313746028)^(1/2)*((49895644624109375*z^2-73095346700675*z+24157431392)/(9425*z-4)/(9425*z-16))^(1/2)"
      ]
     },
     "execution_count": 91,
     "metadata": {},
     "output_type": "execute_result"
    }
   ],
   "source": [
    "maple('with(DEtools);')\n",
    "maple.set('L',fac6[2])\n",
    "solKite4ptcase6=maple('dsolve(diffop2de(L,f(z),[Dz,z]))')\n",
    "solKite4ptcase6"
   ]
  },
  {
   "cell_type": "markdown",
   "metadata": {},
   "source": [
    "$$F := (x1 + 9*x2 + 7*x3 + 11*x4 + 27*x5)*(x1*x3 + x2*x3 + x1*x4 + x2*x4 + x1*x5 + x2*x5 + x3*x5 + x4*x5) - t*(9425*x1*x2*x3 + 9425*x1*x2*x4 + 28699*x1*x3*x4 + 28699*x2*x3*x4 + 9425*x1*x2*x5 + 8379*x1*x3*x5 + 14428*x2*x3*x5 + 11622*x1*x4*x5 + 32253*x2*x4*x5 + 28699*x3*x4*x5)\n",
    "$$"
   ]
  },
  {
   "cell_type": "code",
   "execution_count": 84,
   "metadata": {},
   "outputs": [
    {
     "data": {
      "text/plain": [
       "[7, 83, [log(z)/z, 1/z, 1, z, z^2, z^3, z^4]]"
      ]
     },
     "execution_count": 84,
     "metadata": {},
     "output_type": "execute_result"
    }
   ],
   "source": [
    "s = open(\"PF-Kite-d4-case7.txt\").readlines()[0]\n",
    "dopKited4case7 = OA(s.replace(\"^\", \"**\").replace(\"t\", \"z\").replace(\"D\", \"Dz\"))\n",
    "[dopKited4case7.order(),dopKited4case7.degree(),dopKited4case7.local_basis_monomials(0)]"
   ]
  },
  {
   "cell_type": "code",
   "execution_count": null,
   "metadata": {},
   "outputs": [],
   "source": [
    "#fac7=dopKited4case7.factor(); \n",
    "#[x.order() for x in fac7]\n",
    "#save(fac7,'PF-Kite-d4-case7-factorized.txt')"
   ]
  },
  {
   "cell_type": "markdown",
   "metadata": {},
   "source": [
    "The factorisation is in the text file <a href=\"PF-Kite-d4-case7-factor.txt\">PF-Kite-d4-case7-factor.txt</a>"
   ]
  },
  {
   "cell_type": "code",
   "execution_count": 85,
   "metadata": {},
   "outputs": [
    {
     "data": {
      "text/plain": [
       "[2, 2, 2, 1]"
      ]
     },
     "execution_count": 85,
     "metadata": {},
     "output_type": "execute_result"
    }
   ],
   "source": [
    "file = open('PF-Kite-d4-case7-factor.txt', 'r')\n",
    "lines = file.readlines()\n",
    "s = ''.join(lines);\n",
    "fac7=eval(preparse(s))\n",
    "[x.order() for x  in fac7]"
   ]
  },
  {
   "cell_type": "code",
   "execution_count": 86,
   "metadata": {},
   "outputs": [
    {
     "data": {
      "text/plain": [
       "z*Dz + 1"
      ]
     },
     "execution_count": 86,
     "metadata": {},
     "output_type": "execute_result"
    }
   ],
   "source": [
    "fac7[3]"
   ]
  },
  {
   "cell_type": "code",
   "execution_count": 87,
   "metadata": {},
   "outputs": [
    {
     "data": {
      "text/plain": [
       "(1346642082271886600835354721848) * alpha * (alpha + 1)"
      ]
     },
     "execution_count": 87,
     "metadata": {},
     "output_type": "execute_result"
    }
   ],
   "source": [
    "fac7[2].indicial_polynomial(z).factor()"
   ]
  },
  {
   "cell_type": "code",
   "execution_count": 88,
   "metadata": {},
   "outputs": [
    {
     "data": {
      "text/plain": [
       "f(z) = _C1/z*exp(Int(60025/26008128507152566372044876*(14762142213854*z^2-2049898523355*z-305480270160)*7860567^(1/2)*((49*z-9)*(196*z-1)*(24650738112*z^2-131484067255*z-50913378360))^(1/2)*37648041476460396119349768588492681226487481^(1/2)/(26369025718*z^2+40557940479*z-391641372)/(236745688827648*z^4-1307464770114076*z^3-250369615193117*z^2+91122598361385*z-458220405240),z))*(1/(49*z-9)/(196*z-1)/(24650738112*z^2-131484067255*z-50913378360)*(26369025718*z^2+40557940479*z-391641372))^(1/2)+_C2/z*exp(-Int(60025/26008128507152566372044876*(14762142213854*z^2-2049898523355*z-305480270160)*7860567^(1/2)*((49*z-9)*(196*z-1)*(24650738112*z^2-131484067255*z-50913378360))^(1/2)*37648041476460396119349768588492681226487481^(1/2)/(26369025718*z^2+40557940479*z-391641372)/(236745688827648*z^4-1307464770114076*z^3-250369615193117*z^2+91122598361385*z-458220405240),z))*(1/(49*z-9)/(196*z-1)/(24650738112*z^2-131484067255*z-50913378360)*(26369025718*z^2+40557940479*z-391641372))^(1/2)"
      ]
     },
     "execution_count": 88,
     "metadata": {},
     "output_type": "execute_result"
    }
   ],
   "source": [
    "maple('with(DEtools);')\n",
    "maple.set('L',fac5[2])\n",
    "solKite4ptcase7=maple('dsolve(diffop2de(L,f(z),[Dz,z]))')\n",
    "solKite4ptcase7"
   ]
  },
  {
   "cell_type": "code",
   "execution_count": null,
   "metadata": {},
   "outputs": [],
   "source": []
  }
 ],
 "metadata": {
  "kernelspec": {
   "display_name": "SageMath 9.6",
   "language": "sage",
   "name": "sagemath-9.6"
  },
  "language_info": {
   "codemirror_mode": {
    "name": "ipython",
    "version": 3
   },
   "file_extension": ".py",
   "mimetype": "text/x-python",
   "name": "python",
   "nbconvert_exporter": "python",
   "pygments_lexer": "ipython3",
   "version": "3.10.3"
  }
 },
 "nbformat": 4,
 "nbformat_minor": 1
}
