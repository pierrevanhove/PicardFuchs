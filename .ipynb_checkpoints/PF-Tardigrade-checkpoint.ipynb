{
 "cells": [
  {
   "cell_type": "markdown",
   "metadata": {},
   "source": [
    "<H3><center><b>Picard-Fuchs equation for the tardigrade with 3 and 5 points in four dimensions</b></center></H3>\n",
    "$$\n",
    "U=x_3 x_4 + x_3 x_5 + x_4 x_5 + x_3 x_6 + x_4 x_6 + x_2 (x_3 + x_5 + x_6) + \n",
    " x_1 (x_2 + x_4 + x_5 + x_6)\n",
    "$$\n",
    "$$L=m_1^2 x_1 + \\cdots + m_6^2 x_6\n",
    "$$\n",
    "$$V_{5pt}=p_1^2  x_1  x_2  x_5 + s_{12}  x_2  x_3  x_5 + p_1^2  x_1  x_4  x_5 + p_5^2  x_1  x_4  x_5 - \n",
    " s_{45}  x_1  x_4  x_5 - s_{51}  x_1  x_4  x_5 + p_3^2  x_3  x_4  x_5 + p_5^2  x_3  x_4  x_5 + \n",
    " s_{12}  x_3  x_4  x_5 - s_{23}  x_3  x_4  x_5 - s_{34}  x_3  x_4  x_5 - s_{45}  x_3  x_4  x_5 - \n",
    " s_{51}  x_3  x_4  x_5 + s_{34}  x_2  x_3  x_6 + s_{23}  x_1  x_4  x_6 + p_3^2  x_3  x_4  x_6 + \n",
    " p_5^2  x_1  x_5  x_6 - s_{23}  x_1  x_5  x_6 - s_{45}  x_1  x_5  x_6 - s_{51}  x_1  x_5  x_6 + \n",
    " p_5^2  x_2  x_5  x_6 - s_{23}  x_2  x_5  x_6 - s_{45}  x_2  x_5  x_6 - s_{51}  x_2  x_5  x_6 + \n",
    " p_5^2  x_3  x_5  x_6 - s_{23}  x_3  x_5  x_6 - s_{45}  x_3  x_5  x_6 - s_{51}  x_3  x_5  x_6 + \n",
    " p_5^2  x_4  x_5  x_6 - s_{23}  x_4  x_5  x_6 - s_{45}  x_4  x_5  x_6 - s_{51}  x_4  x_5  x_6 + \n",
    " p_2^2  x_1  x_3  (x_2 + x_4 + x_5 + x_6) + \n",
    " p_4^2  x_4  (x_3  x_5 + x_1  (x_2 + x_5) + x_2  (x_3 + x_5 + x_6)) $$\n",
    " \n",
    " $$\n",
    " V_{3pt}=p_3^2  ((x2 + x4)  x5  x6 + x1  (x2 + x5)  x6 + x3  x5  (x4 + x6)) + \n",
    " p_2^2  (x1  x4  (x2 + x5) + x2  x3  (x4 + x6) + x2  x4  (x5 + x6)) + \n",
    " p_1^2  (x2  x3  x5 + x1  (x2  x3 + x4  x6 + x3  (x4 + x5 + x6)))\n",
    " $$\n",
    " \n",
    "$$Int = {1\\over\n",
    "     \\left(\n",
    "      UL-tV \\right)^{2}}\n",
    "$$"
   ]
  },
  {
   "cell_type": "code",
   "execution_count": 2,
   "metadata": {},
   "outputs": [],
   "source": [
    "from ore_algebra import *\n",
    "OA, z, Dz = DifferentialOperators(QQ, 'z')"
   ]
  },
  {
   "cell_type": "markdown",
   "metadata": {},
   "source": [
    "<center><b>5pt</b></center>"
   ]
  },
  {
   "cell_type": "code",
   "execution_count": 1,
   "metadata": {},
   "outputs": [
    {
     "data": {
      "image/png": "[encoded data removed]",
      "text/plain": [
       "<IPython.core.display.Image object>"
      ]
     },
     "execution_count": 1,
     "metadata": {},
     "output_type": "execute_result"
    }
   ],
   "source": [
    "from IPython.display import Image\n",
    "Image(filename=\"Tardigrade5pt.png\")"
   ]
  },
  {
   "cell_type": "markdown",
   "metadata": {},
   "source": [
    "$$F := (6889*x1 + 841*x2 + 2809*x3 + 529*x4 + 121*x5 + 3481*x6)*(x3*x4 + x3*x5 + x4*x5 + x3*x6 + x4*x6 + x2*(x3 + x5 + x6) + x1*(x2 + x4 + x5 + x6)) - t*(5329*x1*x2*x5 + 7*x2*x3*x5 + 11524*x1*x4*x5 + 6623*x3*x4*x5 + 37*x2*x3*x6 + 71*x1*x4*x6 + 529*x3*x4*x6 + 6124*x1*x5*x6 + 6124*x2*x5*x6 + 6124*x3*x5*x6 + 6124*x4*x5*x6 + 1681*x1*x3*(x2 + x4 + x5 + x6) + 841*x4*(x3*x5 + x1*(x2 + x5) + x2*(x3 + x5 + x6)));$$"
   ]
  },
  {
   "cell_type": "code",
   "execution_count": 3,
   "metadata": {},
   "outputs": [
    {
     "data": {
      "text/plain": [
       "[11,\n",
       " 215,\n",
       " (1801389646449460544674333965641262602256458970305409792018485570241670101866539280733866774426553354058130201007679721108521127559820739340266122040127369511985146130297250259909299088325750694358936151854287929922531620792555186247499662959197071319014183250163015121543745368590150685692923224949800389103044452936533268932296117648863369380539589942008873091513708660829292463848560195308832023249565012249496662555474284735269344302209796813062615142503120127783357952415735140723291562637098196685708647055512228657580507871209671222662553961349811114379933984913412810192733339271568971956869488599600417278555585902129703669446999500149867203082329013070032635222812693080486831471062257996680475646407104745662097890813181666091441342145439775282654736006734215887907022030410935916683007996144022504177359535378549122417898508834927054800036949699368016719285951603000904243936320066852288359607013239605747705244577753677634025000798077456975780634762662082474798807796564147085061822774697433828792693395790360040147955115141876555455951483290710750650782543723404541848886907347881711285070635900792694786017088818269274985433989882850808064983390685018876980359938118509817444883182665118525710997164819758348859779777387662753285344529730874915981867253346506206202465023989632178330703149465863341478110858231879554180342262469959838504219129007129559668324584021771872142026838950042331223635905110323123638070148079378229662754850709622554560627402369722726699862024294542047543577305903767570970219669154507211186491988432130376265303803071368414434936339020398740383155832307896553542422681380956161326463468520789931901570745742946636245634357477869867076262050565494453579726878429060358414265856782776044918824999353845737590860832346630469636318749172317729467705548899425397172044838406708385340341358141433181506222888724482725649237275946543530637121496119931049319530306988081595588459886157125067499194141285520682312276093354325069057228800000000000000000000000000000) * (alpha - 7) * (alpha - 6) * (alpha - 5) * (alpha - 4) * (alpha - 3) * (alpha - 2) * (alpha - 1) * alpha^2 * (alpha + 1)^2]"
      ]
     },
     "execution_count": 3,
     "metadata": {},
     "output_type": "execute_result"
    }
   ],
   "source": [
    "s = open(\"PF-Tardigrade-5pt-d4-case2.txt\").readlines()[0]\n",
    "dopTardigrade5ptd4case2 = OA(s.replace(\"^\", \"**\").replace(\"t\", \"z\").replace(\"D\", \"Dz\"))\n",
    "[dopTardigrade5ptd4case2.order(),dopTardigrade5ptd4case2.degree(),dopTardigrade5ptd4case2.indicial_polynomial(z).factor()]"
   ]
  },
  {
   "cell_type": "markdown",
   "metadata": {},
   "source": [
    "$$F := (x1 + x2 + x3 + x4 + x5 + x6)*(x3*x4 + x3*x5 + x4*x5 + x3*x6 + x4*x6 + x2*(x3 + x5 + x6) + x1*(x2 + x4 + x5 + x6)) - t*(x1*x2*x5 + x2*x3*x5 + x1*x4*x5 + x3*x4*x5 + x2*x3*x6 + x1*x4*x6 + x3*x4*x6 + x1*x5*x6 + x2*x5*x6 + x3*x5*x6 + x4*x5*x6 + x1*x3*(x2 + x4 + x5 + x6) + x4*(x3*x5 + x1*(x2 + x5) + x2*(x3 + x5 + x6)));\n",
    "$$"
   ]
  },
  {
   "cell_type": "code",
   "execution_count": 7,
   "metadata": {},
   "outputs": [
    {
     "data": {
      "text/plain": [
       "[11,\n",
       " 215,\n",
       " (-5601884166744600488619923104618756147690365045669972209503386836778969698989229358006886786281114756095775564467500759382391735197455390160028403745844003030910912296606212504468726015458184312188467327131524509153349988346389657587562589128020541978445584526596885998894766136909062187404849342959103585523632886490562910903418649720692216475569864789680829805288227372640972384840175537999354713809940622984541841640924703911189775149157168255192683740186925399047440847472239749767528297815000267411022754895010571197384419955511320508053982100135267641279494768960852644708926853978146511542275041437489746582596114998110192480001588776335235093998938292473649480145876229914692827391231657779974868315369304729074430879171567026935237403912071585309517351580958195109907604949892575661325001726027054754991685637897538899488387189895170769648907582967021084219985842611425774985672274659961897434571055871994537051685117213714919155613004600853851401372785841065599810495259177241936772149532784683143101704809519350810780720812333932417555028166878710684439354058584813807245414880350108360752443533677704438057296583192184897919169533102350922709275028248555072216807068836145449402596786538547172355921707071915552430054399563549968897795190536782661536561446307116981560663712909698089705616578760617770556349531377949538036337487830168591019335541645006010005674210402824956758211952000304248019052249640039863226940338602978113167208907359880040239876897696873500320519743541227943520207905230074142816840689924905516567469019084320128456155456898554035858483871090365543794979928846552882952103757621821532306024793462340194062323664070926713985437398667213794550888659068533857978369971100248724650634084831311987552932282019580768589364596612650698290437634108024065210958661059324862114184505542151276902480576689122577231753845208080092185878004322057937635577060539935348538003733520401180842762159741707888274905672544980453277951190293696411564739501292369069761796356338541980645795687301120) * (alpha - 7) * (alpha - 6) * (alpha - 5) * (alpha - 4) * (alpha - 3) * (alpha - 2) * (alpha - 1) * alpha^2 * (alpha + 1)^2]"
      ]
     },
     "execution_count": 7,
     "metadata": {},
     "output_type": "execute_result"
    }
   ],
   "source": [
    "s = open(\"PF-Tardigrade-5pt-d4-case3.txt\").readlines()[0]\n",
    "dopTardigrade5ptd4case3 = OA(s.replace(\"^\", \"**\").replace(\"t\", \"z\").replace(\"D\", \"Dz\"))\n",
    "[dopTardigrade5ptd4case3.order(),dopTardigrade5ptd4case3.degree(),dopTardigrade5ptd4case3.indicial_polynomial(z).factor()]"
   ]
  },
  {
   "cell_type": "markdown",
   "metadata": {},
   "source": [
    "$$F := (x1 + x2 + x3 + x4 + 2*x6)*((x3 + x4)*(x5 + x6) + x1*(x3 + x4 + x5 + x6) + x2*(x3 + x4 + x5 + x6)) - t*(x3*x4*x5 + x2*x3*(x4 + x5) + x3*x4*x6 + x3*x5*x6 + x4*x5*x6 + x2*(-2*x4 + x5)*x6 + x1*(x5*(x4 + x6) + x3*(x4 + x5 + x6) + x2*(x3 + x4 + x5 + x6)))\n",
    "$$"
   ]
  },
  {
   "cell_type": "code",
   "execution_count": 8,
   "metadata": {},
   "outputs": [
    {
     "data": {
      "text/plain": [
       "[6, 50, (-15443427328) * (alpha - 1) * alpha * (alpha + 1/2) * (alpha + 1)^3]"
      ]
     },
     "execution_count": 8,
     "metadata": {},
     "output_type": "execute_result"
    }
   ],
   "source": [
    "s = open(\"PF-Tardigrade-5pt-d4-case4.txt\").readlines()[0]\n",
    "dopTardigrade5ptd4case4 = OA(s.replace(\"^\", \"**\").replace(\"t\", \"z\").replace(\"D\", \"Dz\"))\n",
    "[dopTardigrade5ptd4case4.order(),dopTardigrade5ptd4case4.degree(),dopTardigrade5ptd4case4.indicial_polynomial(z).factor()]"
   ]
  },
  {
   "cell_type": "markdown",
   "metadata": {},
   "source": [
    "The factorisation is in the text file <a href=\"PF-Tardigrade-5pt-factor.txt\">PF-Tardigrade-5pt-factor.txt</a>"
   ]
  },
  {
   "cell_type": "code",
   "execution_count": null,
   "metadata": {},
   "outputs": [],
   "source": [
    "#fac=dopTardigrade5ptd4case4.factor(verbose=True); \n",
    "#[x.order() for x in fac]\n",
    "#save(fac,'PF-Tardigrade5ptd4case4.txt')"
   ]
  },
  {
   "cell_type": "code",
   "execution_count": 13,
   "metadata": {},
   "outputs": [
    {
     "data": {
      "text/plain": [
       "[6]"
      ]
     },
     "execution_count": 13,
     "metadata": {},
     "output_type": "execute_result"
    }
   ],
   "source": [
    "file = open('PF-Tardigrade-5pt-factor.txt', 'r')\n",
    "lines = file.readlines()\n",
    "s = ''.join(lines);\n",
    "fac1=eval(preparse(s))\n",
    "[x.order() for x  in fac1]\n",
    "# this is irreducible"
   ]
  },
  {
   "cell_type": "markdown",
   "metadata": {},
   "source": [
    "$$F := (64*x1 + 81*x2 + 9*x3 + 25*x4 + 74*x6)*((x3 + x4)*(x5 + x6) + x1*(x3 + x4 + x5 + x6) + x2*(x3 + x4 + x5 + x6)) - t*(784*x3*x5*x6 + 784*x4*x5*x6 + 4*x3*x4*(x5 + x6) + x1*(4*x3*x4 + 289*x3*x5 + 1783*x4*x5 + 1525*x3*x6 + 2274*x4*x6 + 784*x5*x6 + 1521*x2*(x3 + x4 + x5 + x6)) + x2*(446*x4*x6 + 784*x5*x6 + x3*(4*x4 + 25*x5 + 1216*x6)));\n",
    "$$"
   ]
  },
  {
   "cell_type": "code",
   "execution_count": 9,
   "metadata": {},
   "outputs": [
    {
     "data": {
      "text/plain": [
       "[11,\n",
       " 194,\n",
       " (-540565838828106981384287874562931296201690226829309369334385328428056284926997029253316674138884699136068066412404750727860586436488179600618185426507528429097491724673318468326038428228069596758782069916518692324826618789868209718266626157412035862433606495160330184362428374549214720715369374589526518619456845510306191726174591080472812998648789776576790536173217492637274471189594351934367915742752043028692583786672617389285571561720541961164341783772907853921029710606238035841297658773209295085222744069921550822969597245931059261130186518607401363178801541881173937771802244970818107975000195825648629308957228077247663250197851799882526392071443830816294050619268605883215236943350637532834696410760933716733470628709825062959989254216506950843263737081107853929203196413586006561485856642351975591818293056167998611401618853387689855914127262371223866328660114497722889437289796295024932438502507160966430723225137453653304600444548157560455402012438627905680061969651166520628076446287564060163218505704680280987158426266727415351071024014219277125155204733025866359803639277794483184933618534308920879245866586362130188815393132686563766185856139582464036208772787394467916702816978535598355563372459640367238277874023768229334148468163401429) * (alpha - 7) * (alpha - 6) * (alpha - 5) * (alpha - 4) * (alpha - 3) * (alpha - 2) * (alpha - 1) * alpha^2 * (alpha + 1)^2]"
      ]
     },
     "execution_count": 9,
     "metadata": {},
     "output_type": "execute_result"
    }
   ],
   "source": [
    "s = open(\"PF-Tardigrade-5pt-d4-case5.txt\").readlines()[0]\n",
    "dopTardigrade5ptd4case5 = OA(s.replace(\"^\", \"**\").replace(\"t\", \"z\").replace(\"D\", \"Dz\"))\n",
    "[dopTardigrade5ptd4case5.order(),dopTardigrade5ptd4case5.degree(),dopTardigrade5ptd4case5.indicial_polynomial(z).factor()]"
   ]
  },
  {
   "cell_type": "markdown",
   "metadata": {},
   "source": [
    "$$F := (x1 + 841*x2 + 2809*x3 + x4 + 121*x5 + 3481*x6)*(x3*x4 + x3*x5 + x4*x5 + x3*x6 + x4*x6 + x2*(x3 + x5 + x6) + x1*(x2 + x4 + x5 + x6)) - t*(5329*x1*x2*x5 + 7*x2*x3*x5 + 11524*x1*x4*x5 + 6623*x3*x4*x5 + 37*x2*x3*x6 + 71*x1*x4*x6 + 529*x3*x4*x6 + 6124*x1*x5*x6 + 6124*x2*x5*x6 + 6124*x3*x5*x6 + 6124*x4*x5*x6 + 1681*x1*x3*(x2 + x4 + x5 + x6) + 841*x4*(x3*x5 + x1*(x2 + x5) + x2*(x3 + x5 + x6)));$$"
   ]
  },
  {
   "cell_type": "code",
   "execution_count": 10,
   "metadata": {},
   "outputs": [
    {
     "data": {
      "text/plain": [
       "[11,\n",
       " 215,\n",
       " (-5601884166744600488619923104618756147690365045669972209503386836778969698989229358006886786281114756095775564467500759382391735197455390160028403745844003030910912296606212504468726015458184312188467327131524509153349988346389657587562589128020541978445584526596885998894766136909062187404849342959103585523632886490562910903418649720692216475569864789680829805288227372640972384840175537999354713809940622984541841640924703911189775149157168255192683740186925399047440847472239749767528297815000267411022754895010571197384419955511320508053982100135267641279494768960852644708926853978146511542275041437489746582596114998110192480001588776335235093998938292473649480145876229914692827391231657779974868315369304729074430879171567026935237403912071585309517351580958195109907604949892575661325001726027054754991685637897538899488387189895170769648907582967021084219985842611425774985672274659961897434571055871994537051685117213714919155613004600853851401372785841065599810495259177241936772149532784683143101704809519350810780720812333932417555028166878710684439354058584813807245414880350108360752443533677704438057296583192184897919169533102350922709275028248555072216807068836145449402596786538547172355921707071915552430054399563549968897795190536782661536561446307116981560663712909698089705616578760617770556349531377949538036337487830168591019335541645006010005674210402824956758211952000304248019052249640039863226940338602978113167208907359880040239876897696873500320519743541227943520207905230074142816840689924905516567469019084320128456155456898554035858483871090365543794979928846552882952103757621821532306024793462340194062323664070926713985437398667213794550888659068533857978369971100248724650634084831311987552932282019580768589364596612650698290437634108024065210958661059324862114184505542151276902480576689122577231753845208080092185878004322057937635577060539935348538003733520401180842762159741707888274905672544980453277951190293696411564739501292369069761796356338541980645795687301120) * (alpha - 7) * (alpha - 6) * (alpha - 5) * (alpha - 4) * (alpha - 3) * (alpha - 2) * (alpha - 1) * alpha^2 * (alpha + 1)^2]"
      ]
     },
     "execution_count": 10,
     "metadata": {},
     "output_type": "execute_result"
    }
   ],
   "source": [
    "s = open(\"PF-Tardigrade-5pt-d4-case3.txt\").readlines()[0]\n",
    "dopTardigrade5ptd4case3 = OA(s.replace(\"^\", \"**\").replace(\"t\", \"z\").replace(\"D\", \"Dz\"))\n",
    "[dopTardigrade5ptd4case3.order(),dopTardigrade5ptd4case3.degree(),dopTardigrade5ptd4case3.indicial_polynomial(z).factor()]"
   ]
  },
  {
   "cell_type": "markdown",
   "metadata": {},
   "source": [
    "<center><b>3pt</b></center>"
   ]
  },
  {
   "cell_type": "code",
   "execution_count": 2,
   "metadata": {},
   "outputs": [
    {
     "data": {
      "image/png": "[encoded data removed]",
      "text/plain": [
       "<IPython.core.display.Image object>"
      ]
     },
     "execution_count": 2,
     "metadata": {},
     "output_type": "execute_result"
    }
   ],
   "source": [
    "Image(filename=\"Tardigrade3pt.png\")"
   ]
  },
  {
   "cell_type": "markdown",
   "metadata": {},
   "source": [
    "$$F := (x1 + x2 + x3 + x4 + x5 + x6)*(x3*x4 + x3*x5 + x4*x5 + x3*x6 + x4*x6 + x2*(x3 + x5 + x6) + x1*(x2 + x4 + x5 + x6)) - t*(x2*x3*x5 + x1*x4*(x2 + x5) + (x2 + x4)*x5*x6 + x1*(x2 + x5)*x6 + x2*x3*(x4 + x6) + x3*x5*(x4 + x6) + x2*x4*(x5 + x6) + x1*(x2*x3 + x4*x6 + x3*(x4 + x5 + x6)))\n",
    "$$"
   ]
  },
  {
   "cell_type": "code",
   "execution_count": 11,
   "metadata": {},
   "outputs": [
    {
     "data": {
      "text/plain": [
       "[1, 2, (-4) * (alpha + 3/2)]"
      ]
     },
     "execution_count": 11,
     "metadata": {},
     "output_type": "execute_result"
    }
   ],
   "source": [
    "s = open(\"PF-Tardigrade-3pt-d4-case3.txt\").readlines()[0]\n",
    "dopTardigrade3ptd4case3 = OA(s.replace(\"^\", \"**\").replace(\"t\", \"z\").replace(\"D\", \"Dz\"))\n",
    "[dopTardigrade3ptd4case3.order(),dopTardigrade3ptd4case3.degree(),dopTardigrade3ptd4case3.indicial_polynomial(z).factor()]"
   ]
  },
  {
   "cell_type": "markdown",
   "metadata": {},
   "source": [
    "$$F := (6889*x1 + 841*x2 + 2809*x3 + 529*x4 + 121*x5 + 3481*x6)*(x3*x4 + x3*x5 + x4*x5 + x3*x6 + x4*x6 + x2*(x3 + x5 + x6) + x1*(x2 + x4 + x5 + x6)) - t*(529*((x2 + x4)*x5*x6 + x1*(x2 + x5)*x6 + x3*x5*(x4 + x6)) + 1681*(x1*x4*(x2 + x5) + x2*x3*(x4 + x6) + x2*x4*(x5 + x6)) + 5329*(x2*x3*x5 + x1*(x2*x3 + x4*x6 + x3*(x4 + x5 + x6))));\n",
    "$$"
   ]
  },
  {
   "cell_type": "code",
   "execution_count": 12,
   "metadata": {},
   "outputs": [
    {
     "data": {
      "text/plain": [
       "[3,\n",
       " 15,\n",
       " (-2726022416754278332477683367612925846428171055412722989806011559357928974258405376) * alpha * (alpha + 1)^2]"
      ]
     },
     "execution_count": 12,
     "metadata": {},
     "output_type": "execute_result"
    }
   ],
   "source": [
    "s = open(\"PF-Tardigrade-3pt-d4-case1.txt\").readlines()[0]\n",
    "dopTardigrade3ptd4case1 = OA(s.replace(\"^\", \"**\").replace(\"t\", \"z\").replace(\"D\", \"Dz\"))\n",
    "[dopTardigrade3ptd4case1.order(),dopTardigrade3ptd4case1.degree(),dopTardigrade3ptd4case1.indicial_polynomial(z).factor()]"
   ]
  },
  {
   "cell_type": "code",
   "execution_count": 11,
   "metadata": {
    "scrolled": true
   },
   "outputs": [],
   "source": [
    "#fac=dopTardigrade3ptd4case1.factor(verbose=True); \n",
    "#[x.order() for x in fac]\n",
    "#save(fac,'PF-Tardigrade3ptd4case1.txt')"
   ]
  },
  {
   "cell_type": "markdown",
   "metadata": {},
   "source": [
    "The factorisation is in the text file <a href=\"PF-Tardigrade-3pt-case1-factor.txt\">PF-Tardigrade-3pt-case1-factor.txt</a>"
   ]
  },
  {
   "cell_type": "code",
   "execution_count": 14,
   "metadata": {},
   "outputs": [
    {
     "data": {
      "text/plain": [
       "[1, 2]"
      ]
     },
     "execution_count": 14,
     "metadata": {},
     "output_type": "execute_result"
    }
   ],
   "source": [
    "fac3ptcase1=load('PF-Tardigrade3ptd4case1.txt'); \n",
    "[x.order() for x in fac3ptcase1]"
   ]
  },
  {
   "cell_type": "code",
   "execution_count": 5,
   "metadata": {},
   "outputs": [
    {
     "data": {
      "text/plain": [
       "[1, 2]"
      ]
     },
     "execution_count": 5,
     "metadata": {},
     "output_type": "execute_result"
    }
   ],
   "source": [
    "file = open('PF-Tardigrade-3pt-case1-factor.txt', 'r')\n",
    "lines = file.readlines()\n",
    "s = ''.join(lines);\n",
    "L3ptcase1=eval(preparse(s))\n",
    "[x.order() for x  in L3ptcase1]"
   ]
  },
  {
   "cell_type": "code",
   "execution_count": 15,
   "metadata": {},
   "outputs": [
    {
     "data": {
      "text/plain": [
       "z^2 * (z^4 - 38343840134651679038525/2986577880109805578344*z^3 + 7493807258558129307464742539/6143554961169276113960416920*z^2 + 3648225364668009595460857037/70887172628876262853389426*z - 23253358606315488693147368/431187181440853180373415) * (z^6 - 102732143804242479314819947/9308416607832236536303662*z^5 + 2416476130397960693803646704105731/21275472139138157031317921594900*z^4 - 406597844296103278217843579062387214/315940761266201631915071135684265*z^3 + 18539834146728607922300638423185021892/4739111418993024478726067035263975*z^2 - 290677011538221710524729552619022464/72909406446046530441939492850215*z + 2074571641421042639247835583488/2158091843111470167768942075)"
      ]
     },
     "execution_count": 15,
     "metadata": {},
     "output_type": "execute_result"
    }
   ],
   "source": [
    "L3ptcase1=fac3ptcase1[1];\n",
    "L3ptcase1.leading_coefficient().factor()"
   ]
  },
  {
   "cell_type": "markdown",
   "metadata": {},
   "source": [
    "$$F := (6889*x1 + 841*x2 + 2809*x3 + 9*x4 + x5 + 3481*x6)*(x3*x4 + x3*x5 + x4*x5 + x3*x6 + x4*x6 + x2*(x3 + x5 + x6) + x1*(x2 + x4 + x5 + x6)) - t*(529*((x2 + x4)*x5*x6 + x1*(x2 + x5)*x6 + x3*x5*(x4 + x6)) + 1681*(x1*x4*(x2 + x5) + x2*x3*(x4 + x6) + x2*x4*(x5 + x6)) + 5329*(x2*x3*x5 + x1*(x2*x3 + x4*x6 + x3*(x4 + x5 + x6))));$$"
   ]
  },
  {
   "cell_type": "code",
   "execution_count": 15,
   "metadata": {},
   "outputs": [
    {
     "data": {
      "text/plain": [
       "[3, 15, [log(z)/z, 1/z, 1]]"
      ]
     },
     "execution_count": 15,
     "metadata": {},
     "output_type": "execute_result"
    }
   ],
   "source": [
    "s= open(\"PF-Tardigrade-3pt-d4-case2.txt\").readlines()[0]\n",
    "dopTardigrade3ptd4case2 = OA(s.replace(\"^\", \"**\").replace(\"t\", \"z\").replace(\"D\", \"Dz\"))\n",
    "[dopTardigrade3ptd4case2.order(),dopTardigrade3ptd4case2.degree(),dopTardigrade3ptd4case2.local_basis_monomials(0)]"
   ]
  },
  {
   "cell_type": "code",
   "execution_count": 15,
   "metadata": {
    "scrolled": true
   },
   "outputs": [],
   "source": [
    "#fac=dopTardigrade3ptd4case2.factor(verbose=True); \n",
    "#[x.order() for x in fac]\n",
    "#save(fac,'PF-Tardigrade3ptd4case2.txt')"
   ]
  },
  {
   "cell_type": "markdown",
   "metadata": {},
   "source": [
    "The factorisation is in the text file <a href=\"PF-Tardigrade-3pt-case2-factor.txt\">PF-Tardigrade-3pt-case2-factor.txt</a>"
   ]
  },
  {
   "cell_type": "code",
   "execution_count": 9,
   "metadata": {},
   "outputs": [
    {
     "data": {
      "text/plain": [
       "[1, 2]"
      ]
     },
     "execution_count": 9,
     "metadata": {},
     "output_type": "execute_result"
    }
   ],
   "source": [
    "file = open('PF-Tardigrade-3pt-case2-factor.txt', 'r')\n",
    "lines = file.readlines()\n",
    "s = ''.join(lines);\n",
    "fac3ptcase2=eval(preparse(s))\n",
    "[x.order() for x  in fac3ptcase2]"
   ]
  },
  {
   "cell_type": "code",
   "execution_count": 10,
   "metadata": {},
   "outputs": [
    {
     "data": {
      "text/plain": [
       "12"
      ]
     },
     "execution_count": 10,
     "metadata": {},
     "output_type": "execute_result"
    }
   ],
   "source": [
    "L3ptcase2=fac3ptcase2[1];\n",
    "L3ptcase2.degree()"
   ]
  },
  {
   "cell_type": "code",
   "execution_count": 26,
   "metadata": {},
   "outputs": [
    {
     "data": {
      "text/plain": [
       "f(z) = _C1/z/(235018188929315917125*z^6-943879560131887879500*z^5+28537718200238327960880*z^4-96716619098926263241280*z^3+476236110162754614457344*z^2-549390605022626797731840*z+183709818959634503041024)^(1/6)*hypergeom([1/12, 7/12],[2/3],(38083277457225*z^4-101966652988200*z^3+3014656823413648*z^2-6442867197437440*z+3231629615435776)^3/(235018188929315917125*z^6-943879560131887879500*z^5+28537718200238327960880*z^4-96716619098926263241280*z^3+476236110162754614457344*z^2-549390605022626797731840*z+183709818959634503041024)^2)+_C2/z/(235018188929315917125*z^6-943879560131887879500*z^5+28537718200238327960880*z^4-96716619098926263241280*z^3+476236110162754614457344*z^2-549390605022626797731840*z+183709818959634503041024)^(1/6)*hypergeom([1/12, 7/12],[1],-4508614656*z^2*(16790152963011493251981976687806300*z^6-181227601355883348648749133675412350*z^5+1927687244690408647197968566909263117*z^4-16691137071080140565507770297383353640*z^3+29699500860567749503924154225482319056*z^2-19614662520776176440043880652617116160*z+4454047847697071356557914006572060672)/(235018188929315917125*z^6-943879560131887879500*z^5+28537718200238327960880*z^4-96716619098926263241280*z^3+476236110162754614457344*z^2-549390605022626797731840*z+183709818959634503041024)^2)"
      ]
     },
     "execution_count": 26,
     "metadata": {},
     "output_type": "execute_result"
    }
   ],
   "source": [
    "maple('with(DEtools);')\n",
    "maple.set('L2',L3ptcase2)\n",
    "solTardigrade3ptcase2=maple('dsolve(diffop2de(L2,f(z),[Dz,z]))')\n",
    "solTardigrade3ptcase2"
   ]
  },
  {
   "cell_type": "markdown",
   "metadata": {},
   "source": [
    "$$F := (6889*x1 + 841*x2 + 2809*x3 + 529*x4 + 121*x5 + 3481*x6)*(x3*x4 + x3*x5 + x4*x5 + x3*x6 + x4*x6 + x2*(x3 + x5 + x6) + x1*(x2 + x4 + x5 + x6)) - t*(529*((x2 + x4)*x5*x6 + x1*(x2 + x5)*x6 + x3*x5*(x4 + x6)) + 1681*(x1*x4*(x2 + x5) + x2*x3*(x4 + x6) + x2*x4*(x5 + x6)) + 5329*(x2*x3*x5 + x1*(x2*x3 + x4*x6 + x3*(x4 + x5 + x6))));\n",
    "$$"
   ]
  },
  {
   "cell_type": "code",
   "execution_count": 19,
   "metadata": {},
   "outputs": [
    {
     "data": {
      "text/plain": [
       "[3, 15, [log(z)/z, 1/z, 1]]"
      ]
     },
     "execution_count": 19,
     "metadata": {},
     "output_type": "execute_result"
    }
   ],
   "source": [
    "s = open(\"PF-Tardigrade-3pt-d4-case4.txt\").readlines()[0]\n",
    "dopTardigrade3ptd4case4 = OA(s.replace(\"^\", \"**\").replace(\"t\", \"z\").replace(\"D\", \"Dz\"))\n",
    "[dopTardigrade3ptd4case4.order(),dopTardigrade3ptd4case4.degree(),dopTardigrade3ptd4case4.local_basis_monomials(0)]"
   ]
  },
  {
   "cell_type": "code",
   "execution_count": 21,
   "metadata": {},
   "outputs": [],
   "source": [
    "#fac=dopTardigrade3ptd4case4.factor(verbose=True); \n",
    "#[x.order() for x in fac]\n",
    "#save(fac,'PF-Tardigrade3ptd4case4.txt')"
   ]
  },
  {
   "cell_type": "markdown",
   "metadata": {},
   "source": [
    "The factorisation is in the text file <a href=\"PF-Tardigrade-3pt-case3-factor.txt\">PF-Tardigrade-3pt-case3-factor.txt</a>"
   ]
  },
  {
   "cell_type": "code",
   "execution_count": 12,
   "metadata": {},
   "outputs": [
    {
     "data": {
      "text/plain": [
       "[1, 2]"
      ]
     },
     "execution_count": 12,
     "metadata": {},
     "output_type": "execute_result"
    }
   ],
   "source": [
    "file = open('PF-Tardigrade-3pt-case3-factor.txt', 'r')\n",
    "lines = file.readlines()\n",
    "s = ''.join(lines);\n",
    "fac3ptcase3=eval(preparse(s))\n",
    "[x.order() for x  in fac3ptcase3]"
   ]
  },
  {
   "cell_type": "code",
   "execution_count": 22,
   "metadata": {},
   "outputs": [
    {
     "data": {
      "text/plain": [
       "12"
      ]
     },
     "execution_count": 22,
     "metadata": {},
     "output_type": "execute_result"
    }
   ],
   "source": [
    "L3ptcase4=fac3ptcase4[1];\n",
    "L3ptcase4.degree()"
   ]
  },
  {
   "cell_type": "code",
   "execution_count": 25,
   "metadata": {},
   "outputs": [
    {
     "data": {
      "text/plain": [
       "f(z) = _C1/z/(8704377367752441375*z^6-9994829224390510500*z^5+1036078675391825105040*z^4-3126779837164690723520*z^3+14777899550643066780672*z^2-24342293866147500441600*z+6162596342847127683072)^(1/6)*hypergeom([1/12, 7/12],[2/3],(4231475273025*z^4-3239203367400*z^3+335160673748752*z^2-885147542668800*z+336131449196544)^3/(8704377367752441375*z^6-9994829224390510500*z^5+1036078675391825105040*z^4-3126779837164690723520*z^3+14777899550643066780672*z^2-24342293866147500441600*z+6162596342847127683072)^2)+_C2/z/(8704377367752441375*z^6-9994829224390510500*z^5+1036078675391825105040*z^4-3126779837164690723520*z^3+14777899550643066780672*z^2-24342293866147500441600*z+6162596342847127683072)^(1/6)*hypergeom([1/12, 7/12],[1],-7077888*z^2*(18956445675972097914904268141055900*z^6-209212413372503653154077476615324150*z^5+2153080232184582978179049213358206321*z^4-24395870657766196693070614743743232840*z^3+74159336586914431689202553692740087568*z^2-75576022999937644736429683680945840640*z+18222813244505165070547948999115575296)/(8704377367752441375*z^6-9994829224390510500*z^5+1036078675391825105040*z^4-3126779837164690723520*z^3+14777899550643066780672*z^2-24342293866147500441600*z+6162596342847127683072)^2)"
      ]
     },
     "execution_count": 25,
     "metadata": {},
     "output_type": "execute_result"
    }
   ],
   "source": [
    "maple('with(DEtools);')\n",
    "maple.set('L4',L3ptcase4)\n",
    "solTardigrade3ptcase4=maple('dsolve(diffop2de(L4,f(z),[Dz,z]))')\n",
    "solTardigrade3ptcase4"
   ]
  }
 ],
 "metadata": {
  "kernelspec": {
   "display_name": "SageMath 9.6",
   "language": "sage",
   "name": "sagemath-9.6"
  },
  "language_info": {
   "codemirror_mode": {
    "name": "ipython",
    "version": 3
   },
   "file_extension": ".py",
   "mimetype": "text/x-python",
   "name": "python",
   "nbconvert_exporter": "python",
   "pygments_lexer": "ipython3",
   "version": "3.10.3"
  }
 },
 "nbformat": 4,
 "nbformat_minor": 1
}
