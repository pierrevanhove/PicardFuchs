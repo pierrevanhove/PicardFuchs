{
 "cells": [
  {
   "cell_type": "markdown",
   "metadata": {},
   "source": [
    "<H3><center><b>Identity</b></center></H3>\n",
    "\n",
    "$$  F(x_1,x_2)=  { a x_1+b x_2+c  \\over \\left(\\alpha x_1^2+\\beta x_2^2+\\gamma x_1\n",
    "    x_2+\\delta x_1+\\eta x_2+\\zeta\\right)^2}\\qquad\n",
    "\\textrm{satisfies}\\qquad\n",
    " F(x_1,x_2)=\\partial_{x_1}{ N_1(x_1,x_2)\\over\n",
    "   D_1(x_1,x_2)}+\\partial_{x_2}{R_2(x_1,x_2)\\over D_2(x_1,x_2)}$$"
   ]
  },
  {
   "cell_type": "code",
   "execution_count": 1,
   "metadata": {},
   "outputs": [],
   "source": [
    "A.<c, a, b, Alpha, Beta, Gamma, Delta, Epsilon, Zeta>=QQ['c, a,  b, Alpha, Beta, Gamma, Delta, Epsilon, Zeta']"
   ]
  },
  {
   "cell_type": "code",
   "execution_count": 2,
   "metadata": {},
   "outputs": [],
   "source": [
    "R.<x1,x2>=FractionField(PolynomialRing(A, 'x1,x2'))"
   ]
  },
  {
   "cell_type": "code",
   "execution_count": 3,
   "metadata": {},
   "outputs": [
    {
     "data": {
      "text/plain": [
       "Fraction Field of Multivariate Polynomial Ring in x1, x2 over Multivariate Polynomial Ring in c, a, b, Alpha, Beta, Gamma, Delta, Epsilon, Zeta over Rational Field"
      ]
     },
     "execution_count": 3,
     "metadata": {},
     "output_type": "execute_result"
    }
   ],
   "source": [
    "R"
   ]
  },
  {
   "cell_type": "code",
   "execution_count": 4,
   "metadata": {},
   "outputs": [],
   "source": [
    "F=(c + a*x1 + b*x2)/(x1^2*Alpha + x2^2*Beta + x1*x2*Gamma + x1*Delta + x2*Epsilon + Zeta)^2"
   ]
  },
  {
   "cell_type": "code",
   "execution_count": 36,
   "metadata": {},
   "outputs": [],
   "source": [
    "D1=2*(2*c*Alpha + 2*b*x2*Alpha - a*x2*Gamma - a*Delta)^2*(x1^2*Alpha + x2^2*Beta + x1*x2*Gamma + x1*Delta + x2*Epsilon + Zeta)^2*(-(Beta*Delta^2) + Gamma*Delta*Epsilon - Alpha*Epsilon^2 + 4*Alpha*Beta*Zeta - Gamma^2*Zeta)"
   ]
  },
  {
   "cell_type": "code",
   "execution_count": 37,
   "metadata": {},
   "outputs": [],
   "source": [
    "D2=2*(2*c*Alpha + 2*b*x2*Alpha - a*x2*Gamma - a*Delta)*(x1^2*Alpha + x2^2*Beta + x1*x2*Gamma + x1*Delta + x2*Epsilon + Zeta)^2*(-(Beta*Delta^2) + Gamma*Delta*Epsilon - Alpha*Epsilon^2 + 4*Alpha*Beta*Zeta - Gamma^2*Zeta)"
   ]
  },
  {
   "cell_type": "code",
   "execution_count": 38,
   "metadata": {},
   "outputs": [],
   "source": [
    "N2=-((c + a*x1 + b*x2)*(x2^2*(4*Alpha*Beta - Gamma^2) - Delta^2 + x2*(-2*Gamma*Delta + 4*Alpha*Epsilon) + 4*Alpha*Zeta)*  (c*(4*x2*Alpha*Beta - x2*Gamma^2 - Gamma*Delta + 2*Alpha*Epsilon) +    b*(x2*Gamma*Delta + Delta^2 - 2*x2*Alpha*Epsilon - 4*Alpha*Zeta) +    a*(-2*x2*Beta*Delta + x2*Gamma*Epsilon - Delta*Epsilon + 2*Gamma*Zeta)))"
   ]
  },
  {
   "cell_type": "code",
   "execution_count": 39,
   "metadata": {},
   "outputs": [],
   "source": [
    "N1=-((c*(4*x2*Alpha*Beta - x2*Gamma^2 - Gamma*Delta + 2*Alpha*Epsilon) +    b*(x2*Gamma*Delta + Delta^2 - 2*x2*Alpha*Epsilon - 4*Alpha*Zeta) +    a*(-2*x2*Beta*Delta + x2*Gamma*Epsilon - Delta*Epsilon + 2*Gamma*Zeta))*  (2*c^2*Alpha*(2*x2*Beta*Delta - x2*Gamma*Epsilon + Delta*Epsilon + x1*(4*x2*Alpha*Beta - x2*Gamma^2 - Gamma*Delta +        2*Alpha*Epsilon) - 2*Gamma*Zeta) + 2*b^2*x2^2*Alpha*(2*x2*Beta*Delta - x2*Gamma*Epsilon + Delta*Epsilon +      x1*(4*x2*Alpha*Beta - x2*Gamma^2 - Gamma*Delta + 2*Alpha*Epsilon) - 2*Gamma*Zeta) +    a^2*(-((x2*(x2*Beta + Epsilon) + Zeta)*(2*x2*Beta*Delta - x2*Gamma*Epsilon + Delta*Epsilon - 2*Gamma*Zeta)) +      2*x1*(x2*Gamma + Delta)*(-2*x2*Beta*Delta + x2*Gamma*Epsilon - Delta*Epsilon + 2*Gamma*Zeta) +      x1^2*(x2^2*(-4*Alpha*Beta*Gamma + Gamma^3) + Gamma*Delta^2 - 3*Alpha*Delta*Epsilon -        x2*(6*Alpha*Beta*Delta - 2*Gamma^2*Delta + Alpha*Gamma*Epsilon) + 2*Alpha*Gamma*Zeta)) +    a*b*(-(x2^2*(Beta*Delta*(x2*Gamma + Delta) - (x2*(-2*Alpha*Beta + Gamma^2) + Gamma*Delta)*Epsilon + 2*Alpha*Epsilon^2)) +      (2*x2^2*(-2*Alpha*Beta + Gamma^2) + Delta^2 + 3*x2*(Gamma*Delta - 2*Alpha*Epsilon))*Zeta - 4*Alpha*Zeta^2 +      x1^2*Alpha*(x2^2*(8*Alpha*Beta - 2*Gamma^2) + Delta^2 + x2*(-(Gamma*Delta) + 2*Alpha*Epsilon) - 4*Alpha*Zeta) +      x1*(x2^3*(-4*Alpha*Beta*Gamma + Gamma^3) + Delta^3 + 3*x2^2*Gamma*(Gamma*Delta - 2*Alpha*Epsilon) - 4*Alpha*Delta*Zeta +        x2*(3*Gamma*Delta^2 - 2*Alpha*Delta*Epsilon - 8*Alpha*Gamma*Zeta))) +    c*(4*b*x2*Alpha*(2*x2*Beta*Delta - x2*Gamma*Epsilon + Delta*Epsilon + x1*(4*x2*Alpha*Beta - x2*Gamma^2 - Gamma*Delta +          2*Alpha*Epsilon) - 2*Gamma*Zeta) + a*(x2^3*Beta*(4*Alpha*Beta - Gamma^2) - Delta^2*Epsilon +        3*x1^2*Alpha*(4*x2*Alpha*Beta - x2*Gamma^2 - Gamma*Delta + 2*Alpha*Epsilon) +        x2^2*Beta*(-3*Gamma*Delta + 6*Alpha*Epsilon) + Gamma*Delta*Zeta + 2*Alpha*Epsilon*Zeta +        2*x1*Alpha*(2*x2*Beta*Delta - x2*Gamma*Epsilon + Delta*Epsilon - 2*Gamma*Zeta) +       x2*(-2*Beta*Delta^2 - Gamma*Delta*Epsilon + 2*Alpha*Epsilon^2 + 4*Alpha*Beta*Zeta + Gamma^2*Zeta)))))"
   ]
  },
  {
   "cell_type": "code",
   "execution_count": 44,
   "metadata": {},
   "outputs": [
    {
     "data": {
      "text/plain": [
       "0"
      ]
     },
     "execution_count": 44,
     "metadata": {},
     "output_type": "execute_result"
    }
   ],
   "source": [
    "F+diff(N1/D1,x1)+diff(N2/D2,x2)"
   ]
  }
 ],
 "metadata": {
  "kernelspec": {
   "display_name": "SageMath 9.6",
   "language": "sage",
   "name": "sagemath-9.6"
  },
  "language_info": {
   "codemirror_mode": {
    "name": "ipython",
    "version": 3
   },
   "file_extension": ".py",
   "mimetype": "text/x-python",
   "name": "python",
   "nbconvert_exporter": "python",
   "pygments_lexer": "ipython3",
   "version": "3.10.3"
  }
 },
 "nbformat": 4,
 "nbformat_minor": 4
}
