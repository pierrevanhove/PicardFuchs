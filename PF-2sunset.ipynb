{
 "cells": [
  {
   "cell_type": "markdown",
   "metadata": {},
   "source": [
    "<H3><center><b>Picard-Fuchs equations for the two-loop sunset integral in two dimensions</b></center></H3>\n",
    "\n",
    "$$L_2= q[2]\\left(d\\over dt\\right)^2+q[1] \\left(d\\over dt\\right)+ q[0]$$\n",
    "$$\\Omega_3(t,m_1^2,m_2^2,m_3^2)={\\Omega_0  \\over \\prod_{i=1}^2 x_i\n",
    "    \\left(\\sum_{i=1}^2 x_i^{-1} \\sum_{j=1}^2 m_j^2x_j-t\\right) } $$\n",
    "$$ L_2\\Omega_3(t,m_1^2,m_2^2,m_3^2)=d\\beta$$\n",
    "The coefficients are in this text file : <a href=\"https://github.com/pierrevanhove/sunsetfeynmanintegrals/blob/master/PF2sunset-3mass-dert-Coefficients.txt\">PF2sunset-3mass-dert-Coefficients.txt</a>"
   ]
  },
  {
   "cell_type": "code",
   "execution_count": 1,
   "metadata": {},
   "outputs": [],
   "source": [
    "q = dict()\n",
    "var('t m1 m2 m3 m4')\n",
    "with open(\"PF2sunset-3mass-dert-Coefficients.txt\") as f:\n",
    "    for e in f.read().replace(\"\\n\", \"\").split(\";\"):\n",
    "        if e:\n",
    "            name, expr = e.split(\":=\")\n",
    "            name = name.strip()\n",
    "            expr = SR(expr)\n",
    "            if name[0] == \"q\":\n",
    "                q[int(name[1:])] = expr\n",
    "            else:\n",
    "                Source = expr\n",
    "           # var(map(str, expr.variables()))"
   ]
  },
  {
   "cell_type": "code",
   "execution_count": 2,
   "metadata": {},
   "outputs": [
    {
     "data": {
      "text/plain": [
       "(m1^4 - 2*(m2^2 + m3^2 - t)*m1^2 + (m2^2 - m3^2)^2 + 2*(m2^2 + m3^2)*t - 3*t^2)*((m1 + m2 + m3)^2 - t)*((m1 + m2 - m3)^2 - t)*((m1 - m2 + m3)^2 - t)*((m1 - m2 - m3)^2 - t)*t"
      ]
     },
     "execution_count": 2,
     "metadata": {},
     "output_type": "execute_result"
    }
   ],
   "source": [
    "q[2]"
   ]
  },
  {
   "cell_type": "code",
   "execution_count": 3,
   "metadata": {},
   "outputs": [
    {
     "data": {
      "text/plain": [
       "(m1 + m2 + m3)^3*(m1 + m2 - m3)^3*(m1 - m2 + m3)^3*(m1 - m2 - m3)^3 - 8*(m3^6 - (m1^2 + m2^2)*m3^4 + (m1^2 + m2^2)*(m1^2 - m2^2)^2 - (m1^4 - 10*m1^2*m2^2 + m2^4)*m3^2)*(m1 + m2 + m3)*(m1 + m2 - m3)*(m1 - m2 + m3)*(m1 - m2 - m3)*t + 32*(m1^2 + m2^2 + m3^2)*t^5 - 9*t^6 + 8*(m1^4 + m2^4 + 6*m2^2*m3^2 + m3^4 + 6*(m2^2 + m3^2)*m1^2)*(m1^2 + m2^2 + m3^2)*t^3 - (37*m1^4 + 37*m2^4 + 70*m2^2*m3^2 + 37*m3^4 + 70*(m2^2 + m3^2)*m1^2)*t^4 + (13*m3^8 - 36*(m1^2 + m2^2)*m3^6 + 2*(23*m1^4 - 62*m1^2*m2^2 + 23*m2^4)*m3^4 - 4*(9*m1^4 + 22*m1^2*m2^2 + 9*m2^4)*(m1^2 + m2^2)*m3^2 + (13*m1^4 - 10*m1^2*m2^2 + 13*m2^4)*(m1^2 - m2^2)^2)*t^2"
      ]
     },
     "execution_count": 3,
     "metadata": {},
     "output_type": "execute_result"
    }
   ],
   "source": [
    "q[1]"
   ]
  },
  {
   "cell_type": "code",
   "execution_count": 4,
   "metadata": {},
   "outputs": [
    {
     "data": {
      "text/plain": [
       "-m1^10 - m2^10 + (3*m2^2 + 3*m3^2 + 5*t)*m1^8 + (3*m3^2 + 5*t)*m2^8 - 2*(m3^2 + 3*t)*(m3^2 + t)*m2^6 - 2*(m2^4 + 4*(m3^2 + t)*m2^2 + (m3^2 + 3*t)*(m3^2 + t))*m1^6 - (m3^2 + t)*(m3^2 - t)^3*(m3^2 - 3*t) - 2*(m2^6 + m3^6 - (5*m3^2 + 3*t)*m2^4 - 3*m3^4*t - 7*m3^2*t^2 - (5*m3^4 - 4*m3^2*t + 7*t^2)*m2^2 + t^3)*m1^4 + (3*m3^4 - 2*m3^2*t + 7*t^2)*(m3^2 - t)^2*m2^2 - 2*(m3^6 - 3*m3^4*t - 7*m3^2*t^2 + t^3)*m2^4 - (16*(m2^2 + m3^2)*t^3 - 7*t^4 - (3*m2^4 - 2*m2^2*m3^2 + 3*m3^4)*(m2^2 - m3^2)^2 + 8*(m2^4 + m3^4)*(m2^2 + m3^2)*t - 14*(m2^4 + m3^4)*t^2)*m1^2"
      ]
     },
     "execution_count": 4,
     "metadata": {},
     "output_type": "execute_result"
    }
   ],
   "source": [
    "q[0]"
   ]
  }
 ],
 "metadata": {
  "kernelspec": {
   "display_name": "SageMath 9.6",
   "language": "sage",
   "name": "sagemath-9.6"
  },
  "language_info": {
   "codemirror_mode": {
    "name": "ipython",
    "version": 3
   },
   "file_extension": ".py",
   "mimetype": "text/x-python",
   "name": "python",
   "nbconvert_exporter": "python",
   "pygments_lexer": "ipython3",
   "version": "3.10.3"
  }
 },
 "nbformat": 4,
 "nbformat_minor": 4
}
