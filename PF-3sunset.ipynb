{
 "cells": [
  {
   "cell_type": "markdown",
   "metadata": {},
   "source": [
    "<H3><center><b>Picard-Fuchs equation for the 3-loop sunset integral in two dimensions</b></center></H3>\n",
    "The rational differential form is given by\n",
    "$$\\Omega_4(t,m_1^2,\\dots,m_4^2)={\\Omega_0  \\over x_1\\cdots x_4\n",
    "    \\left(\\sum_{i=1}^4 x_i^{-1} \\sum_{j=1}^4 m_j^2x_j-t\\right) } $$"
   ]
  },
  {
   "cell_type": "markdown",
   "metadata": {},
   "source": [
    "For four different masses $m_1^2\\neq m_2^2\\neq m_3^2\\neq m_4^2$  the Picard-Fuchs operator has order 6  $$L_t^{[1^4]}=\\sum_{r=0}^6  q[r]\\left(d\\over dt\\right)^r$$\n",
    "The coefficients are in this text file : <a href=\"PF3sunset-4mass-dert-Coefficients.txt\">PF3sunset-4mass-dert-Coefficients.txt</a>"
   ]
  },
  {
   "cell_type": "markdown",
   "metadata": {},
   "source": [
    "For three different masses $m_1^2\\neq m_2^2\\neq m_3^2= m_4^2$  the Picard-Fuchs operator has order 5  $$L_t^{[1^22]}=\\sum_{r=0}^5  q[r]\\left(d\\over dt\\right)^r $$\n",
    "The coefficients are in this text file : <a href=\"PF3sunset-3mass-dert-Coefficients.txt\">PF3sunset-3mass-dert-Coefficients.txt</a>"
   ]
  },
  {
   "cell_type": "markdown",
   "metadata": {},
   "source": [
    "For two different masses $m_1^2\\neq m_2^2= m_3^2= m_4^2$  the Picard-Fuchs operator has order 4  $$L_t^{[13]}=\\sum_{r=0}^4  q[r]\\left(d\\over dt\\right)^r $$\n",
    "The coefficients are in this text file : <a href=\"PF3sunset-2mass31-dert-Coefficients.txt\">PF3sunset-2mass31-dert-Coefficients.txt</a>"
   ]
  },
  {
   "cell_type": "markdown",
   "metadata": {},
   "source": [
    "For two different masses $m_1^2= m_2^2\\neq m_3^2=m_4^2$  the Picard-Fuchs operator has order 4  $$L_t^{[22]}=\\sum_{r=0}^4  q[r]\\left(d\\over dt\\right)^r $$\n",
    "The coefficients are in this text file : <a href=\"PF3sunset-2mass22-dert-Coefficients.txt\">PF3sunset-2mass22-dert-Coefficients.txt</a>"
   ]
  },
  {
   "cell_type": "markdown",
   "metadata": {},
   "source": [
    "For one  masse configuration $m_1^2= m_2^2= m_3^2= m_4^2$  the Picard-Fuchs operator has order 3  $$L_t^{[4]}=\\sum_{r=0}^3  q[r]\\left(d\\over dt\\right)^r $$\n",
    "The coefficients are in this text file : <a href=\"PF3sunset-1mass-dert-Coefficients.txt\">PF3sunset-1mass-dert-Coefficients.txt</a>"
   ]
  },
  {
   "cell_type": "code",
   "execution_count": 186,
   "metadata": {},
   "outputs": [],
   "source": [
    "#loading the coefficient for the general mass case\n",
    "q4mass = dict()\n",
    "with open(\"PF3sunset-4mass-dert-Coefficients.txt\") as f:\n",
    "    for e in f.read().replace(\"\\n\", \"\").split(\";\"):\n",
    "        if e:\n",
    "            name, expr = e.split(\":=\")\n",
    "            name = name.strip()\n",
    "            expr = SR(expr)\n",
    "            if name[0] == \"q\":\n",
    "                q4mass[int(name[1:])] = expr"
   ]
  },
  {
   "cell_type": "code",
   "execution_count": 1,
   "metadata": {},
   "outputs": [],
   "source": [
    "from ore_algebra import *\n",
    "OA, z, Dz = DifferentialOperators(QQ, 'z')"
   ]
  },
  {
   "cell_type": "markdown",
   "metadata": {},
   "source": [
    "<center><b>The four-mass case $[1^4]$ $m_1\\neq m_2\\neq m_3\\neq m_4$</b></center>"
   ]
  },
  {
   "cell_type": "code",
   "execution_count": 188,
   "metadata": {},
   "outputs": [],
   "source": [
    "q4mass6=q4mass[6].substitute(t=z).substitute(m1=1,m2=6,m3=13,m4=20)\n",
    "q4mass5=q4mass[5].substitute(t=z).substitute(m1=1,m2=6,m3=13,m4=20)\n",
    "q4mass4=q4mass[4].substitute(t=z).substitute(m1=1,m2=6,m3=13,m4=20)\n",
    "q4mass3=q4mass[3].substitute(t=z).substitute(m1=1,m2=6,m3=13,m4=20)\n",
    "q4mass2=q4mass[2].substitute(t=z).substitute(m1=1,m2=6,m3=13,m4=20)\n",
    "q4mass1=q4mass[1].substitute(t=z).substitute(m1=1,m2=6,m3=13,m4=20)\n",
    "q4mass0=q4mass[0].substitute(t=z).substitute(m1=1,m2=6,m3=13,m4=20)\n",
    "qq6=(q6).expand()\n",
    "qq5=(q5).expand()\n",
    "qq4=(q4).expand()\n",
    "qq3=(q3).expand()\n",
    "qq2=(q2).expand()\n",
    "qq1=(q1).expand()\n",
    "qq0=(q0).expand()\n",
    "dop4mass=OA(qq6)*Dz^6+OA(qq5)*Dz^5+OA(qq4)*Dz^4+OA(qq3)*Dz^3+OA(qq2)*Dz^2+OA(qq1)*Dz+OA(qq0)"
   ]
  },
  {
   "cell_type": "code",
   "execution_count": 189,
   "metadata": {},
   "outputs": [
    {
     "data": {
      "text/plain": [
       "[6, 27, [z^(-3/2), 1/sqrt(z), 1/2*log(z)^2, log(z), 1, sqrt(z)]]"
      ]
     },
     "execution_count": 189,
     "metadata": {},
     "output_type": "execute_result"
    }
   ],
   "source": [
    "[dop4mass.order(),dop4mass.degree(),dop4mass.local_basis_monomials(0)]"
   ]
  },
  {
   "cell_type": "code",
   "execution_count": 7,
   "metadata": {},
   "outputs": [
    {
     "name": "stdout",
     "output_type": "stream",
     "text": [
      "CPU times: user 2.05 s, sys: 43.9 ms, total: 2.09 s\n",
      "Wall time: 2.19 s\n"
     ]
    }
   ],
   "source": [
    "%time fac4mass=dop4mass.factor()"
   ]
  },
  {
   "cell_type": "code",
   "execution_count": 8,
   "metadata": {},
   "outputs": [
    {
     "data": {
      "text/plain": [
       "[6]"
      ]
     },
     "execution_count": 8,
     "metadata": {},
     "output_type": "execute_result"
    }
   ],
   "source": [
    "[x.order() for x in fac4mass]\n",
    "# This operator is irreducible"
   ]
  },
  {
   "cell_type": "markdown",
   "metadata": {},
   "source": [
    "<center><b>Factorisation by specialisation of the mass</b></center>"
   ]
  },
  {
   "cell_type": "markdown",
   "metadata": {},
   "source": [
    "<center>the three-mass case $[1^22]$ $m_1\\neq m_2\\neq m_3=m_4$</center>"
   ]
  },
  {
   "cell_type": "code",
   "execution_count": 41,
   "metadata": {},
   "outputs": [],
   "source": [
    "q6=q[6].substitute(t=z).substitute(m1=1,m2=6,m3=43,m4=43)\n",
    "q5=q[5].substitute(t=z).substitute(m1=1,m2=6,m3=43,m4=43)\n",
    "q4=q[4].substitute(t=z).substitute(m1=1,m2=6,m3=43,m4=43)\n",
    "q3=q[3].substitute(t=z).substitute(m1=1,m2=6,m3=43,m4=43)\n",
    "q2=q[2].substitute(t=z).substitute(m1=1,m2=6,m3=43,m4=43)\n",
    "q1=q[1].substitute(t=z).substitute(m1=1,m2=6,m3=43,m4=43)\n",
    "q0=q[0].substitute(t=z).substitute(m1=1,m2=6,m3=43,m4=43)\n",
    "den=q6.denominator()\n",
    "qq6=(q6*den).expand()\n",
    "qq5=(q5*den).expand()\n",
    "qq4=(q4*den).expand()\n",
    "qq3=(q3*den).expand()\n",
    "qq2=(q2*den).expand()\n",
    "qq1=(q1*den).expand()\n",
    "qq0=(q0*den).expand()\n",
    "dop31mass=OA(qq6)*Dz^6+OA(qq5)*Dz^5+OA(qq4)*Dz^4+OA(qq3)*Dz^3+OA(qq2)*Dz^2+OA(qq1)*Dz+OA(qq0)"
   ]
  },
  {
   "cell_type": "code",
   "execution_count": 179,
   "metadata": {
    "scrolled": true
   },
   "outputs": [],
   "source": [
    "#%time fac31mass=dop31mass.factor(verbose=True)"
   ]
  },
  {
   "cell_type": "code",
   "execution_count": 43,
   "metadata": {},
   "outputs": [
    {
     "data": {
      "text/plain": [
       "[1, 5]"
      ]
     },
     "execution_count": 43,
     "metadata": {},
     "output_type": "execute_result"
    }
   ],
   "source": [
    "#[x.order() for x in fac31mass]"
   ]
  },
  {
   "cell_type": "code",
   "execution_count": 190,
   "metadata": {},
   "outputs": [],
   "source": [
    "#loading the coefficient for the 3 mass case\n",
    "q3mass = dict()\n",
    "with open(\"PF3sunset-3mass-dert-Coefficients.txt\") as f:\n",
    "    for e in f.read().replace(\"\\n\", \"\").split(\";\"):\n",
    "        if e:\n",
    "            name, expr = e.split(\":=\")\n",
    "            name = name.strip()\n",
    "            expr = SR(expr)\n",
    "            if name[0] == \"q\":\n",
    "                q3mass[int(name[1:])] = expr"
   ]
  },
  {
   "cell_type": "code",
   "execution_count": 191,
   "metadata": {},
   "outputs": [],
   "source": [
    "q3mass5=q3mass[5].substitute(t=z).substitute(m3=1,m4=6,m1=43,m2=43)\n",
    "q3mass4=q3mass[4].substitute(t=z).substitute(m3=1,m4=6,m1=43,m2=43)\n",
    "q3mass3=q3mass[3].substitute(t=z).substitute(m3=1,m4=6,m1=43,m2=43)\n",
    "q3mass2=q3mass[2].substitute(t=z).substitute(m3=1,m4=6,m1=43,m2=43)\n",
    "q3mass1=q3mass[1].substitute(t=z).substitute(m3=1,m4=6,m1=43,m2=43)\n",
    "q3mass0=q3mass[0].substitute(t=z).substitute(m3=1,m4=6,m1=43,m2=43)\n",
    "L3mass=OA(q3mass5)*Dz^5+OA(q3mass4)*Dz^4+OA(q3mass3)*Dz^3+OA(q3mass2)*Dz^2+OA(q3mass1)*Dz+OA(q3mass0)"
   ]
  },
  {
   "cell_type": "code",
   "execution_count": 192,
   "metadata": {},
   "outputs": [
    {
     "data": {
      "text/plain": [
       "[5, 17, [log(z), 1, z*log(z), z, z^2]]"
      ]
     },
     "execution_count": 192,
     "metadata": {},
     "output_type": "execute_result"
    }
   ],
   "source": [
    "[L3mass.order(),L3mass.degree(),L3mass.local_basis_monomials(0)]"
   ]
  },
  {
   "cell_type": "code",
   "execution_count": 163,
   "metadata": {},
   "outputs": [
    {
     "data": {
      "text/plain": [
       "0"
      ]
     },
     "execution_count": 163,
     "metadata": {},
     "output_type": "execute_result"
    }
   ],
   "source": [
    "dop31mass%L3mass\n",
    "# the order 5 operator for the 3mass configuration is factor of the specialized order 6 operator"
   ]
  },
  {
   "cell_type": "markdown",
   "metadata": {},
   "source": [
    "<center><b>the two-mass case $[1 3]$ $m_1\\neq m_2= m_3=m_4$</b></center>"
   ]
  },
  {
   "cell_type": "code",
   "execution_count": 164,
   "metadata": {},
   "outputs": [],
   "source": [
    "q6=q[6].substitute(t=z).substitute(m1=2,m2=27,m3=27,m4=27)\n",
    "q5=q[5].substitute(t=z).substitute(m1=2,m2=27,m3=27,m4=27)\n",
    "q4=q[4].substitute(t=z).substitute(m1=2,m2=27,m3=27,m4=27)\n",
    "q3=q[3].substitute(t=z).substitute(m1=2,m2=27,m3=27,m4=27)\n",
    "q2=q[2].substitute(t=z).substitute(m1=2,m2=27,m3=27,m4=27)\n",
    "q1=q[1].substitute(t=z).substitute(m1=2,m2=27,m3=27,m4=27)\n",
    "q0=q[0].substitute(t=z).substitute(m1=2,m2=27,m3=27,m4=27)\n",
    "den=q6.denominator()\n",
    "qq6=(q6*den).expand()\n",
    "qq5=(q5*den).expand()\n",
    "qq4=(q4*den).expand()\n",
    "qq3=(q3*den).expand()\n",
    "qq2=(q2*den).expand()\n",
    "qq1=(q1*den).expand()\n",
    "qq0=(q0*den).expand()"
   ]
  },
  {
   "cell_type": "code",
   "execution_count": 165,
   "metadata": {},
   "outputs": [],
   "source": [
    "dop13mass=OA(qq6)*Dz^6+OA(qq5)*Dz^5+OA(qq4)*Dz^4+OA(qq3)*Dz^3+OA(qq2)*Dz^2+OA(qq1)*Dz+OA(qq0)"
   ]
  },
  {
   "cell_type": "code",
   "execution_count": 180,
   "metadata": {},
   "outputs": [],
   "source": [
    "#%time fac13mass=dop13mass.factor(verbose=True)"
   ]
  },
  {
   "cell_type": "code",
   "execution_count": 181,
   "metadata": {},
   "outputs": [],
   "source": [
    "#[x.order() for x in fac13mass]"
   ]
  },
  {
   "cell_type": "code",
   "execution_count": 166,
   "metadata": {},
   "outputs": [],
   "source": [
    "#loading the coefficient for the 2 mass case (1,3)\n",
    "q13mass = dict()\n",
    "with open(\"PF3sunset-2mass31-dert-Coefficients.txt\") as f:\n",
    "    for e in f.read().replace(\"\\n\", \"\").split(\";\"):\n",
    "        if e:\n",
    "            name, expr = e.split(\":=\")\n",
    "            name = name.strip()\n",
    "            expr = SR(expr)\n",
    "            if name[0] == \"q\":\n",
    "                q13mass[int(name[1:])] = expr"
   ]
  },
  {
   "cell_type": "code",
   "execution_count": 167,
   "metadata": {},
   "outputs": [],
   "source": [
    "q13mass4=q13mass[4].substitute(t=z).substitute(m4=2,m1=27)\n",
    "q13mass3=q13mass[3].substitute(t=z).substitute(m4=2,m1=27)\n",
    "q13mass2=q13mass[2].substitute(t=z).substitute(m4=2,m1=27)\n",
    "q13mass1=q13mass[1].substitute(t=z).substitute(m4=2,m1=27)\n",
    "q13mass0=q13mass[0].substitute(t=z).substitute(m4=2,m1=27)\n",
    "qq13mass4=(q13mass4*den).expand()\n",
    "qq13mass3=(q13mass3*den).expand()\n",
    "qq13mass2=(q13mass2*den).expand()\n",
    "qq13mass1=(q13mass1*den).expand()\n",
    "qq13mass0=(q13mass0*den).expand()\n",
    "L13mass=OA(qq13mass4)*Dz^4+OA(qq13mass3)*Dz^3+OA(qq13mass2)*Dz^2+OA(qq13mass1)*Dz+OA(qq13mass0)"
   ]
  },
  {
   "cell_type": "code",
   "execution_count": 168,
   "metadata": {},
   "outputs": [
    {
     "data": {
      "text/plain": [
       "0"
      ]
     },
     "execution_count": 168,
     "metadata": {},
     "output_type": "execute_result"
    }
   ],
   "source": [
    "dop13mass%L13mass\n",
    "# the order 4 operator for the 2-mass configuration is factor of the specialized order 6 operator"
   ]
  },
  {
   "cell_type": "markdown",
   "metadata": {},
   "source": [
    "<center><b>the two-mass case [22]: $m_1= m_2\\neq m_3=m_4$</b></center>"
   ]
  },
  {
   "cell_type": "code",
   "execution_count": 169,
   "metadata": {},
   "outputs": [],
   "source": [
    "q6=q[6].substitute(t=z).substitute(m1=7,m2=7,m3=21,m4=21)\n",
    "q5=q[5].substitute(t=z).substitute(m1=7,m2=7,m3=21,m4=21)\n",
    "q4=q[4].substitute(t=z).substitute(m1=7,m2=7,m3=21,m4=21)\n",
    "q3=q[3].substitute(t=z).substitute(m1=7,m2=7,m3=21,m4=21)\n",
    "q2=q[2].substitute(t=z).substitute(m1=7,m2=7,m3=21,m4=21)\n",
    "q1=q[1].substitute(t=z).substitute(m1=7,m2=7,m3=21,m4=21)\n",
    "q0=q[0].substitute(t=z).substitute(m1=7,m2=7,m3=21,m4=21)\n",
    "den=q6.denominator()\n",
    "qq6=(q6*den).expand()\n",
    "qq5=(q5*den).expand()\n",
    "qq4=(q4*den).expand()\n",
    "qq3=(q3*den).expand()\n",
    "qq2=(q2*den).expand()\n",
    "qq1=(q1*den).expand()\n",
    "qq0=(q0*den).expand()"
   ]
  },
  {
   "cell_type": "code",
   "execution_count": 170,
   "metadata": {},
   "outputs": [],
   "source": [
    "dop22mass=OA(qq6)*Dz^6+OA(qq5)*Dz^5+OA(qq4)*Dz^4+OA(qq3)*Dz^3+OA(qq2)*Dz^2+OA(qq1)*Dz+OA(qq0)"
   ]
  },
  {
   "cell_type": "code",
   "execution_count": 182,
   "metadata": {},
   "outputs": [],
   "source": [
    "#%time fac22mass=dop22mass.factor(verbose=True)"
   ]
  },
  {
   "cell_type": "code",
   "execution_count": 183,
   "metadata": {},
   "outputs": [],
   "source": [
    "#[x.order() for x in fac22mass]"
   ]
  },
  {
   "cell_type": "code",
   "execution_count": 171,
   "metadata": {},
   "outputs": [],
   "source": [
    "#loading the coefficient for the 2 mass case (2,2)\n",
    "q22mass = dict()\n",
    "with open(\"PF3sunset-2mass22-dert-Coefficients.txt\") as f:\n",
    "    for e in f.read().replace(\"\\n\", \"\").split(\";\"):\n",
    "        if e:\n",
    "            name, expr = e.split(\":=\")\n",
    "            name = name.strip()\n",
    "            expr = SR(expr)\n",
    "            if name[0] == \"q\":\n",
    "                q22mass[int(name[1:])] = expr"
   ]
  },
  {
   "cell_type": "code",
   "execution_count": 172,
   "metadata": {},
   "outputs": [],
   "source": [
    "q22mass4=q22mass[4].substitute(t=z).substitute(m1=7,m4=21)\n",
    "q22mass3=q22mass[3].substitute(t=z).substitute(m1=7,m4=21)\n",
    "q22mass2=q22mass[2].substitute(t=z).substitute(m1=7,m4=21)\n",
    "q22mass1=q22mass[1].substitute(t=z).substitute(m1=7,m4=21)\n",
    "q22mass0=q22mass[0].substitute(t=z).substitute(m1=7,m4=21)\n",
    "qq22mass4=(q22mass4*den).expand()\n",
    "qq22mass3=(q22mass3*den).expand()\n",
    "qq22mass2=(q22mass2*den).expand()\n",
    "qq22mass1=(q22mass1*den).expand()\n",
    "qq22mass0=(q22mass0*den).expand()\n",
    "L22mass=OA(qq22mass4)*Dz^4+OA(qq22mass3)*Dz^3+OA(qq22mass2)*Dz^2+OA(qq22mass1)*Dz+OA(qq22mass0)"
   ]
  },
  {
   "cell_type": "code",
   "execution_count": 173,
   "metadata": {},
   "outputs": [
    {
     "data": {
      "text/plain": [
       "0"
      ]
     },
     "execution_count": 173,
     "metadata": {},
     "output_type": "execute_result"
    }
   ],
   "source": [
    "dop22mass%L22mass\n",
    "# the order 4 operator for the 2-mass configuration is factor of the specialized order 6 operator"
   ]
  },
  {
   "cell_type": "markdown",
   "metadata": {},
   "source": [
    "<center><b>the single mass case [4] $m_1=m_2= m_3=m_4$</b></center>"
   ]
  },
  {
   "cell_type": "code",
   "execution_count": 174,
   "metadata": {},
   "outputs": [],
   "source": [
    "q6=q[6].substitute(t=z).substitute(m1=5,m2=5,m3=5,m4=5)\n",
    "q5=q[5].substitute(t=z).substitute(m1=5,m2=5,m3=5,m4=5)\n",
    "q4=q[4].substitute(t=z).substitute(m1=5,m2=5,m3=5,m4=5)\n",
    "q3=q[3].substitute(t=z).substitute(m1=5,m2=5,m3=5,m4=5)\n",
    "q2=q[2].substitute(t=z).substitute(m1=5,m2=5,m3=5,m4=5)\n",
    "q1=q[1].substitute(t=z).substitute(m1=5,m2=5,m3=5,m4=5)\n",
    "q0=q[0].substitute(t=z).substitute(m1=5,m2=5,m3=5,m4=5)\n",
    "den=q6.denominator()\n",
    "qq6=(q6*den).expand()\n",
    "qq5=(q5*den).expand()\n",
    "qq4=(q4*den).expand()\n",
    "qq3=(q3*den).expand()\n",
    "qq2=(q2*den).expand()\n",
    "qq1=(q1*den).expand()\n",
    "qq0=(q0*den).expand()\n",
    "dop1mass=OA(qq6)*Dz^6+OA(qq5)*Dz^5+OA(qq4)*Dz^4+OA(qq3)*Dz^3+OA(qq2)*Dz^2+OA(qq1)*Dz+OA(qq0)"
   ]
  },
  {
   "cell_type": "code",
   "execution_count": 184,
   "metadata": {},
   "outputs": [],
   "source": [
    "#%time fac1mass=dop1mass.factor(verbose=True)"
   ]
  },
  {
   "cell_type": "code",
   "execution_count": 185,
   "metadata": {},
   "outputs": [],
   "source": [
    "#[x.order() for x in fac1mass]"
   ]
  },
  {
   "cell_type": "code",
   "execution_count": 2,
   "metadata": {},
   "outputs": [],
   "source": [
    "#loading the coefficient for the 1 mass case\n",
    "q1mass = dict()\n",
    "with open(\"PF3sunset-1mass-dert-Coefficients.txt\") as f:\n",
    "    for e in f.read().replace(\"\\n\", \"\").split(\";\"):\n",
    "        if e:\n",
    "            name, expr = e.split(\":=\")\n",
    "            name = name.strip()\n",
    "            expr = SR(expr)\n",
    "            if name[0] == \"q\":\n",
    "                q1mass[int(name[1:])] = expr"
   ]
  },
  {
   "cell_type": "code",
   "execution_count": 4,
   "metadata": {},
   "outputs": [],
   "source": [
    "q1mass3=q1mass[3].substitute(t=z).substitute(m1=5)\n",
    "q1mass2=q1mass[2].substitute(t=z).substitute(m1=5)\n",
    "q1mass1=q1mass[1].substitute(t=z).substitute(m1=5)\n",
    "q1mass0=q1mass[0].substitute(t=z).substitute(m1=5)\n",
    "qq1mass3=(q1mass3).expand()\n",
    "qq1mass2=(q1mass2).expand()\n",
    "qq1mass1=(q1mass1).expand()\n",
    "qq1mass0=(q1mass0).expand()\n",
    "L1mass=OA(qq1mass3)*Dz^3+OA(qq1mass2)*Dz^2+OA(qq1mass1)*Dz+OA(qq1mass0)"
   ]
  },
  {
   "cell_type": "code",
   "execution_count": 178,
   "metadata": {},
   "outputs": [
    {
     "data": {
      "text/plain": [
       "0"
      ]
     },
     "execution_count": 178,
     "metadata": {},
     "output_type": "execute_result"
    }
   ],
   "source": [
    "dop1mass%L1mass\n",
    "# the order 3 operator for the 1-mass configuration is factor of the specialized order 6 operator"
   ]
  },
  {
   "cell_type": "code",
   "execution_count": 5,
   "metadata": {},
   "outputs": [
    {
     "name": "stdout",
     "output_type": "stream",
     "text": [
      "### Try factoring an operator of order 3\n",
      "Degree bound for right factor 26\n",
      "Current order of truncation 12\n",
      "Current working precision 200 (before monodromy computation)\n",
      "Current algebraic degree 1\n",
      "Start computing monodromy matrices\n",
      "loss = 7\n",
      "1 matrices computed\n",
      "Try guessing symbolic coefficients\n",
      "loss = 11\n",
      "2 matrices computed\n",
      "Try guessing symbolic coefficients\n",
      "3 matrices computed\n",
      "Conclude with One_Dimensional method\n"
     ]
    },
    {
     "data": {
      "text/plain": [
       "[(z^4 - 500*z^3 + 40000*z^2)*Dz^3 + (6*z^3 - 2250*z^2 + 120000*z)*Dz^2 + (7*z^2 - 1700*z + 40000)*Dz + z - 100]"
      ]
     },
     "execution_count": 5,
     "metadata": {},
     "output_type": "execute_result"
    }
   ],
   "source": [
    "L1mass.factor(verbose=True)"
   ]
  },
  {
   "cell_type": "code",
   "execution_count": null,
   "metadata": {},
   "outputs": [],
   "source": []
  }
 ],
 "metadata": {
  "kernelspec": {
   "display_name": "SageMath 9.6",
   "language": "sage",
   "name": "sagemath-9.6"
  },
  "language_info": {
   "codemirror_mode": {
    "name": "ipython",
    "version": 3
   },
   "file_extension": ".py",
   "mimetype": "text/x-python",
   "name": "python",
   "nbconvert_exporter": "python",
   "pygments_lexer": "ipython3",
   "version": "3.10.3"
  }
 },
 "nbformat": 4,
 "nbformat_minor": 1
}
