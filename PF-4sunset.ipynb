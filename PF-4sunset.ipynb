{
 "cells": [
  {
   "cell_type": "markdown",
   "metadata": {},
   "source": [
    "<H3><center><b>Picard-Fuchs equation for the 4-loop sunset integral in two dimenions</b></center></H3>\n",
    "The generic Picard-Fuchs operator with all  different masses $[1^5]$ $m_1\\neq m_2\\neq m_3\\neq m_4\\neq m_5$ is of order 12\n",
    "$$\n",
    "L_t^{[1^5]}=\\sum_{r=0}^{12} q_r(t) \\left(d\\over dt\\right)^r\n",
    "$$\n",
    "The rational differential form is given by\n",
    "$$\\Omega_5(t,m_1^2,\\dots,m_5^2)={\\Omega_0  \\over x_1\\cdots x_5\n",
    "    \\left(\\sum_{i=1}^5 x_i^{-1} \\sum_{j=1}^5 m_j^2x_j-t\\right) } $$"
   ]
  },
  {
   "cell_type": "markdown",
   "metadata": {},
   "source": [
    "The all the  equal masses case $[5]$ $m_1^2=m_2^2=m_3^2=m_4^2=m_5^2$ the Picard-Fuchs operator is of order 4\n",
    "$$\n",
    "L_t^{[5]}=\\sum_{r=0}^4 q_r(t) \\left(d\\over dt\\right)^r\n",
    "$$\n",
    "The coefficients are given in this file <a href=\"PF4sunset-1mass-dert-Coefficients.txt\">PF4sunset-1mass-dert-Coefficients.txt</a>"
   ]
  },
  {
   "cell_type": "markdown",
   "metadata": {},
   "source": [
    "The case with two different masses $[14]$ $m_1^2\\neq m_2^2= m_3^2= m_4^2= m_5^2$ the Picard-Fuchs operator is of order 6\n",
    "$$\n",
    "L_t^{[1 4]}=\\sum_{r=0}^6 q_r(t) \\left(d\\over dt\\right)^r\n",
    "$$\n",
    "The coefficients are given in this file <a href=\"PF4sunset-2mass14-dert-Coefficients.txt\">PF4sunset-2mass14-dert-Coefficients.txt</a>"
   ]
  },
  {
   "cell_type": "markdown",
   "metadata": {},
   "source": [
    "The case with two different masses $[23]$ $m_1^2= m_2^2\\neq m_3^2= m_4^2= m_5^2$ the Picard-Fuchs operator is of order 6\n",
    "$$\n",
    "L_t^{[2 3]}=\\sum_{r=0}^6 q_r(t) \\left(d\\over dt\\right)^r\n",
    "$$\n",
    "The coefficients are given in this file <a href=\"PF4sunset-2mass23-dert-Coefficients.txt\">PF4sunset-2mass23-dert-Coefficients.txt</a>"
   ]
  },
  {
   "cell_type": "markdown",
   "metadata": {},
   "source": [
    "The case with three different masses $[1^23]$ $m_1^2\\neq m_2^2\\neq m_3^2= m_4^2= m_5^2$ the Picard-Fuchs operator is of order 8\n",
    "$$\n",
    "L_t^{[1 13]}=\\sum_{r=0}^8 q_r(t) \\left(d\\over dt\\right)^r\n",
    "$$\n",
    "The coefficients are given in this file <a href=\"PF4sunset-3mass113-dert-Num11757-Coefficients.txt\">PF4sunset-3mass113-dert-Num11757-Coefficients.txt</a> and <a href=\"PF4sunset-3mass113-dert-Num31757-Coefficients.txt\">PF4sunset-3mass113-dert-Num31757-Coefficients.txt</a>"
   ]
  },
  {
   "cell_type": "markdown",
   "metadata": {},
   "source": [
    "The case with three different masses $[122]$ $m_1^2\\neq m_2^2=m_3^2\\neq m_4^2= m_5^2$ the Picard-Fuchs operator is of order 8\n",
    "$$\n",
    "L_t^{[1 22]}=\\sum_{r=0}^8 q_r(t) \\left(d\\over dt\\right)^r\n",
    "$$\n",
    "The coefficients are given in this file <a href=\"PF4sunset-3mass122-dert-Num1729-Coefficients.txt\">PF4sunset-3mass122-dert-Num1729-Coefficients.txt</a> and <a href=\"PF4sunset-3mass122-dert-Num31759-Coefficients.txt\">PF4sunset-3mass122-dert-Num31759-Coefficients.txt</a>"
   ]
  },
  {
   "cell_type": "markdown",
   "metadata": {},
   "source": [
    "The case with four different masses $[1^32]$ $m_1^2\\neq m_2^2\\neq m_3^2\\neq m_4^2= m_5^2$ the Picard-Fuchs operator is of order 10\n",
    "$$\n",
    "L_t^{[1^32]}=\\sum_{r=0}^{10} q_r(t) \\left(d\\over dt\\right)^r\n",
    "$$\n",
    "The coefficients are given in this file <a href=\"PF4sunset-4mass-dert-Num1345-Coefficients.txt\">PF4sunset-4mass-dert-Num1345-Coefficients.txt</a>"
   ]
  },
  {
   "cell_type": "markdown",
   "metadata": {},
   "source": [
    "The case with five different masses $[1^5]$ $m_1^2\\neq m_2^2\\neq m_3^2\\neq m_4^2\\neq m_5^2$ the Picard-Fuchs operator is of order 12\n",
    "$$\n",
    "L_t^{[1^5]}=\\sum_{r=0}^{12} q_r(t) \\left(d\\over dt\\right)^r\n",
    "$$\n",
    "The coefficients are given in this file <a href=\"PF4sunset-5mass-dert-Num17172357-Coefficients.txt\">PF4sunset-5mass-dert-Num17172357-Coefficients.txt</a>"
   ]
  },
  {
   "cell_type": "code",
   "execution_count": null,
   "metadata": {},
   "outputs": [],
   "source": []
  }
 ],
 "metadata": {
  "kernelspec": {
   "display_name": "SageMath 9.6",
   "language": "sage",
   "name": "sagemath-9.6"
  },
  "language_info": {
   "codemirror_mode": {
    "name": "ipython",
    "version": 3
   },
   "file_extension": ".py",
   "mimetype": "text/x-python",
   "name": "python",
   "nbconvert_exporter": "python",
   "pygments_lexer": "ipython3",
   "version": "3.10.3"
  }
 },
 "nbformat": 4,
 "nbformat_minor": 1
}
