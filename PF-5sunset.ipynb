{
 "cells": [
  {
   "cell_type": "markdown",
   "metadata": {},
   "source": [
    "<H3><center><b>Picard-Fuchs equation for the 5-loop sunset integral in two dimensions</b></center></H3>\n",
    "The generic Picard-Fuchs operator with all  different masses $[1^6]$ $m_1\\neq m_2\\neq m_3\\neq m_4\\neq m_5\\neq m_6$ is of order 29\n",
    "$$\n",
    "L_t^{[1^6]}=\\sum_{r=0}^{29} q_r(t) \\left(d\\over dt\\right)^r\n",
    "$$\n",
    "The rational differential form is given by\n",
    "$$\\Omega_6(t,m_1^2,\\dots,m_6^2)={\\Omega_0  \\over x_1\\cdots x_6\n",
    "    \\left(\\sum_{i=1}^6 x_i^{-1} \\sum_{j=1}^6 m_j^2x_j-t\\right) } $$"
   ]
  },
  {
   "cell_type": "code",
   "execution_count": 2,
   "metadata": {},
   "outputs": [],
   "source": [
    "from ore_algebra import   *\n",
    "OA, z, Dz = DifferentialOperators(QQ, 'z')"
   ]
  },
  {
   "cell_type": "markdown",
   "metadata": {},
   "source": [
    "For the all the mass equal $[6]$ $m_1^2=m_2^2=m_3^2=m_4^2=m_5^2=m_6^2=361$ with\n",
    "$$\n",
    "F=-(t x_1 x_2 x_3 x_4 x_5 x_6) + (361 x_1 + 361 x_2 + 361 x_3 + 361 x_4 + 361 x_5 + 361 x_6) (x_1 x_2 x_3 x_4 x_5 + x_1 x_2 x_3 x_4 x_6 + x_1 x_2 x_3 x_5 x_6 + x_1 x_2 x_4 x_5 x_6 + x_1 x_3 x_4 x_5 x_6 + x_2 x_3 x_4 x_5 x_6)\n",
    "$$\n",
    "the Picard-Fuchs operator is of order 5 and the degree of $q_5(t)$ is 6\n",
    "$$\n",
    "L_t^{[6]}=\\sum_{r=0}^5 q_r(t) \\left(d\\over dt\\right)^r\n",
    "$$\n",
    "The coefficients are given in this file <a href=\"PF5sunset-1mass.txt\">PF5sunset-1mass.txt</a>"
   ]
  },
  {
   "cell_type": "code",
   "execution_count": 5,
   "metadata": {},
   "outputs": [
    {
     "data": {
      "text/plain": [
       "[5, 6, [log(z), 1, sqrt(z), z*log(z), z]]"
      ]
     },
     "execution_count": 5,
     "metadata": {},
     "output_type": "execute_result"
    }
   ],
   "source": [
    "s = open(\"PF5sunset-1mass.txt\").readlines()[0]\n",
    "dop1mass = OA(s.replace(\"^\", \"**\").replace(\"t\", \"z\").replace(\"D\", \"Dz\"))\n",
    "[dop1mass.order(),dop1mass.degree(),dop1mass.local_basis_monomials(0)]"
   ]
  },
  {
   "cell_type": "markdown",
   "metadata": {},
   "source": [
    "The case with two different masses $[51]$ $m_1^2= m_2^2= m_3^2= m_4^2= m_5^2=361\\neq m_6^2=2809$ with\n",
    "$$\n",
    "F=-(t x_1 x_2 x_3 x_4 x_5 x_6) + (361 x_1 + 361 x_2 + 361 x_3 + 361 x_4 + 361 x_5 + 2809 x_6) (x_1 x_2 x_3 x_4 x_5 + x_1 x_2 x_3 x_4 x_6 + x_1 x_2 x_3 x_5 x_6 + x_1 x_2 x_4 x_5 x_6 + x_1 x_3 x_4 x_5 x_6 + x_2 x_3 x_4 x_5 x_6)\n",
    "$$\n",
    "the Picard-Fuchs operator is of order 8\n",
    "$$\n",
    "L_t^{[5 1]}=\\sum_{r=0}^8 q_r(t) \\left(d\\over dt\\right)^r\n",
    "$$\n",
    "    The coefficients are given in this file <a href=\"PF5sunset-2mass51a.txt\">PF5sunset-2mass51a.txt</a>"
   ]
  },
  {
   "cell_type": "code",
   "execution_count": 14,
   "metadata": {},
   "outputs": [
    {
     "data": {
      "text/plain": [
       "[8, 20, [log(z), 1, z*log(z), z, z^2*log(z), z^2, z^3*log(z), z^3]]"
      ]
     },
     "execution_count": 14,
     "metadata": {},
     "output_type": "execute_result"
    }
   ],
   "source": [
    "s = open(\"PF5sunset-2mass51a.txt\").readlines()[0]\n",
    "dop2mass51a = OA(s.replace(\"^\", \"**\").replace(\"t\", \"z\").replace(\"D\", \"Dz\"))\n",
    "[dop2mass51a.order(),dop2mass51a.degree(),dop2mass51a.local_basis_monomials(0)]"
   ]
  },
  {
   "cell_type": "markdown",
   "metadata": {},
   "source": [
    "The case with two different masses $[51]$ $m_1^2= m_2^2= m_3^2= m_4^2= m_5^2=25\\neq m_6^2=97969$ with\n",
    "$$\n",
    "F = -(t x_1 x_2 x_3 x_4 x_5 x_6) + (25 x_1 + 25 x_2 + 25 x_3 + 25 x_4 + 25 x_5 + \n",
    "    97969 x_6) (x_1 x_2 x_3 x_4 x_5 + x_1 x_2 x_3 x_4 x_6 + x_1 x_2 x_3 x_5 x_6 + \n",
    "    x_1 x_2 x_4 x_5 x_6 + x_1 x_3 x_4 x_5 x_6 + x_2 x_3 x_4 x_5 x_6)\n",
    "$$\n",
    "the Picard-Fuchs operator is of order 8 and the degree of $q_{8}(t)$ is 20\n",
    "$$\n",
    "L_t^{[5 1]}=\\sum_{r=0}^8 q_r(t) \\left(d\\over dt\\right)^r\n",
    "$$\n",
    "The coefficients are given in this file <a href=\"PF5sunset-2mass51b.txt\">PF5sunset-2mass51b.txt</a>"
   ]
  },
  {
   "cell_type": "code",
   "execution_count": 17,
   "metadata": {},
   "outputs": [
    {
     "data": {
      "text/plain": [
       "[8, 20, [log(z), 1, z*log(z), z, z^2*log(z), z^2, z^3*log(z), z^3]]"
      ]
     },
     "execution_count": 17,
     "metadata": {},
     "output_type": "execute_result"
    }
   ],
   "source": [
    "s = open(\"PF5sunset-2mass51b.txt\").readlines()[0]\n",
    "dop2mass51b = OA(s.replace(\"^\", \"**\").replace(\"t\", \"z\").replace(\"D\", \"Dz\"))\n",
    "[dop2mass51b.order(),dop2mass51b.degree(),dop2mass51b.local_basis_monomials(0)]"
   ]
  },
  {
   "cell_type": "markdown",
   "metadata": {},
   "source": [
    "The case with three different masses $[1^24]$ $m_1^2= m_2^2= m_3^2= m_4^2=361\\neq m_5^2=961\\neq m_6^2=2809$ with\n",
    "$$\n",
    "F=-(t x_1 x_2 x_3 x_4 x_5 x_6) + (361 x_1 + 361 x_2 + 361 x_3 + 361 x_4 + 961 x_5 + 2809 x_6) (x_1 x_2 x_3 x_4 x_5 + x_1 x_2 x_3 x_4 x_6 + x_1 x_2 x_3 x_5 x_6 + x_1 x_2 x_4 x_5 x_6 + x_1 x_3 x_4 x_5 x_6 + x_2 x_3 x_4 x_5 x_6)\n",
    "$$\n",
    "the Picard-Fuchs operator is of order 12 and the degree of $q_{12}(t)$ is 57\n",
    "$$\n",
    "L_t^{[4 1^2]}=\\sum_{r=0}^{12} q_r(t) \\left(d\\over dt\\right)^r\n",
    "$$\n",
    "The coefficients are given in this file <a href=\"PF5sunset-3mass411.txt\">PF5sunset-3mass411.txt</a>"
   ]
  },
  {
   "cell_type": "code",
   "execution_count": 18,
   "metadata": {},
   "outputs": [
    {
     "data": {
      "text/plain": [
       "[12,\n",
       " 57,\n",
       " [log(z),\n",
       "  1,\n",
       "  z*log(z),\n",
       "  z,\n",
       "  z^2*log(z),\n",
       "  z^2,\n",
       "  z^3*log(z),\n",
       "  z^3,\n",
       "  z^4*log(z),\n",
       "  z^4,\n",
       "  z^5*log(z),\n",
       "  z^5]]"
      ]
     },
     "execution_count": 18,
     "metadata": {},
     "output_type": "execute_result"
    }
   ],
   "source": [
    "s = open(\"PF5sunset-3mass.txt\").readlines()[0]\n",
    "dop3mass = OA(s.replace(\"^\", \"**\").replace(\"t\", \"z\").replace(\"D\", \"Dz\"))\n",
    "[dop3mass.order(),dop3mass.degree(),dop3mass.local_basis_monomials(0)]"
   ]
  },
  {
   "cell_type": "markdown",
   "metadata": {},
   "source": [
    "The case with four different masses $[1^33]$ $m_1^2= m_2^2= m_3^2=361\\neq m_4^2=1369\\neq m_5^2=961\\neq m_6^2=2809$ with\n",
    "$$\n",
    "F=-(t x_1 x_2 x_3 x_4 x_5 x_6) + (361 x_1 + 361 x_2 + 361 x_3 + 1369 x_4 + 961 x_5 + 2809 x_6) (x_1 x_2 x_3 x_4 x_5 + x_1 x_2 x_3 x_4 x_6 + x_1 x_2 x_3 x_5 x_6 + x_1 x_2 x_4 x_5 x_6 + x_1 x_3 x_4 x_5 x_6 + x_2 x_3 x_4 \n",
    "x_5 x_6)\n",
    "$$\n",
    "the Picard-Fuchs operator is of order 17 and the degree of $q_{17}(t)$ is 142\n",
    "$$\n",
    "L_t^{[3 1^3]}=\\sum_{r=0}^{17} q_r(t) \\left(d\\over dt\\right)^r\n",
    "$$\n",
    "The coefficients are given in this file <a href=\"PF5sunset-4mass3111.txt\">PF5sunset-4mass3111.txt</a>"
   ]
  },
  {
   "cell_type": "code",
   "execution_count": 20,
   "metadata": {},
   "outputs": [
    {
     "data": {
      "text/plain": [
       "[17,\n",
       " 142,\n",
       " [log(z),\n",
       "  1,\n",
       "  z*log(z),\n",
       "  z,\n",
       "  z^2*log(z),\n",
       "  z^2,\n",
       "  z^3*log(z),\n",
       "  z^3,\n",
       "  z^4*log(z),\n",
       "  z^4,\n",
       "  z^5*log(z),\n",
       "  z^5,\n",
       "  z^6*log(z),\n",
       "  z^6,\n",
       "  z^7*log(z),\n",
       "  z^7,\n",
       "  z^8]]"
      ]
     },
     "execution_count": 20,
     "metadata": {},
     "output_type": "execute_result"
    }
   ],
   "source": [
    "s = open(\"PF5sunset-4mass3111.txt\").readlines()[0]\n",
    "dop4mass = OA(s.replace(\"^\", \"**\").replace(\"t\", \"z\").replace(\"D\", \"Dz\"))\n",
    "[dop4mass.order(),dop4mass.degree(),dop4mass.local_basis_monomials(0)]"
   ]
  },
  {
   "cell_type": "markdown",
   "metadata": {},
   "source": [
    "The case with five different masses $[21^4]$ $m_1^2= m_2^2=361\\neq m_3^2=25\\neq m_4^2=1369\\neq m_5^2=961\\neq m_6^2=2809$ with\n",
    "$$\n",
    "F=-(t x_1 x_2 x_3 x_4 x_5 x_6) + (361 x_1 + 361 x_2 + 25 x_3 + 1369 x_4 + 961 x_5 + 2809 x_6) (x_1 x_2 x_3 x_4 x_5 + x_1 x_2 x_3 x_4 x_6 + x_1 x_2 x_3 x_5 x_6 + x_1 x_2 x_4 x_5 x_6 + x_1 x_3 x_4 x_5 x_6 + x_2 x_3 x_4 x_5 x_6)\n",
    "$$\n",
    "the Picard-Fuchs operator is of order 23 and the degree of $q_{23}(t)$ is 305\n",
    "$$\n",
    "L_t^{[2 1^4]}=\\sum_{r=0}^{23} q_r(t) \\left(d\\over dt\\right)^r\n",
    "$$\n",
    "The coefficients are given in this file <a href=\"PF5sunset-5mass21111.txt\">PF5sunset-5mass21111.txt</a>"
   ]
  },
  {
   "cell_type": "code",
   "execution_count": null,
   "metadata": {},
   "outputs": [],
   "source": [
    "s = open(\"PF5sunset-5mass21111.txt\").readlines()[0]\n",
    "dop5mass = OA(s.replace(\"^\", \"**\").replace(\"t\", \"z\").replace(\"D\", \"Dz\"))\n",
    "[dop5mass.order(),dop5mass.degree(),dop5mass.local_basis_monomials(0)]"
   ]
  },
  {
   "cell_type": "markdown",
   "metadata": {},
   "source": [
    "The case with six different masses $[1^6]$ $m_1^2= 361\\neq m_2^2=5041\\neq m_3^2=25\\neq m_4^2=1369\\neq m_5^2=961\\neq m_6^2=2809$ with\n",
    "$$\n",
    "F= -(t x_1 x_2 x_3 x_4 x_5 x_6) + (361 x_1 + 5041 x_2 + 25 x_3 + 1369 x_4 + 961 x_5 + 2809 x_6) (x_1 x_2 x_3 x_4 x_5 + x_1 x_2 x_3 x_4 x_6 + x_1 x_2 x_3 x_5 x_6 + x_1 x_2 x_4 x_5 x_6 + x_1 x_3 x_4 x_5 x_6 + x_2 x_3 x_4 x_5 x_6)\n",
    "$$\n",
    "the Picard-Fuchs operator is of order  order 29 and degree of $q_{29}(t)$ is 521\n",
    "$$\n",
    "L_t^{[1^6]}=\\sum_{r=0}^{29} q_r(t) \\left(d\\over dt\\right)^r\n",
    "$$"
   ]
  }
 ],
 "metadata": {
  "kernelspec": {
   "display_name": "SageMath 9.6",
   "language": "sage",
   "name": "sagemath-9.6"
  },
  "language_info": {
   "codemirror_mode": {
    "name": "ipython",
    "version": 3
   },
   "file_extension": ".py",
   "mimetype": "text/x-python",
   "name": "python",
   "nbconvert_exporter": "python",
   "pygments_lexer": "ipython3",
   "version": "3.10.3"
  }
 },
 "nbformat": 4,
 "nbformat_minor": 1
}
