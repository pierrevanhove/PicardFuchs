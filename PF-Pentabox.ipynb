{
 "cells": [
  {
   "cell_type": "markdown",
   "metadata": {},
   "source": [
    "<H3><center><b>Picard-Fuchs equation for the pentabox integral with five- and seven-points</b></center></H3>\n",
    "$$\n",
    "\\int_{x_i\\geq0}{U^2\\over F^4} dx_1\\cdots dx_{7}\n",
    "$$\n",
    "$$\n",
    "𝑈=(x_1+x_2+x_3+x_4)(x_5+x_6+x_7)+x_8(x_1+\\cdots+x_7)\n",
    "$$"
   ]
  },
  {
   "cell_type": "code",
   "execution_count": 3,
   "metadata": {},
   "outputs": [],
   "source": [
    "from ore_algebra import *\n",
    "OA, z, Dz = DifferentialOperators(QQ, 'z')"
   ]
  },
  {
   "cell_type": "markdown",
   "metadata": {},
   "source": [
    "<center><b>5 points</b></center>"
   ]
  },
  {
   "cell_type": "markdown",
   "metadata": {},
   "source": [
    "![Pentabox5pt](Pentabox5pt.png)"
   ]
  },
  {
   "cell_type": "markdown",
   "metadata": {},
   "source": [
    "$$F := (19321*x1 + 7921*x2 + 7921*x3 + 11449*x4 + 3481*x5 + 39601*x6 + 10609*x7 + 36481*x8)*(x1*x5 + x2*x5 + x3*x5 + x4*x5 + x1*x6 + x2*x6 + x3*x6 + x4*x6 + x1*x7 + x2*x7 + x3*x7 + x4*x7 + x1*x8 + x2*x8 + x3*x8 + x4*x8 + x5*x8 + x6*x8 + x7*x8) - t*(3*x2*x3*x5 + 101*x1*x4*x5 + 5*x2*x4*x5 + 97*x3*x4*x5 + 3*x2*x3*x6 + 101*x1*x4*x6 + 5*x2*x4*x6 + 97*x3*x4*x6 + 131*x1*x5*x6 + 131*x2*x5*x6 + 131*x3*x5*x6 + 131*x4*x5*x6 + 3*x2*x3*x7 + 101*x1*x4*x7 + 5*x2*x4*x7 + 97*x3*x4*x7 + 101*x1*x5*x7 + 101*x2*x5*x7 + 101*x3*x5*x7 + 101*x4*x5*x7 + 7*x1*x6*x7 + 7*x2*x6*x7 + 7*x3*x6*x7 + 7*x4*x6*x7 + 3*x2*x3*x8 + 101*x1*x4*x8 + 5*x2*x4*x8 + 97*x3*x4*x8 + 101*x4*x5*x8 + 131*x1*x6*x8 + 73*x2*x6*x8 + 193*x3*x6*x8 + 7*x4*x6*x8 + 131*x5*x6*x8 + 101*x1*x7*x8 + 5*x2*x7*x8 + 97*x3*x7*x8 + 101*x5*x7*x8 + 7*x6*x7*x8 + 137*x2*(x5*x8 + x1*(x5 + x6 + x7 + x8)) + 103*x3*(x5*x8 + x1*(x5 + x6 + x7 + x8)))$$"
   ]
  },
  {
   "cell_type": "code",
   "execution_count": 2,
   "metadata": {
    "scrolled": false
   },
   "outputs": [
    {
     "data": {
      "text/plain": [
       "[2,\n",
       " 19,\n",
       " (348382011473024106566042252837390242560387894553399649150031126) * (alpha - 5) * (alpha - 4)]"
      ]
     },
     "execution_count": 2,
     "metadata": {},
     "output_type": "execute_result"
    }
   ],
   "source": [
    "s = open(\"PF-Pentabox-5pt-case1.txt\").readlines()[0]\n",
    "PentaBox5ptcase1 = OA(s.replace(\"^\", \"**\").replace(\"t\", \"z\").replace(\"D\", \"Dz\"))\n",
    "PentaBox5ptcase1inf=PentaBox5ptcase1.annihilator_of_composition(1/z)\n",
    "[PentaBox5ptcase1inf.order(),PentaBox5ptcase1inf.degree(),PentaBox5ptcase1inf.indicial_polynomial(z).factor()]"
   ]
  },
  {
   "cell_type": "markdown",
   "metadata": {},
   "source": [
    "$$F := (361*x1 + 169*x2 + 9*x3 + 25*x4 + 25*x5 + 4*x6 + 361*x7 + 121*x8)*(x1*x5 + x2*x5 + x3*x5 + x4*x5 + x1*x6 + x2*x6 + x3*x6 + x4*x6 + x1*x7 + x2*x7 + x3*x7 + x4*x7 + x1*x8 + x2*x8 + x3*x8 + x4*x8 + x5*x8 + x6*x8 + x7*x8) + t*(13502*x1*x2*x5 + 52526*x1*x3*x5 + 12020*x2*x3*x5 + 122580*x1*x4*x5 + 55070*x2*x4*x5 + 19010*x3*x4*x5 + 13502*x1*x2*x6 + 52526*x1*x3*x6 + 12020*x2*x3*x6 + 122580*x1*x4*x6 + 55070*x2*x4*x6 + 19010*x3*x4*x6 + 219379*x1*x5*x6 + 219379*x2*x5*x6 + 219379*x3*x5*x6 + 219379*x4*x5*x6 + 13502*x1*x2*x7 + 52526*x1*x3*x7 + 12020*x2*x3*x7 + 122580*x1*x4*x7 + 55070*x2*x4*x7 + 19010*x3*x4*x7 + 122580*x1*x5*x7 + 122580*x2*x5*x7 + 122580*x3*x5*x7 + 122580*x4*x5*x7 + 7735*x1*x6*x7 + 7735*x2*x6*x7 + 7735*x3*x6*x7 + 7735*x4*x6*x7 + 13502*x1*x2*x8 + 52526*x1*x3*x8 + 12020*x2*x3*x8 + 122580*x1*x4*x8 + 55070*x2*x4*x8 + 19010*x3*x4*x8 + 13502*x2*x5*x8 + 52526*x3*x5*x8 + 122580*x4*x5*x8 + 219379*x1*x6*x8 + 124865*x2*x6*x8 + 64765*x3*x6*x8 + 7735*x4*x6*x8 + 219379*x5*x6*x8 + 122580*x1*x7*x8 + 55070*x2*x7*x8 + 19010*x3*x7*x8 + 122580*x5*x7*x8 + 7735*x6*x7*x8);\n",
    "$$"
   ]
  },
  {
   "cell_type": "code",
   "execution_count": 33,
   "metadata": {},
   "outputs": [
    {
     "data": {
      "text/plain": [
       "[2,\n",
       " 19,\n",
       " (-164425836047692152116778631716282287193256912142068136931633734904341709016468356202201157322926872898315048217773437500) * (alpha - 5) * (alpha - 4)]"
      ]
     },
     "execution_count": 33,
     "metadata": {},
     "output_type": "execute_result"
    }
   ],
   "source": [
    "s = open(\"PF-Pentabox-5pt-case2.txt\").readlines()[0]\n",
    "PentaBox5ptcase2 = OA(s.replace(\"^\", \"**\").replace(\"t\", \"z\").replace(\"D\", \"Dz\"))\n",
    "PentaBox5ptcase2inf=PentaBox5ptcase2.annihilator_of_composition(1/z)\n",
    "[PentaBox5ptcase2inf.order(),PentaBox5ptcase2inf.degree(),PentaBox5ptcase2inf.indicial_polynomial(z).factor()]"
   ]
  },
  {
   "cell_type": "markdown",
   "metadata": {},
   "source": [
    "$$F := (361*x1 + 9*x2 + 25*x3 + 4*x4 + 4*x5 + 361*x6 + 49*x7 + 4*x8)*(x1*x5 + x2*x5 + x3*x5 + x4*x5 + x1*x6 + x2*x6 + x3*x6 + x4*x6 + x1*x7 + x2*x7 + x3*x7 + x4*x7 + x1*x8 + x2*x8 + x3*x8 + x4*x8 + x5*x8 + x6*x8 + x7*x8) + t*(5670*x1*x2*x5 + 30558*x1*x3*x5 + 13548*x2*x3*x5 + 82477*x1*x4*x5 + 54127*x2*x4*x5 + 13483*x3*x4*x5 + 5670*x1*x2*x6 + 30558*x1*x3*x6 + 13548*x2*x3*x6 + 82477*x1*x4*x6 + 54127*x2*x4*x6 + 13483*x3*x4*x6 + 155339*x1*x5*x6 + 155339*x2*x5*x6 + 155339*x3*x5*x6 + 155339*x4*x5*x6 + 5670*x1*x2*x7 + 30558*x1*x3*x7 + 13548*x2*x3*x7 + 82477*x1*x4*x7 + 54127*x2*x4*x7 + 13483*x3*x4*x7 + 82477*x1*x5*x7 + 82477*x2*x5*x7 + 82477*x3*x5*x7 + 82477*x4*x5*x7 + 7460*x1*x6*x7 + 7460*x2*x6*x7 + 7460*x3*x6*x7 + 7460*x4*x6*x7 + 5670*x1*x2*x8 + 30558*x1*x3*x8 + 13548*x2*x3*x8 + 82477*x1*x4*x8 + 54127*x2*x4*x8 + 13483*x3*x4*x8 + 5670*x2*x5*x8 + 30558*x3*x5*x8 + 82477*x4*x5*x8 + 155339*x1*x6*x8 + 115649*x2*x6*x8 + 47909*x3*x6*x8 + 7460*x4*x6*x8 + 155339*x5*x6*x8 + 82477*x1*x7*x8 + 54127*x2*x7*x8 + 13483*x3*x7*x8 + 82477*x5*x7*x8 + 7460*x6*x7*x8)\n",
    "$$"
   ]
  },
  {
   "cell_type": "code",
   "execution_count": 35,
   "metadata": {},
   "outputs": [
    {
     "data": {
      "text/plain": [
       "[2,\n",
       " 19,\n",
       " (-54931772758785867294171545790420167867792791344689273343100174953926678469144276485113787018951547483003686690499821145) * (alpha - 5) * (alpha - 4)]"
      ]
     },
     "execution_count": 35,
     "metadata": {},
     "output_type": "execute_result"
    }
   ],
   "source": [
    "s = open(\"PF-Pentabox-5pt-case3.txt\").readlines()[0]\n",
    "PentaBox5ptcase3 = OA(s.replace(\"^\", \"**\").replace(\"t\", \"z\").replace(\"D\", \"Dz\"))\n",
    "PentaBox5ptcase3inf=PentaBox5ptcase3.annihilator_of_composition(1/z)\n",
    "[PentaBox5ptcase3inf.order(),PentaBox5ptcase3inf.degree(),PentaBox5ptcase3inf.indicial_polynomial(z).factor()]"
   ]
  },
  {
   "cell_type": "markdown",
   "metadata": {},
   "source": [
    "<center><b>7 points</b></center>"
   ]
  },
  {
   "cell_type": "markdown",
   "metadata": {},
   "source": [
    "![Pentabox7pt](Pentabox7pt.png)"
   ]
  },
  {
   "cell_type": "markdown",
   "metadata": {},
   "source": [
    "$$F := (24649*x1 + 9409*x2 + 10201*x3 + 4*x4 + 32761*x5 + 32761*x6 + 37249*x7 + 1369*x8)*(x1*x5 + x2*x5 + x3*x5 + x4*x5 + x1*x6 + x2*x6 + x3*x6 + x4*x6 + x1*x7 + x2*x7 + x3*x7 + x4*x7 + x1*x8 + x2*x8 + x3*x8 + x4*x8 + x5*x8 + x6*x8 + x7*x8) - t*(11955*x2*x3*x5 + 39622*x1*x4*x5 + 32221*x2*x4*x5 + 15254*x3*x4*x5 + 11955*x2*x3*x6 + 39622*x1*x4*x6 + 32221*x2*x4*x6 + 15254*x3*x4*x6 + 14057*x1*x5*x6 + 14057*x2*x5*x6 + 14057*x3*x5*x6 + 14057*x4*x5*x6 + 11955*x2*x3*x7 + 39622*x1*x4*x7 + 32221*x2*x4*x7 + 15254*x3*x4*x7 + 9495*x1*x5*x7 + 9495*x2*x5*x7 + 9495*x3*x5*x7 + 9495*x4*x5*x7 + 9946*x1*x6*x7 + 9946*x2*x6*x7 + 9946*x3*x6*x7 + 9946*x4*x6*x7 + 11955*x2*x3*x8 + 39622*x1*x4*x8 + 32221*x2*x4*x8 + 15254*x3*x4*x8 + 13751*x1*x5*x8 + 37265*x2*x5*x8 - 3525*x3*x5*x8 + 28321*x4*x5*x8 + 28170*x1*x6*x8 + 71182*x2*x6*x8 + 31634*x3*x6*x8 + 45374*x4*x6*x8 + 14057*x5*x6*x8 + 6322*x1*x7*x8 + 44652*x2*x7*x8 + 17962*x3*x7*x8 + 45738*x4*x7*x8 + 9495*x5*x7*x8 + 9946*x6*x7*x8 + 8791*x2*((x5 + x6 + x7)*x8 + x1*(x5 + x6 + x7 + x8)) + 31248*x3*((x5 + x6 + x7)*x8 + x1*(x5 + x6 + x7 + x8)))$$"
   ]
  },
  {
   "cell_type": "code",
   "execution_count": 39,
   "metadata": {},
   "outputs": [
    {
     "data": {
      "text/plain": [
       "[4,\n",
       " 70,\n",
       " (-4679045431073816848681818310833289115921512676457732314021485752675945778358407687371425550032191080537461869041648636239967304094756970403217846833209177553088648135826539880561552484539671739068605563968735030594415561027952009172226260418699559480300143061576140764945373831216001794936993116864005278923437297478828794043134729880344126707025822797835403933985324311692760983130432298271865656666891227885792628337049793457840903745674142250771800179056298735145132078301356162105216002588810072608003567111687872937619355759130389315016427947768849357902503476789921927852941064465302554163354955303233965771811477747350501783681529881235606329694505330384809677718007657458393898248969388032) * (alpha - 7) * (alpha - 6) * (alpha - 5) * (alpha - 4)]"
      ]
     },
     "execution_count": 39,
     "metadata": {},
     "output_type": "execute_result"
    }
   ],
   "source": [
    "s = open(\"PF-Pentabox-7pt-case1.txt\").readlines()[0]\n",
    "PentaBox7ptcase1 = OA(s.replace(\"^\", \"**\").replace(\"t\", \"z\").replace(\"D\", \"Dz\"))\n",
    "PentaBox7ptcase1inf=PentaBox7ptcase1.annihilator_of_composition(1/z)\n",
    "[PentaBox7ptcase1inf.order(),PentaBox7ptcase1inf.degree(),PentaBox7ptcase1inf.indicial_polynomial(z).factor()]"
   ]
  },
  {
   "cell_type": "code",
   "execution_count": 1,
   "metadata": {
    "scrolled": true
   },
   "outputs": [],
   "source": [
    "#fac1=PentaBox7ptcase1.factor(verbose=True); \n",
    "#[x.order() for x in fac1]\n",
    "#save(fac1,'PF-Pentabox-7pt-case1-factorized.txt')"
   ]
  },
  {
   "cell_type": "markdown",
   "metadata": {},
   "source": [
    "The factorisation is in the text file <a href=\"PF-PentaBox-7pt-case1-factor.txt\">PF-PentaBox-7pt-case1-factor.txt</a>"
   ]
  },
  {
   "cell_type": "code",
   "execution_count": 4,
   "metadata": {},
   "outputs": [
    {
     "data": {
      "text/plain": [
       "[4]"
      ]
     },
     "execution_count": 4,
     "metadata": {},
     "output_type": "execute_result"
    }
   ],
   "source": [
    "file = open('PF-PentaBox-7pt-case1-factor.txt', 'r')\n",
    "lines = file.readlines()\n",
    "s = ''.join(lines);\n",
    "fac1=eval(preparse(s))\n",
    "[x.order() for x  in fac1]\n",
    "#this is a irreducible operator"
   ]
  },
  {
   "cell_type": "markdown",
   "metadata": {},
   "source": [
    "$$F := (37249*x1 + 9409*x2 + 289*x3 + 1681*x4 + 961*x5 + 10609*x6 + 2209*x7 + 1681*x8)*(x1*x5 + x2*x5 + x3*x5 + x4*x5 + x1*x6 + x2*x6 + x3*x6 + x4*x6 + x1*x7 + x2*x7 + x3*x7 + x4*x7 + x1*x8 + x2*x8 + x3*x8 + x4*x8 + x5*x8 + x6*x8 + x7*x8) - t*(-1376*x1*x2*x5 - 22665*x1*x3*x5 - 7011*x2*x3*x5 - 18540*x1*x4*x5 - 11100*x2*x4*x5 - 2823*x3*x4*x5 - 1376*x1*x2*x6 - 22665*x1*x3*x6 - 7011*x2*x3*x6 - 18540*x1*x4*x6 - 11100*x2*x4*x6 - 2823*x3*x4*x6 - 43871*x1*x5*x6 - 43871*x2*x5*x6 - 43871*x3*x5*x6 - 43871*x4*x5*x6 - 1376*x1*x2*x7 - 22665*x1*x3*x7 - 7011*x2*x3*x7 - 18540*x1*x4*x7 - 11100*x2*x4*x7 - 2823*x3*x4*x7 - 67385*x1*x5*x7 - 67385*x2*x5*x7 - 67385*x3*x5*x7 - 67385*x4*x5*x7 - 658*x1*x6*x7 - 658*x2*x6*x7 - 658*x3*x6*x7 - 658*x4*x6*x7 - 1376*x1*x2*x8 - 22665*x1*x3*x8 - 7011*x2*x3*x8 - 18540*x1*x4*x8 - 11100*x2*x4*x8 - 2823*x3*x4*x8 + 2115*x1*x5*x8 + 25963*x2*x5*x8 + 15382*x3*x5*x8 + 17029*x4*x5*x8 - 80094*x1*x6*x8 - 10106*x2*x6*x8 - 24195*x3*x6*x8 - 4562*x4*x6*x8 - 43871*x5*x6*x8 - 108880*x1*x7*x8 - 57932*x2*x7*x8 - 46711*x3*x7*x8 - 27266*x4*x7*x8 - 67385*x5*x7*x8 - 658*x6*x7*x8)$$"
   ]
  },
  {
   "cell_type": "code",
   "execution_count": 38,
   "metadata": {},
   "outputs": [
    {
     "data": {
      "text/plain": [
       "[4,\n",
       " 70,\n",
       " (-288857788910789365294189216982623243364932022851210934455283049776094037123465308683360400358206192365705085098353963987373194790139969000404944782057395099472112652016721854602449005964766337160933042732854866456544125478024969013436223751257691313970717693611876737608360562760264005437642646095033035307864861791377194492226440406863305504917729999872677199892171786768372965238861683134142368254717907087367977306302007622779919842398964359757111253433331919445389796359311080781800754268735915885679813837614263299214333030033319371812449829813370611581826730736480968208522947789132844486851083345341478163774332811294620456703843512596486493231867024142684899219851955958201710805286926694418055202940584996306846440563284681432237468897691103448268800000) * (alpha - 7) * (alpha - 6) * (alpha - 5) * (alpha - 4)]"
      ]
     },
     "execution_count": 38,
     "metadata": {},
     "output_type": "execute_result"
    }
   ],
   "source": [
    "s = open(\"PF-Pentabox-7pt-case2.txt\").readlines()[0]\n",
    "PentaBox7ptcase2 = OA(s.replace(\"^\", \"**\").replace(\"t\", \"z\").replace(\"D\", \"Dz\"))\n",
    "PentaBox7ptcase2inf=PentaBox7ptcase2.annihilator_of_composition(1/z)\n",
    "[PentaBox7ptcase2inf.order(),PentaBox7ptcase2inf.degree(),PentaBox7ptcase2inf.indicial_polynomial(z).factor()]"
   ]
  },
  {
   "cell_type": "code",
   "execution_count": 5,
   "metadata": {},
   "outputs": [],
   "source": [
    "#fac2=PentaBox7ptcase2inf.factor(verbose=True); \n",
    "#[x.order() for x in fac2]\n",
    "#save(fac2,'PF-Pentabox-7pt-case2-factorized.txt')"
   ]
  },
  {
   "cell_type": "code",
   "execution_count": 6,
   "metadata": {},
   "outputs": [
    {
     "data": {
      "text/plain": [
       "[4]"
      ]
     },
     "execution_count": 6,
     "metadata": {},
     "output_type": "execute_result"
    }
   ],
   "source": [
    "fac2=load('PF-Pentabox-7pt-case2-factorized.txt')\n",
    "[x.order() for x in fac2]"
   ]
  },
  {
   "cell_type": "markdown",
   "metadata": {},
   "source": [
    "The factorisation is in the text file <a href=\"PF-PentaBox-7pt-case2-factor.txt\">PF-PentaBox-7pt-case2-factor.txt</a>"
   ]
  },
  {
   "cell_type": "code",
   "execution_count": 6,
   "metadata": {},
   "outputs": [
    {
     "data": {
      "text/plain": [
       "[4]"
      ]
     },
     "execution_count": 6,
     "metadata": {},
     "output_type": "execute_result"
    }
   ],
   "source": [
    "file = open('PF-PentaBox-7pt-case2-factor.txt', 'r')\n",
    "lines = file.readlines()\n",
    "s = ''.join(lines);\n",
    "fac2=eval(preparse(s))\n",
    "[x.order() for x  in fac2]\n",
    "# this is irreducible"
   ]
  }
 ],
 "metadata": {
  "kernelspec": {
   "display_name": "SageMath 9.6",
   "language": "sage",
   "name": "sagemath-9.6"
  },
  "language_info": {
   "codemirror_mode": {
    "name": "ipython",
    "version": 3
   },
   "file_extension": ".py",
   "mimetype": "text/x-python",
   "name": "python",
   "nbconvert_exporter": "python",
   "pygments_lexer": "ipython3",
   "version": "3.10.3"
  }
 },
 "nbformat": 4,
 "nbformat_minor": 1
}
