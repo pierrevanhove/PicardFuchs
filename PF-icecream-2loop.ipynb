{
 "cells": [
  {
   "cell_type": "markdown",
   "metadata": {},
   "source": [
    "<H3><center><b>Picard-Fuchs equation for the ice-cream integral in two dimensions</b></center></H3>\n",
    "$$\n",
    "U=(x_1+x_2)(x_3+x_4)+x_3x_4\n",
    "$$\n",
    "$$L=m_1^2 x1 + m_2^2x_2 + m_3^2x3 + m_4^2x_4$$\n",
    "$$V=x_3(p_1^2 x_1 + p_2^2x_2)x_4 + p_3^2x_1x_2(x_3 + x_4)$$\n",
    "$$Int = {U\\over\n",
    "     \\left(\n",
    "      UL-tV \\right)^2}\n",
    "$$"
   ]
  },
  {
   "cell_type": "markdown",
   "metadata": {},
   "source": [
    "![IceCream2loop](ice-cream-2loop.png)"
   ]
  },
  {
   "cell_type": "markdown",
   "metadata": {},
   "source": [
    "The masses of the scoop are $m_3$ and $m_4$ and the masses of the cone $m_1$ and $m_2$.\n",
    "The momentum inflowing the cone is $p_2$"
   ]
  },
  {
   "cell_type": "markdown",
   "metadata": {},
   "source": [
    "The  Picard-Fuchs operator is of order 2\n",
    "$$\n",
    "L_t=\\sum_{r=0}^2 q_r(t) \\left(d\\over dt\\right)^r\n",
    "$$"
   ]
  },
  {
   "cell_type": "code",
   "execution_count": 2,
   "metadata": {},
   "outputs": [],
   "source": [
    "q = dict()\n",
    "with open(\"PFIcecream-Coefficients.txt\") as f:\n",
    "    for e in f.read().replace(\"\\n\", \"\").split(\";\"):\n",
    "        if e:\n",
    "            name, expr = e.split(\":=\")\n",
    "            name = name.strip()\n",
    "            expr = SR(expr)\n",
    "            if name[0] == \"c\":\n",
    "                q[int(name[1:])] = expr"
   ]
  },
  {
   "cell_type": "markdown",
   "metadata": {},
   "source": [
    "We illustrate the property of the differential equation  in a numerical example"
   ]
  },
  {
   "cell_type": "code",
   "execution_count": 4,
   "metadata": {},
   "outputs": [],
   "source": [
    "from ore_algebra import *\n",
    "OA, z, Dz = DifferentialOperators(QQ, 'z')"
   ]
  },
  {
   "cell_type": "code",
   "execution_count": 5,
   "metadata": {},
   "outputs": [],
   "source": [
    "q2=q[2].substitute(t=z).substitute(m1=1,m2=6,m3=3,m4=10,p12=35,p22=4,p32=29)\n",
    "q1=q[1].substitute(t=z).substitute(m1=1,m2=6,m3=3,m4=10,p12=35,p22=4,p32=29)\n",
    "q0=q[0].substitute(t=z).substitute(m1=1,m2=6,m3=3,m4=10,p12=35,p22=4,p32=29)"
   ]
  },
  {
   "cell_type": "code",
   "execution_count": 6,
   "metadata": {},
   "outputs": [],
   "source": [
    "dop=OA(q2)*Dz^2+OA(q1)*Dz+OA(q0)"
   ]
  },
  {
   "cell_type": "code",
   "execution_count": 9,
   "metadata": {},
   "outputs": [
    {
     "data": {
      "text/plain": [
       "[2, 9, [1, z], (8700212911190204200475) * (alpha - 1) * alpha]"
      ]
     },
     "execution_count": 9,
     "metadata": {},
     "output_type": "execute_result"
    }
   ],
   "source": [
    "[dop.order(),dop.degree(),dop.local_basis_monomials(0),dop.indicial_polynomial(z).factor()]"
   ]
  },
  {
   "cell_type": "code",
   "execution_count": 8,
   "metadata": {},
   "outputs": [
    {
     "data": {
      "text/plain": [
       "f(z) = _C1/(4060*z^2-38330*z+96971)^(1/2)/(4060*z^2-9530*z+35291)^(1/2)/(16*z^2-296*z+1225)^(1/2)*(480*(4060*z^2-9530*z+35291)^(1/2)*(16*z^2-296*z+1225)^(1/2)*(z-257/120)*115^(1/2)*(4060*z^2-38330*z+96971)^(1/2)+92430400*z^4-1380913600*z^3+7858791840*z^2-20044828600*z+22993467119)^(1/4)+_C2/(4060*z^2-38330*z+96971)^(1/2)/(4060*z^2-9530*z+35291)^(1/2)/(16*z^2-296*z+1225)^(1/2)/(480*(4060*z^2-9530*z+35291)^(1/2)*(460*z-2875)^(1/2)*(z-257/120)*(4*z-49)^(1/2)*(4060*z^2-38330*z+96971)^(1/2)+92430400*z^4-1380913600*z^3+7858791840*z^2-20044828600*z+22993467119)^(1/4)*(6280*z^2-13820*z-66213)"
      ]
     },
     "execution_count": 8,
     "metadata": {},
     "output_type": "execute_result"
    }
   ],
   "source": [
    "maple('with(DEtools);')\n",
    "maple.set('L',dop)\n",
    "solIceCreamCase1=maple('dsolve(diffop2de(L,f(z),[Dz,z]))')\n",
    "solIceCreamCase1"
   ]
  }
 ],
 "metadata": {
  "kernelspec": {
   "display_name": "SageMath 9.6",
   "language": "sage",
   "name": "sagemath-9.6"
  },
  "language_info": {
   "codemirror_mode": {
    "name": "ipython",
    "version": 3
   },
   "file_extension": ".py",
   "mimetype": "text/x-python",
   "name": "python",
   "nbconvert_exporter": "python",
   "pygments_lexer": "ipython3",
   "version": "3.10.3"
  }
 },
 "nbformat": 4,
 "nbformat_minor": 1
}
