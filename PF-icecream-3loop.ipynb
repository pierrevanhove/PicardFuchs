{
 "cells": [
  {
   "cell_type": "markdown",
   "metadata": {},
   "source": [
    "<H3><center><b>Picard-Fuchs equation for the three-loop ice-cream integral in two dimensions</b></center></H3>\n",
    "$$\n",
    "U=(x_4+ x_5) x_1 x_2 x_3\\left(\\frac{1}{x_4+x_5}+\\frac{1}{x_1}+\\frac{1}{x_2}+\\frac{1}{x_3}\\right)\n",
    "$$\n",
    "$$L=m_4^2 x_4 + m_5^2 x_5 + \\mu_1^2 x_1 + \\mu_2^2 x_2 + \\mu_3^2 x_3\n",
    "$$\n",
    "$$V=(p_1^2 x_4 + p_3^2 x_5) x_1 x_2 x_3 + p_2^2 x_4 x_5 (x_1 x_2 + x_3 (x_1 + x_2)) $$\n",
    "$$Int = {U\\over\n",
    "     \\left(\n",
    "      UL-tV \\right)^2}\n",
    "$$"
   ]
  },
  {
   "cell_type": "markdown",
   "metadata": {},
   "source": [
    "![IceCream3loop](ice-cream-3loop.png)"
   ]
  },
  {
   "cell_type": "markdown",
   "metadata": {},
   "source": [
    "The masses of the scoop are $\\mu_i$, $1\\leq i\\leq 3$ and the masses of the cone $m_1$ and $m_2$.\n",
    "The momentum inflowing the cone is $p_2$"
   ]
  },
  {
   "cell_type": "markdown",
   "metadata": {},
   "source": [
    "The  Picard-Fuchs operator is of order 4\n",
    "$$\n",
    "L_t=\\sum_{r=0}^4 q_r(t) \\left(d\\over dt\\right)^r\n",
    "$$"
   ]
  },
  {
   "cell_type": "code",
   "execution_count": 1,
   "metadata": {},
   "outputs": [],
   "source": [
    "from ore_algebra import *\n",
    "OA, z, Dz = DifferentialOperators(QQ, 'z')"
   ]
  },
  {
   "cell_type": "markdown",
   "metadata": {},
   "source": [
    "<center><b>all  scoop-mass equal cases</b></center>"
   ]
  },
  {
   "cell_type": "markdown",
   "metadata": {},
   "source": [
    "$$F := (169*x1 + 169*x2 + 169*x3 + 169*x4 + 169*x5)*(x1*x3*x4 + x2*x3*x4 + x1*x3*x5 + x2*x3*x5 + x1*x4*x5 + x2*x4*x5 + x3*x4*x5) - t*((729*x1 + 2401*x2)*x3*x4*x5 + 1296*x1*x2*(x4*x5 + x3*(x4 + x5)));\n",
    "$$"
   ]
  },
  {
   "cell_type": "code",
   "execution_count": 54,
   "metadata": {},
   "outputs": [
    {
     "data": {
      "text/plain": [
       "[4,\n",
       " 22,\n",
       " (5020301746953929948213431608484150682321003653015299718876654149135000072192) * (alpha - 3)^2 * (alpha - 2)^2]"
      ]
     },
     "execution_count": 54,
     "metadata": {},
     "output_type": "execute_result"
    }
   ],
   "source": [
    "s = open(\"PFIcecream-2scoop-1mass-case1.txt\").readlines()[0]\n",
    "dop1masscase1 = OA(s.replace(\"^\", \"**\").replace(\"t\", \"z\").replace(\"D\", \"Dz\"))\n",
    "dop1masscase1inf=dop1masscase1.annihilator_of_composition(1/z)\n",
    "[dop1masscase1inf.order(),dop1masscase1inf.degree(),dop1masscase1inf.indicial_polynomial(z).factor()]"
   ]
  },
  {
   "cell_type": "code",
   "execution_count": 36,
   "metadata": {
    "scrolled": true
   },
   "outputs": [
    {
     "name": "stdout",
     "output_type": "stream",
     "text": [
      "### Try factoring an operator of order 4\n",
      "Degree bound for right factor 891\n",
      "Current order of truncation 84\n",
      "Current working precision 250 (before monodromy computation)\n",
      "Current algebraic degree 1\n",
      "Start computing monodromy matrices\n",
      "loss = 10\n",
      "1 matrices computed\n",
      "Try guessing symbolic coefficients\n",
      "loss = 19\n",
      "2 matrices computed\n",
      "Try guessing symbolic coefficients\n",
      "loss = 23\n",
      "3 matrices computed\n",
      "Conclude with One_Dimensional method\n"
     ]
    },
    {
     "data": {
      "text/plain": [
       "[4]"
      ]
     },
     "execution_count": 36,
     "metadata": {},
     "output_type": "execute_result"
    }
   ],
   "source": [
    "fac=dop1masscase1.factor(verbose=True); [x.order() for x in fac]"
   ]
  },
  {
   "cell_type": "code",
   "execution_count": null,
   "metadata": {},
   "outputs": [],
   "source": [
    "# this is irreducible"
   ]
  },
  {
   "cell_type": "markdown",
   "metadata": {},
   "source": [
    "$$F := -(t*(1296*x1*x2*x3*x4 + 729*x1*x2*x3*x5 + 2401*x1*x2*x4*x5 + 1296*x1*x3*x4*x5 + 1296*x2*x3*x4*x5)) + (169*x1 + 169*x2 + 49*x3 + 121*x4 + 169*x5)*(x1*x2*(x3 + x4) + (x2*(x3 + x4) + x1*(x2 + x3 + x4))*x5);$$"
   ]
  },
  {
   "cell_type": "code",
   "execution_count": 53,
   "metadata": {},
   "outputs": [
    {
     "data": {
      "text/plain": [
       "[4,\n",
       " 26,\n",
       " (2940664517796195727585281279964897374205610237829152270756237592327521188929564672) * (alpha - 3)^2 * (alpha - 2)^2]"
      ]
     },
     "execution_count": 53,
     "metadata": {},
     "output_type": "execute_result"
    }
   ],
   "source": [
    "s = open(\"PFIcecream-2scoop-1mass-case2.txt\").readlines()[0]\n",
    "dop1masscase2 = OA(s.replace(\"^\", \"**\").replace(\"t\", \"z\").replace(\"D\", \"Dz\"))\n",
    "dop1masscase2inf=dop1masscase2.annihilator_of_composition(1/z)\n",
    "[dop1masscase2inf.order(),dop1masscase2inf.degree(),dop1masscase2inf.indicial_polynomial(z).factor()]"
   ]
  },
  {
   "cell_type": "markdown",
   "metadata": {},
   "source": [
    "$$F := (169*x1 + 169*x2 + 169*x3 + 49*x4 + 169*x5)*(x1*x3*x4 + x2*x3*x4 + x1*x3*x5 + x2*x3*x5 + x1*x4*x5 + x2*x4*x5 + x3*x4*x5) - t*((729*x1 + 2401*x2)*x3*x4*x5 + 1296*x1*x2*(x4*x5 + x3*(x4 + x5)));\n",
    "$$"
   ]
  },
  {
   "cell_type": "code",
   "execution_count": 52,
   "metadata": {},
   "outputs": [
    {
     "data": {
      "text/plain": [
       "[4,\n",
       " 32,\n",
       " (-6371973241314675694573900390318675171631816548084019869251666442129761524731159407692417369977584468268186667446272) * (alpha - 3)^2 * (alpha - 2)^2]"
      ]
     },
     "execution_count": 52,
     "metadata": {},
     "output_type": "execute_result"
    }
   ],
   "source": [
    "s = open(\"PFIcecream-2scoop-1mass-case3.txt\").readlines()[0]\n",
    "dop1masscase3 = OA(s.replace(\"^\", \"**\").replace(\"t\", \"z\").replace(\"D\", \"Dz\"))\n",
    "dop1masscase3inf=dop1masscase3.annihilator_of_composition(1/z)\n",
    "[dop1masscase3inf.order(),dop1masscase3inf.degree(),dop1masscase3inf.indicial_polynomial(z).factor()]"
   ]
  },
  {
   "cell_type": "markdown",
   "metadata": {},
   "source": [
    "<center><b>two scoop-mass cases</b></center>"
   ]
  },
  {
   "cell_type": "markdown",
   "metadata": {},
   "source": [
    "$$F := -(t*(2116*x1*x2*x3*x4 + 16*x1*x2*x3*x5 + 2116*x1*x2*x4*x5 + 2116*x1*x3*x4*x5 + 2116*x2*x3*x4*x5)) + (169*x1 + 169*x2 + 121*x3 + 4*x4 + 49*x5)*(x1*x2*(x3 + x4) + (x2*(x3 + x4) + x1*(x2 + x3 + x4))*x5);$$"
   ]
  },
  {
   "cell_type": "code",
   "execution_count": 51,
   "metadata": {},
   "outputs": [
    {
     "data": {
      "text/plain": [
       "[4,\n",
       " 34,\n",
       " (-34154093323640543181475858903494028929424613874549725457745342325787284585196899063488820964535916408128680117363802112) * (alpha - 3)^2 * (alpha - 2)^2]"
      ]
     },
     "execution_count": 51,
     "metadata": {},
     "output_type": "execute_result"
    }
   ],
   "source": [
    "s = open(\"PFIcecream-2scoop-2mass-case1.txt\").readlines()[0]\n",
    "dop2masscase1 = OA(s.replace(\"^\", \"**\").replace(\"t\", \"z\").replace(\"D\", \"Dz\"))\n",
    "dop2masscase1inf=dop2masscase1.annihilator_of_composition(1/z)\n",
    "[dop2masscase1inf.order(),dop2masscase1inf.degree(),dop2masscase1inf.indicial_polynomial(z).factor()]"
   ]
  },
  {
   "cell_type": "markdown",
   "metadata": {},
   "source": [
    "$$F := -(t*(2116*x1*x2*x3*x4 + 16*x1*x2*x3*x5 + 2116*x1*x2*x4*x5 + 2116*x1*x3*x4*x5 + 2116*x2*x3*x4*x5)) + (169*x1 + 169*x2 + 121*x3 + 4*x4 + 49*x5)*(x1*x2*(x3 + x4) + (x2*(x3 + x4) + x1*(x2 + x3 + x4))*x5);$$"
   ]
  },
  {
   "cell_type": "code",
   "execution_count": 50,
   "metadata": {},
   "outputs": [
    {
     "data": {
      "text/plain": [
       "[4,\n",
       " 34,\n",
       " (-34154093323640543181475858903494028929424613874549725457745342325787284585196899063488820964535916408128680117363802112) * (alpha - 3)^2 * (alpha - 2)^2]"
      ]
     },
     "execution_count": 50,
     "metadata": {},
     "output_type": "execute_result"
    }
   ],
   "source": [
    "s = open(\"PFIcecream-2scoop-2mass-case2.txt\").readlines()[0]\n",
    "dop2masscase2 = OA(s.replace(\"^\", \"**\").replace(\"t\", \"z\").replace(\"D\", \"Dz\"))\n",
    "dop2masscase2inf=dop2masscase2.annihilator_of_composition(1/z)\n",
    "[dop2masscase2inf.order(),dop2masscase2inf.degree(),dop2masscase2inf.indicial_polynomial(z).factor()]"
   ]
  },
  {
   "cell_type": "markdown",
   "metadata": {},
   "source": [
    "$$F := -(t*(1296*x1*x2*x3*x4 + 729*x1*x2*x3*x5 + 2401*x1*x2*x4*x5 + 1296*x1*x3*x4*x5 + 1296*x2*x3*x4*x5)) + (361*x1 + 169*x2 + 49*x3 + 121*x4 + 169*x5)*(x1*x2*(x3 + x4) + (x2*(x3 + x4) + x1*(x2 + x3 + x4))*x5);$$"
   ]
  },
  {
   "cell_type": "code",
   "execution_count": 49,
   "metadata": {},
   "outputs": [
    {
     "data": {
      "text/plain": [
       "[4,\n",
       " 34,\n",
       " (8337929424404530862266882513666856768447881070871170215475115649715747787806854475460767129802096101404508688384) * (alpha - 3)^2 * (alpha - 2)^2]"
      ]
     },
     "execution_count": 49,
     "metadata": {},
     "output_type": "execute_result"
    }
   ],
   "source": [
    "s = open(\"PFIcecream-2scoop-2mass-case3.txt\").readlines()[0]\n",
    "dop2masscase3 = OA(s.replace(\"^\", \"**\").replace(\"t\", \"z\").replace(\"D\", \"Dz\"))\n",
    "dop2masscase3inf=dop2masscase3.annihilator_of_composition(1/z)\n",
    "[dop2masscase3inf.order(),dop2masscase3inf.degree(),dop2masscase3inf.indicial_polynomial(z).factor()]"
   ]
  },
  {
   "cell_type": "markdown",
   "metadata": {},
   "source": [
    "$$F := -(t*(2116*x1*x2*x3*x4 + 16*x1*x2*x3*x5 + 2116*x1*x2*x4*x5 + 2116*x1*x3*x4*x5 + 2116*x2*x3*x4*x5)) + (169*x1 + 169*x2 + 121*x3 + 4*x4 + 49*x5)*(x1*x2*(x3 + x4) + (x2*(x3 + x4) + x1*(x2 + x3 + x4))*x5);$$"
   ]
  },
  {
   "cell_type": "code",
   "execution_count": 48,
   "metadata": {},
   "outputs": [
    {
     "data": {
      "text/plain": [
       "[4,\n",
       " 34,\n",
       " (-34154093323640543181475858903494028929424613874549725457745342325787284585196899063488820964535916408128680117363802112) * (alpha - 3)^2 * (alpha - 2)^2]"
      ]
     },
     "execution_count": 48,
     "metadata": {},
     "output_type": "execute_result"
    }
   ],
   "source": [
    "s = open(\"PFIcecream-2scoop-2mass-case4.txt\").readlines()[0]\n",
    "dop2masscase4 = OA(s.replace(\"^\", \"**\").replace(\"t\", \"z\").replace(\"D\", \"Dz\"))\n",
    "dop2masscase4inf=dop2masscase4.annihilator_of_composition(1/z)\n",
    "[dop2masscase4inf.order(),dop2masscase4inf.degree(),dop2masscase4inf.indicial_polynomial(z).factor()]"
   ]
  },
  {
   "cell_type": "markdown",
   "metadata": {},
   "source": [
    "$$F := -(t*(1296*x1*x2*x3*x4 + 729*x1*x2*x3*x5 + 2401*x1*x2*x4*x5 + 1296*x1*x3*x4*x5 + 1296*x2*x3*x4*x5)) + (169*x1 + 4*x2 + 49*x3 + 121*x4 + 169*x5)*(x1*x2*(x3 + x4) + (x2*(x3 + x4) + x1*(x2 + x3 + x4))*x5);$$"
   ]
  },
  {
   "cell_type": "code",
   "execution_count": 47,
   "metadata": {},
   "outputs": [
    {
     "data": {
      "text/plain": [
       "[4,\n",
       " 34,\n",
       " (-328825488740340801528246942391033653866033463916424942007144558952687381713870798627667706632367740810301489836032) * (alpha - 3)^2 * (alpha - 2)^2]"
      ]
     },
     "execution_count": 47,
     "metadata": {},
     "output_type": "execute_result"
    }
   ],
   "source": [
    "s = open(\"PFIcecream-2scoop-2mass-case5.txt\").readlines()[0]\n",
    "dop2masscase5 = OA(s.replace(\"^\", \"**\").replace(\"t\", \"z\").replace(\"D\", \"Dz\"))\n",
    "dop2masscase5inf=dop2masscase5.annihilator_of_composition(1/z)\n",
    "[dop2masscase5inf.order(),dop2masscase5inf.degree(),dop2masscase5inf.indicial_polynomial(z).factor()]"
   ]
  },
  {
   "cell_type": "markdown",
   "metadata": {},
   "source": [
    "$$F := -(t*(2116*x1*x2*x3*x4 + 16*x1*x2*x3*x5 + 2116*x1*x2*x4*x5 + 2116*x1*x3*x4*x5 + 2116*x2*x3*x4*x5)) + (169*x1 + 169*x2 + 121*x3 + 4*x4 + 49*x5)*(x1*x2*(x3 + x4) + (x2*(x3 + x4) + x1*(x2 + x3 + x4))*x5);$$"
   ]
  },
  {
   "cell_type": "code",
   "execution_count": 46,
   "metadata": {},
   "outputs": [
    {
     "data": {
      "text/plain": [
       "[4,\n",
       " 34,\n",
       " (-34154093323640543181475858903494028929424613874549725457745342325787284585196899063488820964535916408128680117363802112) * (alpha - 3)^2 * (alpha - 2)^2]"
      ]
     },
     "execution_count": 46,
     "metadata": {},
     "output_type": "execute_result"
    }
   ],
   "source": [
    "s = open(\"PFIcecream-2scoop-2mass-case6.txt\").readlines()[0]\n",
    "dop2masscase6 = OA(s.replace(\"^\", \"**\").replace(\"t\", \"z\").replace(\"D\", \"Dz\"))\n",
    "dop2masscase6inf=dop2masscase6.annihilator_of_composition(1/z)\n",
    "[dop2masscase6inf.order(),dop2masscase6inf.degree(),dop2masscase6inf.indicial_polynomial(z).factor()]"
   ]
  },
  {
   "cell_type": "markdown",
   "metadata": {},
   "source": [
    "$$F := -(t*(1296*x1*x2*x3*x4 + 729*x1*x2*x3*x5 + 2401*x1*x2*x4*x5 + 1296*x1*x3*x4*x5 + 1296*x2*x3*x4*x5)) + (4*x1 + 4*x2 + 49*x3 + 121*x4 + 169*x5)*(x1*x2*(x3 + x4) + (x2*(x3 + x4) + x1*(x2 + x3 + x4))*x5);\n",
    "$$"
   ]
  },
  {
   "cell_type": "code",
   "execution_count": 45,
   "metadata": {},
   "outputs": [
    {
     "data": {
      "text/plain": [
       "[4,\n",
       " 34,\n",
       " (-3232143812144344527337493845086861388878213359280328765165236540092052727284228929418050383446406299857059540992) * (alpha - 3)^2 * (alpha - 2)^2]"
      ]
     },
     "execution_count": 45,
     "metadata": {},
     "output_type": "execute_result"
    }
   ],
   "source": [
    "s = open(\"PFIcecream-2scoop-2mass-case7.txt\").readlines()[0]\n",
    "dop2masscase7 = OA(s.replace(\"^\", \"**\").replace(\"t\", \"z\").replace(\"D\", \"Dz\"))\n",
    "dop2masscase7inf=dop2masscase7.annihilator_of_composition(1/z)\n",
    "[dop2masscase7inf.order(),dop2masscase7inf.degree(),dop2masscase7inf.indicial_polynomial(z).factor()]"
   ]
  },
  {
   "cell_type": "markdown",
   "metadata": {},
   "source": [
    "$$F10 := -(t*(2116*x1*x2*x3*x4 + 16*x1*x2*x3*x5 + 2116*x1*x2*x4*x5 + 2116*x1*x3*x4*x5 + 2116*x2*x3*x4*x5)) + (169*x1 + 169*x2 + 121*x3 + 4*x4 + 49*x5)*(x1*x2*(x3 + x4) + (x2*(x3 + x4) + x1*(x2 + x3 + x4))*x5);$$"
   ]
  },
  {
   "cell_type": "code",
   "execution_count": 44,
   "metadata": {},
   "outputs": [
    {
     "data": {
      "text/plain": [
       "[4,\n",
       " 34,\n",
       " (-34154093323640543181475858903494028929424613874549725457745342325787284585196899063488820964535916408128680117363802112) * (alpha - 3)^2 * (alpha - 2)^2]"
      ]
     },
     "execution_count": 44,
     "metadata": {},
     "output_type": "execute_result"
    }
   ],
   "source": [
    "s = open(\"PFIcecream-2scoop-2mass-case8.txt\").readlines()[0]\n",
    "dop2masscase8 = OA(s.replace(\"^\", \"**\").replace(\"t\", \"z\").replace(\"D\", \"Dz\"))\n",
    "dop2masscase8inf=dop2masscase8.annihilator_of_composition(1/z)\n",
    "[dop2masscase8inf.order(),dop2masscase8inf.degree(),dop2masscase8inf.indicial_polynomial(z).factor()]"
   ]
  },
  {
   "cell_type": "markdown",
   "metadata": {},
   "source": [
    "$$F := (169*x1 + 169*x2 + 169*x3 + 49*x4 + 121*x5)*(x1*x3*x4 + x2*x3*x4 + x1*x3*x5 + x2*x3*x5 + x1*x4*x5 + x2*x4*x5 + x3*x4*x5) - t*((729*x1 + 2401*x2)*x3*x4*x5 + 1296*x1*x2*(x4*x5 + x3*(x4 + x5)));$$"
   ]
  },
  {
   "cell_type": "code",
   "execution_count": 43,
   "metadata": {},
   "outputs": [
    {
     "data": {
      "text/plain": [
       "[4,\n",
       " 40,\n",
       " (-192569408691856119793203067960379185834632359961972241451624113818592608342584543252275356689619835056822161497753702103912419743038802080947515396096) * (alpha - 3)^2 * (alpha - 2)^2]"
      ]
     },
     "execution_count": 43,
     "metadata": {},
     "output_type": "execute_result"
    }
   ],
   "source": [
    "s = open(\"PFIcecream-2scoop-2mass-case9.txt\").readlines()[0]\n",
    "dop2masscase9 = OA(s.replace(\"^\", \"**\").replace(\"t\", \"z\").replace(\"D\", \"Dz\"))\n",
    "dop2masscase9inf=dop2masscase9.annihilator_of_composition(1/z)\n",
    "[dop2masscase9inf.order(),dop2masscase9inf.degree(),dop2masscase9inf.indicial_polynomial(z).factor()]"
   ]
  },
  {
   "cell_type": "markdown",
   "metadata": {},
   "source": [
    "<center><b>three scoop-mass cases</b></center>"
   ]
  },
  {
   "cell_type": "markdown",
   "metadata": {},
   "source": [
    "$$F := (169*x1 + 361*x2 + 4*x3 + 4*x4 + 4*x5)*(x1*x3*x4 + x2*x3*x4 + x1*x3*x5 + x2*x3*x5 + x1*x4*x5 + x2*x4*x5 + x3*x4*x5) - t*((729*x1 + 2401*x2)*x3*x4*x5 + 1296*x1*x2*(x4*x5 + x3*(x4 + x5)));$$"
   ]
  },
  {
   "cell_type": "code",
   "execution_count": 42,
   "metadata": {},
   "outputs": [
    {
     "data": {
      "text/plain": [
       "[4,\n",
       " 26,\n",
       " (-283196626777427659887395620873909739445278418490575353364107568465896878131150394527744) * (alpha - 3)^2 * (alpha - 2)^2]"
      ]
     },
     "execution_count": 42,
     "metadata": {},
     "output_type": "execute_result"
    }
   ],
   "source": [
    "s = open(\"PFIcecream-2scoop-3mass-case1.txt\").readlines()[0]\n",
    "dop3masscase1 = OA(s.replace(\"^\", \"**\").replace(\"t\", \"z\").replace(\"D\", \"Dz\"))\n",
    "dop3masscase1inf=dop3masscase1.annihilator_of_composition(1/z)\n",
    "[dop3masscase1inf.order(),dop3masscase1inf.degree(),dop3masscase1inf.indicial_polynomial(z).factor()]"
   ]
  },
  {
   "cell_type": "markdown",
   "metadata": {},
   "source": [
    "$$F:= -(t*(1296*x1*x2*x3*x4 + 729*x1*x2*x3*x5 + 2401*x1*x2*x4*x5 + 1296*x1*x3*x4*x5 + 1296*x2*x3*x4*x5)) + (361*x1 + 4*x2 + 49*x3 + 121*x4 + 169*x5)*(x1*x2*(x3 + x4) + (x2*(x3 + x4) + x1*(x2 + x3 + x4))*x5);\n",
    "$$"
   ]
  },
  {
   "cell_type": "code",
   "execution_count": 41,
   "metadata": {},
   "outputs": [
    {
     "data": {
      "text/plain": [
       "[4,\n",
       " 42,\n",
       " (1625041718491646840467772282749848916591542931704919497238481357949131646825783302963047344379661614204354799927701024707127487066175576497393664) * (alpha - 3)^2 * (alpha - 2)^2]"
      ]
     },
     "execution_count": 41,
     "metadata": {},
     "output_type": "execute_result"
    }
   ],
   "source": [
    "s = open(\"PFIcecream-2scoop-3mass-case2.txt\").readlines()[0]\n",
    "dop3masscase2 = OA(s.replace(\"^\", \"**\").replace(\"t\", \"z\").replace(\"D\", \"Dz\"))\n",
    "dop3masscase2inf=dop3masscase2.annihilator_of_composition(1/z)\n",
    "[dop3masscase2inf.order(),dop3masscase2inf.degree(),dop3masscase2inf.indicial_polynomial(z).factor()]"
   ]
  },
  {
   "cell_type": "markdown",
   "metadata": {},
   "source": [
    "$$F12 := (169*x1 + 361*x2 + 4*x3 + 49*x4 + 121*x5)*(x1*x3*x4 + x2*x3*x4 + x1*x3*x5 + x2*x3*x5 + x1*x4*x5 + x2*x4*x5 + x3*x4*x5) - t*((729*x1 + 2401*x2)*x3*x4*x5 + 1296*x1*x2*(x4*x5 + x3*(x4 + x5)));\n",
    "$$"
   ]
  },
  {
   "cell_type": "code",
   "execution_count": 40,
   "metadata": {
    "scrolled": true
   },
   "outputs": [
    {
     "data": {
      "text/plain": [
       "[4,\n",
       " 42,\n",
       " (8868535386611439629212434956247257524929062110277994570604450701082424306003083336915880268388435447677445158230976414854918510817655360675369488384) * (alpha - 3)^2 * (alpha - 2)^2]"
      ]
     },
     "execution_count": 40,
     "metadata": {},
     "output_type": "execute_result"
    }
   ],
   "source": [
    "s = open(\"PFIcecream-2scoop-3mass-case3.txt\").readlines()[0]\n",
    "dop3masscase3 = OA(s.replace(\"^\", \"**\").replace(\"t\", \"z\").replace(\"D\", \"Dz\"))\n",
    "dop3masscase3inf=dop3masscase3.annihilator_of_composition(1/z)\n",
    "[dop3masscase3inf.order(),dop3masscase3inf.degree(),dop3masscase3inf.indicial_polynomial(z).factor()]"
   ]
  },
  {
   "cell_type": "code",
   "execution_count": null,
   "metadata": {},
   "outputs": [],
   "source": []
  }
 ],
 "metadata": {
  "kernelspec": {
   "display_name": "SageMath 9.6",
   "language": "sage",
   "name": "sagemath-9.6"
  },
  "language_info": {
   "codemirror_mode": {
    "name": "ipython",
    "version": 3
   },
   "file_extension": ".py",
   "mimetype": "text/x-python",
   "name": "python",
   "nbconvert_exporter": "python",
   "pygments_lexer": "ipython3",
   "version": "3.10.3"
  }
 },
 "nbformat": 4,
 "nbformat_minor": 1
}
