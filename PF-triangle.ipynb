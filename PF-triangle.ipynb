{
 "cells": [
  {
   "cell_type": "markdown",
   "metadata": {},
   "source": [
    "<H3><center><b>Picard-Fuchs equation for the massive triangle in two dimensions</b></center></H3>\n",
    "$$\n",
    "U=x_1+x_2+x_3\n",
    "$$\n",
    "$$L=m_1^2 x_1 + m_2^2x_2 + m_3^2x_3$$\n",
    "$$V=p_2^2 x_1 x_2 + p_1^2 x_1 x_3 + p_3^2 x_2 x_3$$\n",
    "$$Int = {U\\over\n",
    "     \\left(\n",
    "      UL-tV \\right)^2}\n",
    "$$"
   ]
  },
  {
   "cell_type": "markdown",
   "metadata": {},
   "source": [
    "The masses of the scoop is $\\mu_1$  and the masses of the cone $m_1$ and $m_2$.\n",
    "The momentum inflowing the cone is $p_2$"
   ]
  },
  {
   "cell_type": "markdown",
   "metadata": {},
   "source": [
    "The  Picard-Fuchs operator is of order 1\n",
    "$$\n",
    "L_t=\\sum_{r=0}^1 q_r(t) \\left(d\\over dt\\right)^r\n",
    "$$"
   ]
  },
  {
   "cell_type": "code",
   "execution_count": 1,
   "metadata": {},
   "outputs": [],
   "source": [
    "q = dict()\n",
    "with open(\"PFtriangle-Coefficients.txt\") as f:\n",
    "    for e in f.read().replace(\"\\n\", \"\").split(\";\"):\n",
    "        if e:\n",
    "            name, expr = e.split(\":=\")\n",
    "            name = name.strip()\n",
    "            expr = SR(expr)\n",
    "            if name[0] == \"c\":\n",
    "                q[int(name[1:])] = expr"
   ]
  },
  {
   "cell_type": "code",
   "execution_count": 2,
   "metadata": {},
   "outputs": [
    {
     "data": {
      "text/plain": [
       "-(m1^2*m2^2*p12 - m2^4*p12 - m1^2*m3^2*p12 + m2^2*m3^2*p12 - m1^2*m2^2*p22 + m1^2*m3^2*p22 + m2^2*m3^2*p22 - m3^4*p22 - m1^4*p32 + m1^2*m2^2*p32 + m1^2*m3^2*p32 - m2^2*m3^2*p32 - m2^2*p12^2*t + m2^2*p12*p22*t + m3^2*p12*p22*t - m3^2*p22^2*t + m1^2*p12*p32*t + m2^2*p12*p32*t + m1^2*p22*p32*t + m3^2*p22*p32*t - m1^2*p32^2*t - p12*p22*p32*t^2)*(m1^2*p12 - m2^2*p12 - m1^2*p22 - m2^2*p22 + 2*m3^2*p22 - m1^2*p32 + m2^2*p32 - p12*p22*t + p22^2*t - p22*p32*t)*(m1^2 + 2*m1*m2 + m2^2 - p22*t)*(m1^2 - 2*m1*m2 + m2^2 - p22*t)"
      ]
     },
     "execution_count": 2,
     "metadata": {},
     "output_type": "execute_result"
    }
   ],
   "source": [
    "q[1]"
   ]
  },
  {
   "cell_type": "code",
   "execution_count": 3,
   "metadata": {},
   "outputs": [
    {
     "data": {
      "text/plain": [
       "m1^6*m2^2*p12^3 - 3*m1^4*m2^4*p12^3 + 3*m1^2*m2^6*p12^3 - m2^8*p12^3 - 2*m1^6*m2^2*p12^2*p22 + 6*m1^4*m2^4*p12^2*p22 - 6*m1^2*m2^6*p12^2*p22 + 2*m2^8*p12^2*p22 - m1^6*m3^2*p12^2*p22 + 3*m1^4*m2^2*m3^2*p12^2*p22 - 3*m1^2*m2^4*m3^2*p12^2*p22 + m2^6*m3^2*p12^2*p22 + m1^6*m2^2*p12*p22^2 - 7*m1^4*m2^4*p12*p22^2 + 5*m1^2*m2^6*p12*p22^2 + m2^8*p12*p22^2 + 2*m1^6*m3^2*p12*p22^2 + 2*m1^4*m2^2*m3^2*p12*p22^2 + 2*m1^2*m2^4*m3^2*p12*p22^2 - 6*m2^6*m3^2*p12*p22^2 - 4*m1^4*m3^4*p12*p22^2 + 2*m1^2*m2^2*m3^4*p12*p22^2 + 2*m2^4*m3^4*p12*p22^2 + 4*m1^4*m2^4*p22^3 - m1^6*m3^2*p22^3 - 5*m1^4*m2^2*m3^2*p22^3 - 5*m1^2*m2^4*m3^2*p22^3 - m2^6*m3^2*p22^3 + 4*m1^4*m3^4*p22^3 + 4*m1^2*m2^2*m3^4*p22^3 + 4*m2^4*m3^4*p22^3 - 2*m1^2*m3^6*p22^3 - 2*m2^2*m3^6*p22^3 - m1^8*p12^2*p32 + m1^6*m2^2*p12^2*p32 + 3*m1^4*m2^4*p12^2*p32 - 5*m1^2*m2^6*p12^2*p32 + 2*m2^8*p12^2*p32 + m1^8*p22^2*p32 + 5*m1^6*m2^2*p22^2*p32 - 7*m1^4*m2^4*p22^2*p32 + m1^2*m2^6*p22^2*p32 - 6*m1^6*m3^2*p22^2*p32 + 2*m1^4*m2^2*m3^2*p22^2*p32 + 2*m1^2*m2^4*m3^2*p22^2*p32 + 2*m2^6*m3^2*p22^2*p32 + 2*m1^4*m3^4*p22^2*p32 + 2*m1^2*m2^2*m3^4*p22^2*p32 - 4*m2^4*m3^4*p22^2*p32 + 2*m1^8*p12*p32^2 - 5*m1^6*m2^2*p12*p32^2 + 3*m1^4*m2^4*p12*p32^2 + m1^2*m2^6*p12*p32^2 - m2^8*p12*p32^2 + 2*m1^8*p22*p32^2 - 6*m1^6*m2^2*p22*p32^2 + 6*m1^4*m2^4*p22*p32^2 - 2*m1^2*m2^6*p22*p32^2 + m1^6*m3^2*p22*p32^2 - 3*m1^4*m2^2*m3^2*p22*p32^2 + 3*m1^2*m2^4*m3^2*p22*p32^2 - m2^6*m3^2*p22*p32^2 - m1^8*p32^3 + 3*m1^6*m2^2*p32^3 - 3*m1^4*m2^4*p32^3 + m1^2*m2^6*p32^3 - 3*m1^4*m2^2*p12^3*p22*t + 3*m2^6*p12^3*p22*t + 6*m1^4*m2^2*p12^2*p22^2*t + 8*m1^2*m2^4*p12^2*p22^2*t - 2*m2^6*p12^2*p22^2*t + 3*m1^4*m3^2*p12^2*p22^2*t - 8*m1^2*m2^2*m3^2*p12^2*p22^2*t - 7*m2^4*m3^2*p12^2*p22^2*t - 3*m1^4*m2^2*p12*p22^3*t - 8*m1^2*m2^4*p12*p22^3*t - 3*m2^6*p12*p22^3*t - 6*m1^4*m3^2*p12*p22^3*t + 10*m2^4*m3^2*p12*p22^3*t + 8*m1^2*m3^4*p12*p22^3*t + 2*m2^2*m3^4*p12*p22^3*t + 3*m1^4*m3^2*p22^4*t + 8*m1^2*m2^2*m3^2*p22^4*t + 3*m2^4*m3^2*p22^4*t - 8*m1^2*m3^4*p22^4*t - 8*m2^2*m3^4*p22^4*t + 2*m3^6*p22^4*t + 5*m1^6*p12^2*p22*p32*t + 3*m1^2*m2^4*p12^2*p22*p32*t - 8*m2^6*p12^2*p22*p32*t - 2*m1^6*p12*p22^2*p32*t - 10*m1^4*m2^2*p12*p22^2*p32*t - 10*m1^2*m2^4*p12*p22^2*p32*t - 2*m2^6*p12*p22^2*p32*t + 8*m1^4*m3^2*p12*p22^2*p32*t + 8*m1^2*m2^2*m3^2*p12*p22^2*p32*t + 8*m2^4*m3^2*p12*p22^2*p32*t - 3*m1^6*p22^3*p32*t - 8*m1^4*m2^2*p22^3*p32*t - 3*m1^2*m2^4*p22^3*p32*t + 10*m1^4*m3^2*p22^3*p32*t - 6*m2^4*m3^2*p22^3*p32*t + 2*m1^2*m3^4*p22^3*p32*t + 8*m2^2*m3^4*p22^3*p32*t - 8*m1^6*p12*p22*p32^2*t + 3*m1^4*m2^2*p12*p22*p32^2*t + 5*m2^6*p12*p22*p32^2*t - 2*m1^6*p22^2*p32^2*t + 8*m1^4*m2^2*p22^2*p32^2*t + 6*m1^2*m2^4*p22^2*p32^2*t - 7*m1^4*m3^2*p22^2*p32^2*t - 8*m1^2*m2^2*m3^2*p22^2*p32^2*t + 3*m2^4*m3^2*p22^2*p32^2*t + 3*m1^6*p22*p32^3*t - 3*m1^2*m2^4*p22*p32^3*t + 3*m1^2*m2^2*p12^3*p22^2*t^2 - m2^4*p12^3*p22^2*t^2 - 6*m1^2*m2^2*p12^2*p22^3*t^2 - 2*m2^4*p12^2*p22^3*t^2 - 3*m1^2*m3^2*p12^2*p22^3*t^2 + 5*m2^2*m3^2*p12^2*p22^3*t^2 + 3*m1^2*m2^2*p12*p22^4*t^2 + 3*m2^4*p12*p22^4*t^2 + 6*m1^2*m3^2*p12*p22^4*t^2 - 2*m2^2*m3^2*p12*p22^4*t^2 - 4*m3^4*p12*p22^4*t^2 - 3*m1^2*m3^2*p22^5*t^2 - 3*m2^2*m3^2*p22^5*t^2 + 4*m3^4*p22^5*t^2 - 9*m1^4*p12^2*p22^2*p32*t^2 - m1^2*m2^2*p12^2*p22^2*p32*t^2 + 8*m2^4*p12^2*p22^2*p32*t^2 + 6*m1^4*p12*p22^3*p32*t^2 + 16*m1^2*m2^2*p12*p22^3*p32*t^2 + 6*m2^4*p12*p22^3*p32*t^2 - 16*m1^2*m3^2*p12*p22^3*p32*t^2 - 16*m2^2*m3^2*p12*p22^3*p32*t^2 + 3*m1^4*p22^4*p32*t^2 + 3*m1^2*m2^2*p22^4*p32*t^2 - 2*m1^2*m3^2*p22^4*p32*t^2 + 6*m2^2*m3^2*p22^4*p32*t^2 - 4*m3^4*p22^4*p32*t^2 + 8*m1^4*p12*p22^2*p32^2*t^2 - m1^2*m2^2*p12*p22^2*p32^2*t^2 - 9*m2^4*p12*p22^2*p32^2*t^2 - 2*m1^4*p22^3*p32^2*t^2 - 6*m1^2*m2^2*p22^3*p32^2*t^2 + 5*m1^2*m3^2*p22^3*p32^2*t^2 - 3*m2^2*m3^2*p22^3*p32^2*t^2 - m1^4*p22^2*p32^3*t^2 + 3*m1^2*m2^2*p22^2*p32^3*t^2 - m2^2*p12^3*p22^3*t^3 + 2*m2^2*p12^2*p22^4*t^3 + m3^2*p12^2*p22^4*t^3 - m2^2*p12*p22^5*t^3 - 2*m3^2*p12*p22^5*t^3 + m3^2*p22^6*t^3 + 7*m1^2*p12^2*p22^3*p32*t^3 - 6*m1^2*p12*p22^4*p32*t^3 - 6*m2^2*p12*p22^4*p32*t^3 + 8*m3^2*p12*p22^4*p32*t^3 - m1^2*p22^5*p32*t^3 - 2*m3^2*p22^5*p32*t^3 + 7*m2^2*p12*p22^3*p32^2*t^3 + 2*m1^2*p22^4*p32^2*t^3 + m3^2*p22^4*p32^2*t^3 - m1^2*p22^3*p32^3*t^3 - 2*p12^2*p22^4*p32*t^4 + 2*p12*p22^5*p32*t^4 - 2*p12*p22^4*p32^2*t^4"
      ]
     },
     "execution_count": 3,
     "metadata": {},
     "output_type": "execute_result"
    }
   ],
   "source": [
    "q[0]"
   ]
  },
  {
   "cell_type": "code",
   "execution_count": null,
   "metadata": {},
   "outputs": [],
   "source": []
  }
 ],
 "metadata": {
  "kernelspec": {
   "display_name": "SageMath 9.6",
   "language": "sage",
   "name": "sagemath-9.6"
  },
  "language_info": {
   "codemirror_mode": {
    "name": "ipython",
    "version": 3
   },
   "file_extension": ".py",
   "mimetype": "text/x-python",
   "name": "python",
   "nbconvert_exporter": "python",
   "pygments_lexer": "ipython3",
   "version": "3.10.3"
  }
 },
 "nbformat": 4,
 "nbformat_minor": 1
}
